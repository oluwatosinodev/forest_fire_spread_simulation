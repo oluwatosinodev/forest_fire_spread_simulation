{
 "cells": [
  {
   "cell_type": "code",
   "execution_count": null,
   "id": "74640b5f",
   "metadata": {},
   "outputs": [],
   "source": [
    "# import libraries for the simulation\n",
    "\n",
    "from random import random\n",
    "from time import time\n",
    "import numpy as np\n",
    "from matplotlib import colors, pyplot as plt \n",
    "from matplotlib.animation import FuncAnimation\n",
    "import numba as nb"
   ]
  },
  {
   "cell_type": "code",
   "execution_count": null,
   "id": "f3245a1f",
   "metadata": {},
   "outputs": [],
   "source": [
    "# gathering information for initializing the forest\n",
    "\n",
    "UNOCUPPIED = 0 # represents an area on the site unoccupied by a tree\n",
    "TREE_WITHOUT_FIRE = 1 # represents an area on the site with tree but no fire \n",
    "TREE_WITH_FIRE = 2 # represents an area on the site with a tree and fire\n",
    "SITE_BOUNDARY = 3 # represents the forest site's boundary\n",
    "\n",
    "probTree = 0.8 # the probability that a tree ocupies the site area\n",
    "probBurning = 0.01 # the probability that a tree is burning\n",
    "probImmune = 0.3 # the probability that a tree does not burn and is immune to fire\n",
    "probLightning = 0.001 # the probability that the site area suffered lightning strikes"
   ]
  },
  {
   "cell_type": "markdown",
   "id": "b6de1daa",
   "metadata": {},
   "source": [
    "Non Parallel Forest Fire Spread Simulation"
   ]
  },
  {
   "cell_type": "code",
   "execution_count": null,
   "id": "22923da4",
   "metadata": {},
   "outputs": [],
   "source": [
    "def initForestSite(n):\n",
    "    forest = np.zeros((n, n))\n",
    "    for i in range(n):\n",
    "        for j in range(n):\n",
    "            if random() < probTree:\n",
    "                forest[i, j] = TREE_WITHOUT_FIRE\n",
    "            else:\n",
    "                forest[i, j] = UNOCUPPIED\n",
    "    return forest"
   ]
  },
  {
   "cell_type": "code",
   "execution_count": null,
   "id": "d5891698",
   "metadata": {},
   "outputs": [],
   "source": [
    "def FireSpreadingWithMooreAlgorithm(forest, n):\n",
    "    for i in range(n):\n",
    "        for j in range(n):\n",
    "            if forest[i, j] == TREE_WITH_FIRE:\n",
    "                forest[i, j] = TREE_WITHOUT_FIRE\n",
    "            elif forest[i, j] == TREE_WITHOUT_FIRE:\n",
    "                if random() < probBurning:\n",
    "                    forest[i, j] = TREE_WITH_FIRE\n",
    "    return forest"
   ]
  },
  {
   "cell_type": "code",
   "execution_count": null,
   "id": "6c57f0da",
   "metadata": {},
   "outputs": [],
   "source": [
    "def VisualizeSimulation(forest, n):\n",
    "    fig, ax = plt.subplots()\n",
    "    im = ax.imshow(forest, cmap='hot', interpolation='nearest')\n",
    "    def animate(i):\n",
    "        im.set_array(forest)\n",
    "        return im,\n",
    "    anim = ArtistAnimation(fig, animate(0), interval=100, blit=True)\n",
    "    plt.show()"
   ]
  },
  {
   "cell_type": "code",
   "execution_count": null,
   "id": "7f22c212",
   "metadata": {},
   "outputs": [],
   "source": [
    "initialTime = time.time()\n",
    "\n",
    "TotalRuntime = time.time() - initialTime\n",
    "print(\"Total Runtime: \", TotalRuntime)"
   ]
  },
  {
   "cell_type": "markdown",
   "id": "b1988430",
   "metadata": {},
   "source": [
    "Parallelizing the Fire Spread Simulation"
   ]
  },
  {
   "cell_type": "code",
   "execution_count": null,
   "id": "6b1d39ba",
   "metadata": {},
   "outputs": [],
   "source": []
  }
 ],
 "metadata": {
  "kernelspec": {
   "display_name": "venv",
   "language": "python",
   "name": "venv"
  },
  "language_info": {
   "codemirror_mode": {
    "name": "ipython",
    "version": 3
   },
   "file_extension": ".py",
   "mimetype": "text/x-python",
   "name": "python",
   "nbconvert_exporter": "python",
   "pygments_lexer": "ipython3",
   "version": "3.10.0"
  }
 },
 "nbformat": 4,
 "nbformat_minor": 5
}
