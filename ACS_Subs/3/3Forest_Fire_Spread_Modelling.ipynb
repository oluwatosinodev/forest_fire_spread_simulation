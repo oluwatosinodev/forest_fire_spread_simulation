{
 "cells": [
  {
   "cell_type": "code",
   "execution_count": null,
   "id": "9be00a7e",
   "metadata": {},
   "outputs": [],
   "source": [
    "# import modelling packages required for the simulation\n",
    "from matplotlib import pyplot as plt, animation\n",
    "from random import random\n",
    "import time\n",
    "import multiprocessing as mp\n",
    "import numpy as np"
   ]
  },
  {
   "cell_type": "code",
   "execution_count": null,
   "id": "dad5559a",
   "metadata": {},
   "outputs": [],
   "source": [
    "# collecting details for the forest initialization and fire spread\n",
    "\n",
    "BURNING_TREE = 2 # number representing an area with a burning tree\n",
    "EMPTY_GROUND = 0 # number representing an empty ground\n",
    "NORMAL_TREE = 1 # number representing an area with tree that has no fire\n",
    "BOUNDARY = 3 # number representing the boundary of the forest site\n",
    "\n",
    "probTree = 0.8 # probability that there was initially a tree in the area\n",
    "probLightning = 0.001 # probability that lightning strikes the area\n",
    "probBurning = 0.01 # probability that there is a tree burning in the area\n",
    "probImmune = 0.3 # probability that there is a tree immune to the burning fire in the area"
   ]
  },
  {
   "cell_type": "markdown",
   "id": "b40de57a",
   "metadata": {},
   "source": [
    "Non-Parallel Modelling of the Spread of Forest Fires"
   ]
  },
  {
   "cell_type": "code",
   "execution_count": null,
   "id": "4f93c72b",
   "metadata": {},
   "outputs": [],
   "source": [
    "def initForest(forest, rows, cols):\n",
    "    # initializing the forest with trees, fire, boundary and empty ground,\n",
    "    \n",
    "    forest = np.ones((rows + 2, cols + 2)) * BOUNDARY\n",
    "    \n",
    "    for i in range(1, rows + 1):\n",
    "        for j in range(1, cols + 1):\n",
    "            # randomly choosing whether there is a tree or not\n",
    "            # if the random number is less than the probability of a tree, then there is a tree\n",
    "            if random() < probTree:\n",
    "                forest[i][j] = NORMAL_TREE\n",
    "            # else if the random number is less than the probability the tree is burning then there is a burning tree\n",
    "            elif random() < probBurning:\n",
    "                forest[i][j] = BURNING_TREE\n",
    "            # else it just an empty ground\n",
    "            else:\n",
    "                forest[i][j] = EMPTY_GROUND"
   ]
  },
  {
   "cell_type": "code",
   "execution_count": null,
   "id": "9ac6fb67",
   "metadata": {},
   "outputs": [],
   "source": [
    "# converting the von Neumann neighborhood into Moore neighborhood as specified in the assignment\n",
    "def SpreadTheFireUsingMoore(forest, rows, cols):\n",
    "    # spreading the fire in the forest\n",
    "    for i in range(rows + 2):\n",
    "        for j in range(cols + 2):\n",
    "            if forest[i][j] == EMPTY_GROUND:\n",
    "                # if the area is empty ground, then there would be no fire\n",
    "                forest[i][j] = EMPTY_GROUND\n",
    "                \n",
    "                # if there is a tree in the area, fire can spread to the area\n",
    "            elif forest[i][j] == NORMAL_TREE:\n",
    "                \n",
    "                # if the tree is immune to fire, then it cannot burn, it remains a normal tree\n",
    "                if random() < probImmune:\n",
    "                    forest[i][j] = NORMAL_TREE\n",
    "                    \n",
    "                # but if a neighbouring area is burning, then the tree burns, we'll check the 8 neighbouring areas\n",
    "                # north, south, east, west, north-east, north-west, south-east, south-west\n",
    "                elif (forest[i - 1][j] == BURNING_TREE or forest[i + 1][j] == BURNING_TREE or \n",
    "                        forest[i][j - 1] == BURNING_TREE or forest[i][j + 1] == BURNING_TREE or \n",
    "                        forest[i - 1][j - 1] == BURNING_TREE or forest[i - 1][j + 1] == BURNING_TREE or \n",
    "                        forest[i + 1][j - 1] == BURNING_TREE or forest[i + 1][j + 1] == BURNING_TREE):\n",
    "                        forest[i - 1][j] = BURNING_TREE\n",
    "                    \n",
    "                # if lightning strikes, then the tree burns\n",
    "                elif random() < probLightning:\n",
    "                    forest[i][j] = BURNING_TREE\n",
    "                    \n",
    "                # otherwise, the tree remains a normal tree\n",
    "                else:\n",
    "                    forest[i][j] = NORMAL_TREE\n",
    "            \n",
    "            # if it's a burning tree, then the tree burns to the ground\n",
    "            elif forest[i][j] == BURNING_TREE:\n",
    "                forest[i][j] = EMPTY_GROUND\n",
    "            else:\n",
    "                forest[i][j] = BOUNDARY\n",
    "                    \n",
    "    return forest"
   ]
  },
  {
   "cell_type": "code",
   "execution_count": null,
   "id": "f09b07d8",
   "metadata": {},
   "outputs": [],
   "source": [
    "def visualizeForestSiteModel(forest, rows, cols):\n",
    "    # visualizing the forest site\n",
    "    for i in range(rows):\n",
    "        for j in range(cols):\n",
    "            if forest[i][j] == BURNING_TREE:\n",
    "                print(\"*\", end=\"\")\n",
    "            elif forest[i][j] == NORMAL_TREE:\n",
    "                print(\"T\", end=\"\")\n",
    "            elif forest[i][j] == EMPTY_GROUND:\n",
    "                print(\"-\", end=\"\")\n",
    "            elif forest[i][j] == BOUNDARY:\n",
    "                print(\"#\", end=\"\")\n",
    "        print()"
   ]
  },
  {
   "cell_type": "code",
   "execution_count": null,
   "id": "0f862e85",
   "metadata": {},
   "outputs": [],
   "source": [
    "TimeAtStart = time.time()\n",
    "\n",
    "timeElapsed = time.time() - TimeAtStart\n",
    "print(\"Time elapsed: \", timeElapsed)"
   ]
  },
  {
   "cell_type": "markdown",
   "id": "9a1e1040",
   "metadata": {},
   "source": [
    "Parallelizing the Modelling of the Spread of Forest Fires"
   ]
  },
  {
   "cell_type": "code",
   "execution_count": null,
   "id": "9dcc9a48",
   "metadata": {},
   "outputs": [],
   "source": []
  }
 ],
 "metadata": {
  "kernelspec": {
   "display_name": "venv",
   "language": "python",
   "name": "venv"
  },
  "language_info": {
   "codemirror_mode": {
    "name": "ipython",
    "version": 3
   },
   "file_extension": ".py",
   "mimetype": "text/x-python",
   "name": "python",
   "nbconvert_exporter": "python",
   "pygments_lexer": "ipython3",
   "version": "3.10.0"
  }
 },
 "nbformat": 4,
 "nbformat_minor": 5
}
