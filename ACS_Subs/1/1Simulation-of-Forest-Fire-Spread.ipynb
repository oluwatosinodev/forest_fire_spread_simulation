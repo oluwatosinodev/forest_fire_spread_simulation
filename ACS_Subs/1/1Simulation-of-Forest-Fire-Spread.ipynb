{
 "cells": [
  {
   "cell_type": "code",
   "execution_count": 2,
   "id": "9374db9a",
   "metadata": {},
   "outputs": [],
   "source": [
    "# import needed libraries\n",
    "import time\n",
    "from random import *\n",
    "from matplotlib import animation, pyplot as plt\n",
    "import numpy as np\n",
    "import numba"
   ]
  },
  {
   "cell_type": "code",
   "execution_count": 3,
   "id": "1535f027",
   "metadata": {},
   "outputs": [],
   "source": [
    "# gathering information for initializing the forest\n",
    "\n",
    "GROUND = 0 # represents an empty ground\n",
    "NON_BURNING_TREE = 1 # represents an area with a non burning tree\n",
    "BURNING_TREE = 2 # represents an area with a burning tree\n",
    "BORDERLINE = 3 # represents borderline around the forest\n",
    "\n",
    "animation_delay = 400 # represents the delay between each frame of the animation in milliseconds, frame means after spread of fire\n",
    "\n",
    "probTree = 0.8 # represents the probability that a tree initially ocupies the area\n",
    "probBurning = 0.01 # represents the probability that a tree is burning\n",
    "probImmune = 0.3 # represents the probability that a tree is immune to fire\n",
    "probLightning = 0.001 # represents the probability that an area suffered a lightning strike"
   ]
  },
  {
   "cell_type": "markdown",
   "id": "460ad103",
   "metadata": {},
   "source": [
    "Non Parallel Simulation of the Spread"
   ]
  },
  {
   "cell_type": "code",
   "execution_count": 4,
   "id": "17798ce5",
   "metadata": {},
   "outputs": [],
   "source": [
    "# here we create a function to initialize the forest site\n",
    "def initForestState(sizeOfForest):\n",
    "    \n",
    "    # creating a multidimensional array of size sizeOfForest with one row and column\n",
    "    # of borderline to all sides of the forest.\n",
    "    # (assumming the site is firstly created with all borderlines),\n",
    "    forestGrid = np.ones((sizeOfForest + 2, sizeOfForest + 2)) * BORDERLINE\n",
    "    \n",
    "    # now we fill the forest with trees, according to the given probabilities above\n",
    "    # looping through the forest grids (excluding the borders) and assigning the values\n",
    "    # for the ground, trees and burning trees\n",
    "    for i in range(1, sizeOfForest + 1):\n",
    "        for j in range(1, sizeOfForest + 1):\n",
    "            \n",
    "            # we check for a burning tree and tree at this position\n",
    "            # but there has to be a tree, for the tree to be burning\n",
    "            # so let's check for a tree first\n",
    "            if random() < probTree:\n",
    "                if random() < probBurning:\n",
    "                    # the area contains a burning tree\n",
    "                    forestGrid[i, j] = BURNING_TREE\n",
    "                else:\n",
    "                    # the area contains a non burning tree\n",
    "                    forestGrid[i, j] = NON_BURNING_TREE\n",
    "            else:\n",
    "                # the area is empty\n",
    "                forestGrid[i, j] = GROUND\n",
    "                \n",
    "    # returning the forest grid\n",
    "    return forestGrid\n",
    "    "
   ]
  },
  {
   "cell_type": "code",
   "execution_count": 5,
   "id": "70bbbda3",
   "metadata": {},
   "outputs": [],
   "source": [
    "# spread the fire with Moore neighborhood algorithm\n",
    "\n",
    "def spreadTheFireWithMoore(sizeOfForest, forest):\n",
    "    \n",
    "    # looping through the forest grids (excluding the borders)\n",
    "    for i in range(1, sizeOfForest + 1):\n",
    "        for j in range(1, sizeOfForest + 1):\n",
    "            \n",
    "            # if the area is a tree\n",
    "            if forest[i,j] == NON_BURNING_TREE:\n",
    "                    \n",
    "                # see if there's a burning tree next to the area\n",
    "                # von Neumann neighborhood are 4-neighborhoods (north, south, east and west) but we won't use them\n",
    "                # the 8 moore neighborhoods (north, north-east, north-west, south, south-east, south-west, west, east)\n",
    "                # can tell us if there's a burning tree\n",
    "                if (forest[i - 1, j] == BURNING_TREE or forest[i + 1, j] == BURNING_TREE or \n",
    "                    forest[i, j - 1] == BURNING_TREE or forest[i, j + 1] == BURNING_TREE or \n",
    "                    forest[i - 1, j - 1] == BURNING_TREE or forest[i - 1, j + 1] == BURNING_TREE or \n",
    "                    forest[i + 1, j - 1] == BURNING_TREE or forest[i + 1, j + 1] == BURNING_TREE):\n",
    "                    forest[i - 1, j] = BURNING_TREE # tree will burn\n",
    "    \n",
    "                    # if the area is immune to fire the tree does not burn\n",
    "                    if random() < probImmune:\n",
    "                        forest[i,j] = NON_BURNING_TREE\n",
    "                    else:\n",
    "                        forest[i,j] = BURNING_TREE\n",
    "                        \n",
    "                # if the area suffered a lightning strike the tree burns\n",
    "                elif random() < probLightning:\n",
    "                    \n",
    "                    # if the area is immune to fire the tree does not burn\n",
    "                    if random() < probImmune:\n",
    "                        forest[i,j] = NON_BURNING_TREE\n",
    "                    else:\n",
    "                        forest[i,j] = BURNING_TREE\n",
    "                \n",
    "                # else the tree doesn't burn cause there are burning influences\n",
    "                else:\n",
    "                    forest[i, j] = NON_BURNING_TREE \n",
    "            \n",
    "            # if the area is already a burning tree, then the tree burns to the ground\n",
    "            elif forest[i, j] == BURNING_TREE:\n",
    "                forest[i, j] = GROUND\n",
    "            \n",
    "            # otherwise the area remains empty if it's a ground\n",
    "            else:\n",
    "                forest[i, j] = GROUND\n",
    "            \n",
    "    return forest"
   ]
  },
  {
   "cell_type": "code",
   "execution_count": 6,
   "id": "40d6e348",
   "metadata": {},
   "outputs": [],
   "source": [
    "def VisualizeForestFireSpread(sizeOfForest, forest, fig_no):\n",
    "        \n",
    "    fig = plt.figure(num=fig_no)\n",
    "    ax = fig.add_subplot(111)\n",
    "    ax.set_title('Simulation of Forest Fire Spread With Size {0}'.format(sizeOfForest))\n",
    "    ax.set_axis_off()\n",
    "    \n",
    "    # select only the forest site with no borderlines\n",
    "    Onlyforest = forest[1:sizeOfForest + 1, 1:sizeOfForest + 1]\n",
    "    \n",
    "    # extend the grid using periodic boundary conditions\n",
    "    \n",
    "    # extending the boundary rows with ghost areas so that we can spread the fire at the site borders too.\n",
    "    rowStack = np.row_stack((Onlyforest[-1,:], Onlyforest, Onlyforest[0,:]))\n",
    "    \n",
    "    # extending the boundary columns with ghost areas so that we can spread the fire at the site borders too.\n",
    "    forestAfterExtension = np.column_stack((rowStack[:,-1], rowStack, rowStack[:,0]))\n",
    "    \n",
    "    # now we can spread the fire  \n",
    "    appliedSpreadForest = spreadTheFireWithMoore(sizeOfForest, forestAfterExtension)\n",
    "    \n",
    "    # remove the ghost areas and return the borderline before plotting\n",
    "    Onlyforest = appliedSpreadForest[1:sizeOfForest + 1, 1:sizeOfForest + 1]\n",
    "    forest[1:sizeOfForest + 1, 1:sizeOfForest + 1] = Onlyforest\n",
    "    \n",
    "    # plot the forest\n",
    "    forestGridVisual = ax.imshow(forest, cmap = 'binary')\n",
    "        \n",
    "    return fig, forest, forestGridVisual"
   ]
  },
  {
   "cell_type": "code",
   "execution_count": 8,
   "id": "538beb2a",
   "metadata": {},
   "outputs": [
    {
     "name": "stderr",
     "output_type": "stream",
     "text": [
      "MovieWriter ffmpeg unavailable; using Pillow instead.\n"
     ]
    },
    {
     "name": "stdout",
     "output_type": "stream",
     "text": [
      "Time elapsed for applying the spread on forest grid size 100: 0.05385422706604004 seconds\n"
     ]
    },
    {
     "ename": "IndexError",
     "evalue": "list index out of range",
     "output_type": "error",
     "traceback": [
      "\u001b[1;31m---------------------------------------------------------------------------\u001b[0m",
      "\u001b[1;31mUnboundLocalError\u001b[0m                         Traceback (most recent call last)",
      "\u001b[1;32mC:\\Program Files (x86)\\Python39-32\\lib\\site-packages\\matplotlib\\animation.py\u001b[0m in \u001b[0;36msaving\u001b[1;34m(self, fig, outfile, dpi, *args, **kwargs)\u001b[0m\n\u001b[0;32m    235\u001b[0m         \u001b[1;32mtry\u001b[0m\u001b[1;33m:\u001b[0m\u001b[1;33m\u001b[0m\u001b[1;33m\u001b[0m\u001b[0m\n\u001b[1;32m--> 236\u001b[1;33m             \u001b[1;32myield\u001b[0m \u001b[0mself\u001b[0m\u001b[1;33m\u001b[0m\u001b[1;33m\u001b[0m\u001b[0m\n\u001b[0m\u001b[0;32m    237\u001b[0m         \u001b[1;32mfinally\u001b[0m\u001b[1;33m:\u001b[0m\u001b[1;33m\u001b[0m\u001b[1;33m\u001b[0m\u001b[0m\n",
      "\u001b[1;32mC:\\Program Files (x86)\\Python39-32\\lib\\site-packages\\matplotlib\\animation.py\u001b[0m in \u001b[0;36msave\u001b[1;34m(self, filename, writer, fps, dpi, codec, bitrate, extra_args, metadata, extra_anim, savefig_kwargs, progress_callback)\u001b[0m\n\u001b[0;32m   1159\u001b[0m             \u001b[1;32mfor\u001b[0m \u001b[0manim\u001b[0m \u001b[1;32min\u001b[0m \u001b[0mall_anim\u001b[0m\u001b[1;33m:\u001b[0m\u001b[1;33m\u001b[0m\u001b[1;33m\u001b[0m\u001b[0m\n\u001b[1;32m-> 1160\u001b[1;33m                 \u001b[0manim\u001b[0m\u001b[1;33m.\u001b[0m\u001b[0m_init_draw\u001b[0m\u001b[1;33m(\u001b[0m\u001b[1;33m)\u001b[0m  \u001b[1;31m# Clear the initial frame\u001b[0m\u001b[1;33m\u001b[0m\u001b[1;33m\u001b[0m\u001b[0m\n\u001b[0m\u001b[0;32m   1161\u001b[0m             \u001b[0mframe_number\u001b[0m \u001b[1;33m=\u001b[0m \u001b[1;36m0\u001b[0m\u001b[1;33m\u001b[0m\u001b[1;33m\u001b[0m\u001b[0m\n",
      "\u001b[1;32mC:\\Program Files (x86)\\Python39-32\\lib\\site-packages\\matplotlib\\animation.py\u001b[0m in \u001b[0;36m_init_draw\u001b[1;34m(self)\u001b[0m\n\u001b[0;32m   1752\u001b[0m         \u001b[1;32mif\u001b[0m \u001b[0mself\u001b[0m\u001b[1;33m.\u001b[0m\u001b[0m_init_func\u001b[0m \u001b[1;32mis\u001b[0m \u001b[1;32mNone\u001b[0m\u001b[1;33m:\u001b[0m\u001b[1;33m\u001b[0m\u001b[1;33m\u001b[0m\u001b[0m\n\u001b[1;32m-> 1753\u001b[1;33m             \u001b[0mself\u001b[0m\u001b[1;33m.\u001b[0m\u001b[0m_draw_frame\u001b[0m\u001b[1;33m(\u001b[0m\u001b[0mnext\u001b[0m\u001b[1;33m(\u001b[0m\u001b[0mself\u001b[0m\u001b[1;33m.\u001b[0m\u001b[0mnew_frame_seq\u001b[0m\u001b[1;33m(\u001b[0m\u001b[1;33m)\u001b[0m\u001b[1;33m)\u001b[0m\u001b[1;33m)\u001b[0m\u001b[1;33m\u001b[0m\u001b[1;33m\u001b[0m\u001b[0m\n\u001b[0m\u001b[0;32m   1754\u001b[0m \u001b[1;33m\u001b[0m\u001b[0m\n",
      "\u001b[1;32mC:\\Program Files (x86)\\Python39-32\\lib\\site-packages\\matplotlib\\animation.py\u001b[0m in \u001b[0;36m_draw_frame\u001b[1;34m(self, framedata)\u001b[0m\n\u001b[0;32m   1775\u001b[0m         \u001b[1;31m# func needs to return a sequence of any artists that were modified.\u001b[0m\u001b[1;33m\u001b[0m\u001b[1;33m\u001b[0m\u001b[1;33m\u001b[0m\u001b[0m\n\u001b[1;32m-> 1776\u001b[1;33m         \u001b[0mself\u001b[0m\u001b[1;33m.\u001b[0m\u001b[0m_drawn_artists\u001b[0m \u001b[1;33m=\u001b[0m \u001b[0mself\u001b[0m\u001b[1;33m.\u001b[0m\u001b[0m_func\u001b[0m\u001b[1;33m(\u001b[0m\u001b[0mframedata\u001b[0m\u001b[1;33m,\u001b[0m \u001b[1;33m*\u001b[0m\u001b[0mself\u001b[0m\u001b[1;33m.\u001b[0m\u001b[0m_args\u001b[0m\u001b[1;33m)\u001b[0m\u001b[1;33m\u001b[0m\u001b[1;33m\u001b[0m\u001b[0m\n\u001b[0m\u001b[0;32m   1777\u001b[0m \u001b[1;33m\u001b[0m\u001b[0m\n",
      "\u001b[1;32m<ipython-input-8-e32324139f63>\u001b[0m in \u001b[0;36manimate\u001b[1;34m(i)\u001b[0m\n\u001b[0;32m     12\u001b[0m \u001b[1;32mdef\u001b[0m \u001b[0manimate\u001b[0m\u001b[1;33m(\u001b[0m\u001b[0mi\u001b[0m\u001b[1;33m)\u001b[0m\u001b[1;33m:\u001b[0m\u001b[1;33m\u001b[0m\u001b[1;33m\u001b[0m\u001b[0m\n\u001b[1;32m---> 13\u001b[1;33m     \u001b[0mforestGridVisual\u001b[0m\u001b[1;33m.\u001b[0m\u001b[0mset_array\u001b[0m\u001b[1;33m(\u001b[0m\u001b[0mforest\u001b[0m\u001b[1;33m)\u001b[0m\u001b[1;33m\u001b[0m\u001b[1;33m\u001b[0m\u001b[0m\n\u001b[0m\u001b[0;32m     14\u001b[0m     \u001b[0mforest\u001b[0m \u001b[1;33m=\u001b[0m \u001b[0mVisualizeForestFireSpread\u001b[0m\u001b[1;33m(\u001b[0m\u001b[0mgridSize\u001b[0m\u001b[1;33m,\u001b[0m \u001b[0mforest\u001b[0m\u001b[1;33m,\u001b[0m \u001b[0mfig_no\u001b[0m\u001b[1;33m)\u001b[0m\u001b[1;33m\u001b[0m\u001b[1;33m\u001b[0m\u001b[0m\n",
      "\u001b[1;31mUnboundLocalError\u001b[0m: local variable 'forest' referenced before assignment",
      "\nDuring handling of the above exception, another exception occurred:\n",
      "\u001b[1;31mIndexError\u001b[0m                                Traceback (most recent call last)",
      "\u001b[1;32m<ipython-input-8-e32324139f63>\u001b[0m in \u001b[0;36m<module>\u001b[1;34m\u001b[0m\n\u001b[0;32m     18\u001b[0m \u001b[1;33m\u001b[0m\u001b[0m\n\u001b[0;32m     19\u001b[0m \u001b[1;31m# saving the animation as an mp4 video file\u001b[0m\u001b[1;33m\u001b[0m\u001b[1;33m\u001b[0m\u001b[1;33m\u001b[0m\u001b[0m\n\u001b[1;32m---> 20\u001b[1;33m \u001b[0manim\u001b[0m\u001b[1;33m.\u001b[0m\u001b[0msave\u001b[0m\u001b[1;33m(\u001b[0m\u001b[1;34m'fire_spread_animation{0}.mp4'\u001b[0m\u001b[1;33m.\u001b[0m\u001b[0mformat\u001b[0m\u001b[1;33m(\u001b[0m\u001b[0mgridSize\u001b[0m\u001b[1;33m)\u001b[0m\u001b[1;33m,\u001b[0m \u001b[0mfps\u001b[0m\u001b[1;33m=\u001b[0m\u001b[1;36m30\u001b[0m\u001b[1;33m)\u001b[0m\u001b[1;33m\u001b[0m\u001b[1;33m\u001b[0m\u001b[0m\n\u001b[0m\u001b[0;32m     21\u001b[0m \u001b[1;33m\u001b[0m\u001b[0m\n\u001b[0;32m     22\u001b[0m \u001b[0mplt\u001b[0m\u001b[1;33m.\u001b[0m\u001b[0mshow\u001b[0m\u001b[1;33m(\u001b[0m\u001b[1;33m)\u001b[0m\u001b[1;33m\u001b[0m\u001b[1;33m\u001b[0m\u001b[0m\n",
      "\u001b[1;32mC:\\Program Files (x86)\\Python39-32\\lib\\site-packages\\matplotlib\\animation.py\u001b[0m in \u001b[0;36msave\u001b[1;34m(self, filename, writer, fps, dpi, codec, bitrate, extra_args, metadata, extra_anim, savefig_kwargs, progress_callback)\u001b[0m\n\u001b[0;32m   1175\u001b[0m                         \u001b[0mprogress_callback\u001b[0m\u001b[1;33m(\u001b[0m\u001b[0mframe_number\u001b[0m\u001b[1;33m,\u001b[0m \u001b[0mtotal_frames\u001b[0m\u001b[1;33m)\u001b[0m\u001b[1;33m\u001b[0m\u001b[1;33m\u001b[0m\u001b[0m\n\u001b[0;32m   1176\u001b[0m                         \u001b[0mframe_number\u001b[0m \u001b[1;33m+=\u001b[0m \u001b[1;36m1\u001b[0m\u001b[1;33m\u001b[0m\u001b[1;33m\u001b[0m\u001b[0m\n\u001b[1;32m-> 1177\u001b[1;33m                 \u001b[0mwriter\u001b[0m\u001b[1;33m.\u001b[0m\u001b[0mgrab_frame\u001b[0m\u001b[1;33m(\u001b[0m\u001b[1;33m**\u001b[0m\u001b[0msavefig_kwargs\u001b[0m\u001b[1;33m)\u001b[0m\u001b[1;33m\u001b[0m\u001b[1;33m\u001b[0m\u001b[0m\n\u001b[0m\u001b[0;32m   1178\u001b[0m \u001b[1;33m\u001b[0m\u001b[0m\n\u001b[0;32m   1179\u001b[0m     \u001b[1;32mdef\u001b[0m \u001b[0m_step\u001b[0m\u001b[1;33m(\u001b[0m\u001b[0mself\u001b[0m\u001b[1;33m,\u001b[0m \u001b[1;33m*\u001b[0m\u001b[0margs\u001b[0m\u001b[1;33m)\u001b[0m\u001b[1;33m:\u001b[0m\u001b[1;33m\u001b[0m\u001b[1;33m\u001b[0m\u001b[0m\n",
      "\u001b[1;32mC:\\Program Files (x86)\\Python39-32\\lib\\contextlib.py\u001b[0m in \u001b[0;36m__exit__\u001b[1;34m(self, type, value, traceback)\u001b[0m\n\u001b[0;32m    133\u001b[0m                 \u001b[0mvalue\u001b[0m \u001b[1;33m=\u001b[0m \u001b[0mtype\u001b[0m\u001b[1;33m(\u001b[0m\u001b[1;33m)\u001b[0m\u001b[1;33m\u001b[0m\u001b[1;33m\u001b[0m\u001b[0m\n\u001b[0;32m    134\u001b[0m             \u001b[1;32mtry\u001b[0m\u001b[1;33m:\u001b[0m\u001b[1;33m\u001b[0m\u001b[1;33m\u001b[0m\u001b[0m\n\u001b[1;32m--> 135\u001b[1;33m                 \u001b[0mself\u001b[0m\u001b[1;33m.\u001b[0m\u001b[0mgen\u001b[0m\u001b[1;33m.\u001b[0m\u001b[0mthrow\u001b[0m\u001b[1;33m(\u001b[0m\u001b[0mtype\u001b[0m\u001b[1;33m,\u001b[0m \u001b[0mvalue\u001b[0m\u001b[1;33m,\u001b[0m \u001b[0mtraceback\u001b[0m\u001b[1;33m)\u001b[0m\u001b[1;33m\u001b[0m\u001b[1;33m\u001b[0m\u001b[0m\n\u001b[0m\u001b[0;32m    136\u001b[0m             \u001b[1;32mexcept\u001b[0m \u001b[0mStopIteration\u001b[0m \u001b[1;32mas\u001b[0m \u001b[0mexc\u001b[0m\u001b[1;33m:\u001b[0m\u001b[1;33m\u001b[0m\u001b[1;33m\u001b[0m\u001b[0m\n\u001b[0;32m    137\u001b[0m                 \u001b[1;31m# Suppress StopIteration *unless* it's the same exception that\u001b[0m\u001b[1;33m\u001b[0m\u001b[1;33m\u001b[0m\u001b[1;33m\u001b[0m\u001b[0m\n",
      "\u001b[1;32mC:\\Program Files (x86)\\Python39-32\\lib\\site-packages\\matplotlib\\animation.py\u001b[0m in \u001b[0;36msaving\u001b[1;34m(self, fig, outfile, dpi, *args, **kwargs)\u001b[0m\n\u001b[0;32m    236\u001b[0m             \u001b[1;32myield\u001b[0m \u001b[0mself\u001b[0m\u001b[1;33m\u001b[0m\u001b[1;33m\u001b[0m\u001b[0m\n\u001b[0;32m    237\u001b[0m         \u001b[1;32mfinally\u001b[0m\u001b[1;33m:\u001b[0m\u001b[1;33m\u001b[0m\u001b[1;33m\u001b[0m\u001b[0m\n\u001b[1;32m--> 238\u001b[1;33m             \u001b[0mself\u001b[0m\u001b[1;33m.\u001b[0m\u001b[0mfinish\u001b[0m\u001b[1;33m(\u001b[0m\u001b[1;33m)\u001b[0m\u001b[1;33m\u001b[0m\u001b[1;33m\u001b[0m\u001b[0m\n\u001b[0m\u001b[0;32m    239\u001b[0m \u001b[1;33m\u001b[0m\u001b[0m\n\u001b[0;32m    240\u001b[0m \u001b[1;33m\u001b[0m\u001b[0m\n",
      "\u001b[1;32mC:\\Program Files (x86)\\Python39-32\\lib\\site-packages\\matplotlib\\animation.py\u001b[0m in \u001b[0;36mfinish\u001b[1;34m(self)\u001b[0m\n\u001b[0;32m    538\u001b[0m \u001b[1;33m\u001b[0m\u001b[0m\n\u001b[0;32m    539\u001b[0m     \u001b[1;32mdef\u001b[0m \u001b[0mfinish\u001b[0m\u001b[1;33m(\u001b[0m\u001b[0mself\u001b[0m\u001b[1;33m)\u001b[0m\u001b[1;33m:\u001b[0m\u001b[1;33m\u001b[0m\u001b[1;33m\u001b[0m\u001b[0m\n\u001b[1;32m--> 540\u001b[1;33m         self._frames[0].save(\n\u001b[0m\u001b[0;32m    541\u001b[0m             \u001b[0mself\u001b[0m\u001b[1;33m.\u001b[0m\u001b[0moutfile\u001b[0m\u001b[1;33m,\u001b[0m \u001b[0msave_all\u001b[0m\u001b[1;33m=\u001b[0m\u001b[1;32mTrue\u001b[0m\u001b[1;33m,\u001b[0m \u001b[0mappend_images\u001b[0m\u001b[1;33m=\u001b[0m\u001b[0mself\u001b[0m\u001b[1;33m.\u001b[0m\u001b[0m_frames\u001b[0m\u001b[1;33m[\u001b[0m\u001b[1;36m1\u001b[0m\u001b[1;33m:\u001b[0m\u001b[1;33m]\u001b[0m\u001b[1;33m,\u001b[0m\u001b[1;33m\u001b[0m\u001b[1;33m\u001b[0m\u001b[0m\n\u001b[0;32m    542\u001b[0m             duration=int(1000 / self.fps), loop=0)\n",
      "\u001b[1;31mIndexError\u001b[0m: list index out of range"
     ]
    },
    {
     "data": {
      "image/png": "[encoded data removed]",
      "text/plain": [
       "<Figure size 432x288 with 1 Axes>"
      ]
     },
     "metadata": {
      "needs_background": "light"
     },
     "output_type": "display_data"
    }
   ],
   "source": [
    "startTime = time.time()\n",
    "gridSize = 100\n",
    "fig_no = 1\n",
    "\n",
    "forest = initForestState(gridSize)\n",
    "\n",
    "fig, forest_test, forestGridVisual = VisualizeForestFireSpread(gridSize, forest, fig_no)\n",
    "\n",
    "timeElapsed = time.time() - startTime\n",
    "print(\"Time elapsed for applying the spread on forest grid size 100: {0} seconds\".format(timeElapsed))\n",
    "\n",
    "def animate(i):\n",
    "    global forest\n",
    "    forestGridVisual.set_array(forest)\n",
    "    forest = VisualizeForestFireSpread(gridSize, forest, fig_no)\n",
    "    return forestGridVisual\n",
    "\n",
    "anim = animation.FuncAnimation(fig, animate, interval=animation_delay, frames=20)\n",
    "\n",
    "# saving the animation as an mp4 video file\n",
    "anim.save('fire_spread_animation{0}.mp4'.format(gridSize), fps=30)\n",
    "\n",
    "plt.show()"
   ]
  },
  {
   "cell_type": "code",
   "execution_count": null,
   "id": "38619038",
   "metadata": {},
   "outputs": [],
   "source": [
    "startTime = time.time()\n",
    "\n",
    "VisualizeForestFireSpread(400, 10)\n",
    "\n",
    "timeElapsed = time.time() - startTime\n",
    "print(\"Time elapsed for applying the spread on forest grid size 400: {0} seconds\".format(timeElapsed))"
   ]
  },
  {
   "cell_type": "code",
   "execution_count": null,
   "id": "775baf9e",
   "metadata": {},
   "outputs": [],
   "source": [
    "startTime = time.time()\n",
    "\n",
    "VisualizeForestFireSpread(800, 10)\n",
    "\n",
    "timeElapsed = time.time() - startTime\n",
    "print(\"Time elapsed for applying the spread on forest grid size 800: {0} seconds\".format(timeElapsed))"
   ]
  },
  {
   "cell_type": "code",
   "execution_count": null,
   "id": "1ec61c0f",
   "metadata": {},
   "outputs": [],
   "source": [
    "startTime = time.time()\n",
    "\n",
    "VisualizeForestFireSpread(1000, 10)\n",
    "\n",
    "timeElapsed = time.time() - startTime\n",
    "print(\"Time elapsed for applying the spread on forest grid size 1000: {0} seconds\".format(timeElapsed))"
   ]
  },
  {
   "cell_type": "code",
   "execution_count": null,
   "id": "431bd913",
   "metadata": {},
   "outputs": [],
   "source": [
    "startTime = time.time()\n",
    "\n",
    "VisualizeForestFireSpread(1200, 10)\n",
    "\n",
    "timeElapsed = time.time() - startTime\n",
    "print(\"Time elapsed for applying the spread on forest grid size 1200: {0} seconds\".format(timeElapsed))"
   ]
  },
  {
   "cell_type": "code",
   "execution_count": null,
   "id": "393bca11",
   "metadata": {},
   "outputs": [],
   "source": [
    "startTime = time.time()\n",
    "\n",
    "VisualizeForestFireSpread(2000, 10)\n",
    "\n",
    "timeElapsed = time.time() - startTime\n",
    "print(\"Time elapsed for applying the spread on forest grid size 2000: {0} seconds\".format(timeElapsed))"
   ]
  },
  {
   "cell_type": "markdown",
   "id": "a33c9d76",
   "metadata": {},
   "source": [
    "Parallelizing the Simulation of the Spread"
   ]
  },
  {
   "cell_type": "code",
   "execution_count": null,
   "id": "45a5d547",
   "metadata": {},
   "outputs": [],
   "source": [
    "# Parallelizing the initForestState function\n",
    "\n",
    "numba.jit(nopython=True, parallel=True)\n",
    "def initForestState_Parallel(sizeOfForest):\n",
    "    \n",
    "    # creating a multidimensional array of size sizeOfForest with one row and column\n",
    "    # of borderline to all sides of the forest.\n",
    "    # (assumming the site is firstly created with all borderlines),\n",
    "    forestGrid = np.ones((sizeOfForest + 2, sizeOfForest + 2)) * BORDERLINE\n",
    "    \n",
    "    # now we fill the forest with trees, according to the given probabilities above\n",
    "    # looping through the forest grids (excluding the borders) and assigning the values\n",
    "    # for the ground, trees and burning trees\n",
    "    for i in numba.prange(1, sizeOfForest + 1):\n",
    "        for j in numba.prange(1, sizeOfForest + 1):\n",
    "            \n",
    "            # we check for a burning tree and tree at this position\n",
    "            # but there has to be a tree, for the tree to be burning\n",
    "            # so let's check for a tree first\n",
    "            if random() < probTree:\n",
    "                if random() < probBurning:\n",
    "                    # the area contains a burning tree\n",
    "                    forestGrid[i, j] = BURNING_TREE\n",
    "                else:\n",
    "                    # the area contains a non burning tree\n",
    "                    forestGrid[i, j] = NON_BURNING_TREE\n",
    "            else:\n",
    "                # the area is empty\n",
    "                forestGrid[i, j] = GROUND\n",
    "                \n",
    "    # returning the forest grid\n",
    "    return forestGrid\n",
    "    "
   ]
  },
  {
   "cell_type": "code",
   "execution_count": 3,
   "id": "39a6a8be",
   "metadata": {},
   "outputs": [],
   "source": [
    "# Parallelizing the spread of the fire with Moore neighborhood algorithm\n",
    "\n",
    "numba.jit(nopython=True, parallel=True)\n",
    "def spreadTheFireWithMoore_Parallel(sizeOfForest, forestGrid):\n",
    "    \n",
    "    for i in numba.prange(1, sizeOfForest + 1):\n",
    "        for j in numba.prange(1, sizeOfForest + 1):\n",
    "            \n",
    "            # if the area is a tree\n",
    "            if forestGrid[i,j] == NON_BURNING_TREE:\n",
    "                    \n",
    "                # see if there's a burning tree next to the area\n",
    "                # von Neumann neighborhood are 4-neighborhoods (north, south, east and west) but we won't use them\n",
    "                # the 8 moore neighborhoods (north, north-east, north-west, south, south-east, south-west, west, east)\n",
    "                # can tell us if there's a burning tree\n",
    "                if (forestGrid[i - 1, j] == BURNING_TREE or forestGrid[i + 1, j] == BURNING_TREE or \n",
    "                    forestGrid[i, j - 1] == BURNING_TREE or forestGrid[i, j + 1] == BURNING_TREE or \n",
    "                    forestGrid[i - 1, j - 1] == BURNING_TREE or forestGrid[i - 1, j + 1] == BURNING_TREE or \n",
    "                    forestGrid[i + 1, j - 1] == BURNING_TREE or forestGrid[i + 1, j + 1] == BURNING_TREE):\n",
    "                    forestGrid[i - 1, j] = BURNING_TREE # tree will burn\n",
    "    \n",
    "                    # if the area is immune to fire the tree does not burn\n",
    "                    if random() < probImmune:\n",
    "                        forestGrid[i,j] = NON_BURNING_TREE\n",
    "                    else:\n",
    "                        forestGrid[i,j] = BURNING_TREE\n",
    "                        \n",
    "                # if the area suffered a lightning strike the tree burns\n",
    "                elif random() < probLightning:\n",
    "                    \n",
    "                    # if the area is immune to fire the tree does not burn\n",
    "                    if random() < probImmune:\n",
    "                        forestGrid[i,j] = NON_BURNING_TREE\n",
    "                    else:\n",
    "                        forestGrid[i,j] = BURNING_TREE\n",
    "                \n",
    "                # else the tree doesn't burn cause there are burning influences\n",
    "                else:\n",
    "                    forestGrid[i, j] = NON_BURNING_TREE \n",
    "            \n",
    "            # if the area is already a burning tree, then the tree burns to the ground\n",
    "            elif forestGrid[i, j] == BURNING_TREE:\n",
    "                forestGrid[i, j] = GROUND\n",
    "            \n",
    "            # otherwise the area remains empty if it's a ground\n",
    "            else:\n",
    "                forestGrid[i, j] = GROUND\n",
    "            \n",
    "    return forestGrid"
   ]
  },
  {
   "cell_type": "code",
   "execution_count": null,
   "id": "79bc3618",
   "metadata": {},
   "outputs": [],
   "source": [
    "numba.jit(nopython=True, parallel=True)\n",
    "def VisualizeForestFireSpread_Parallel(sizeOfForest, noOfIteration):\n",
    "        \n",
    "    forest = initForestState_Parallel(sizeOfForest)\n",
    "        \n",
    "    fig = plt.figure()\n",
    "    ax = plt.axes(xlim=(0, sizeOfForest + 2), ylim=(0, sizeOfForest + 2))\n",
    "    plt.title('Simulation of Forest Fire Spread With Size {0}'.format(sizeOfForest))\n",
    "    plt.xlabel('x')\n",
    "    plt.ylabel('y')\n",
    "      \n",
    "    # plot the forest\n",
    "    plt.imshow(forest, cmap = 'binary')\n",
    "        \n",
    "    # plot the initial state of the forest\n",
    "    plt.show()\n",
    "        \n",
    "    # plot the forest after each iteration\n",
    "    for i in numba.prange(noOfIteration):\n",
    "        forest = spreadTheFireWithMoore_Parallel(sizeOfForest, forest)\n",
    "        plt.imshow(forest, cmap = 'binary')\n",
    "        plt.show()"
   ]
  },
  {
   "cell_type": "code",
   "execution_count": null,
   "id": "cc8aac15",
   "metadata": {},
   "outputs": [],
   "source": [
    "startTime = time.time()\n",
    "\n",
    "VisualizeForestFireSpread_Parallel(100, 10)\n",
    "\n",
    "timeElapsed = time.time() - startTime\n",
    "print(\"Time elapsed for applying the spread (Parallel) on forest grid size 100: {0} seconds\".format(timeElapsed))"
   ]
  },
  {
   "cell_type": "code",
   "execution_count": null,
   "id": "951a9be2",
   "metadata": {},
   "outputs": [],
   "source": [
    "startTime = time.time()\n",
    "\n",
    "VisualizeForestFireSpread_Parallel(400, 10)\n",
    "\n",
    "timeElapsed = time.time() - startTime\n",
    "print(\"Time elapsed for applying the spread (Parallel) on forest grid size 400: {0} seconds\".format(timeElapsed))"
   ]
  },
  {
   "cell_type": "code",
   "execution_count": null,
   "id": "13743627",
   "metadata": {},
   "outputs": [],
   "source": [
    "startTime = time.time()\n",
    "\n",
    "VisualizeForestFireSpread_Parallel(800, 10)\n",
    "\n",
    "timeElapsed = time.time() - startTime\n",
    "print(\"Time elapsed for applying the spread (Parallel) on forest grid size 800: {0} seconds\".format(timeElapsed))"
   ]
  },
  {
   "cell_type": "code",
   "execution_count": null,
   "id": "0a32f7ed",
   "metadata": {},
   "outputs": [],
   "source": [
    "startTime = time.time()\n",
    "\n",
    "VisualizeForestFireSpread_Parallel(1000, 10)\n",
    "\n",
    "timeElapsed = time.time() - startTime\n",
    "print(\"Time elapsed for applying the spread (Parallel) on forest grid size 1000: {0} seconds\".format(timeElapsed))"
   ]
  },
  {
   "cell_type": "code",
   "execution_count": null,
   "id": "7b53ed76",
   "metadata": {},
   "outputs": [],
   "source": [
    "startTime = time.time()\n",
    "\n",
    "VisualizeForestFireSpread_Parallel(1200, 10)\n",
    "\n",
    "timeElapsed = time.time() - startTime\n",
    "print(\"Time elapsed for applying the spread (Parallel) on forest grid size 1200: {0} seconds\".format(timeElapsed))"
   ]
  },
  {
   "cell_type": "code",
   "execution_count": null,
   "id": "e73ea75a",
   "metadata": {},
   "outputs": [],
   "source": [
    "startTime = time.time()\n",
    "\n",
    "VisualizeForestFireSpread_Parallel(2000, 10)\n",
    "\n",
    "timeElapsed = time.time() - startTime\n",
    "print(\"Time elapsed for applying the spread (Parallel) on forest grid size 2000: {0} seconds\".format(timeElapsed))"
   ]
  }
 ],
 "metadata": {
  "interpreter": {
   "hash": "57baa5815c940fdaff4d14510622de9616cae602444507ba5d0b6727c008cbd6"
  },
  "kernelspec": {
   "display_name": "venv",
   "language": "python",
   "name": "python3"
  },
  "language_info": {
   "codemirror_mode": {
    "name": "ipython",
    "version": 3
   },
   "file_extension": ".py",
   "mimetype": "text/x-python",
   "name": "python",
   "nbconvert_exporter": "python",
   "pygments_lexer": "ipython3",
   "version": "3.9.5"
  }
 },
 "nbformat": 4,
 "nbformat_minor": 5
}
