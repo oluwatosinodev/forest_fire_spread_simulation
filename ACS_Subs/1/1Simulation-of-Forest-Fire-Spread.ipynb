{
 "cells": [
  {
   "cell_type": "code",
   "execution_count": null,
   "id": "9374db9a",
   "metadata": {},
   "outputs": [],
   "source": [
    "# import needed libraries\n",
    "import time\n",
    "from random import *\n",
    "from matplotlib import animation, pyplot as plt\n",
    "import numpy as np\n",
    "import numba"
   ]
  },
  {
   "cell_type": "code",
   "execution_count": null,
   "id": "1535f027",
   "metadata": {},
   "outputs": [],
   "source": [
    "# gathering information for initializing the forest\n",
    "\n",
    "GROUND = 0 # represents an empty ground\n",
    "NON_BURNING_TREE = 1 # represents an area with a non burning tree\n",
    "BURNING_TREE = 2 # represents an area with a burning tree\n",
    "BORDERLINE = 3 # represents borderline around the forest\n",
    "\n",
    "probTree = 0.8 # represents the probability that a tree initially ocupies the area\n",
    "probBurning = 0.01 # represents the probability that a tree is burning\n",
    "probImmune = 0.3 # represents the probability that a tree is immune to fire\n",
    "probLightning = 0.001 # represents the probability that an area suffered a lightning strike"
   ]
  },
  {
   "cell_type": "markdown",
   "id": "460ad103",
   "metadata": {},
   "source": [
    "Non Parallel Simulation of the Spread"
   ]
  },
  {
   "cell_type": "code",
   "execution_count": 1,
   "id": "17798ce5",
   "metadata": {},
   "outputs": [],
   "source": [
    "def initForestState(sizeOfForest):\n",
    "    \n",
    "    forestGrid = np.ones((sizeOfForest + 2, sizeOfForest + 2)) * BORDERLINE\n",
    "    \n",
    "    for i in range(1, sizeOfForest + 1):\n",
    "        for j in range(1, sizeOfForest + 1):\n",
    "            \n",
    "            if random() < probBurning:\n",
    "                # there is a burning tree in the area\n",
    "                forestGrid[i, j] = BURNING_TREE\n",
    "            elif random() < probTree:\n",
    "                # the area contains a non burning tree\n",
    "                forestGrid[i, j] = NON_BURNING_TREE\n",
    "            else:\n",
    "                # it's a fallow area\n",
    "                forestGrid[i, j] = GROUND\n",
    "                \n",
    "    return forestGrid\n",
    "    "
   ]
  },
  {
   "cell_type": "code",
   "execution_count": 2,
   "id": "70bbbda3",
   "metadata": {},
   "outputs": [],
   "source": [
    "# spread the fire with Moore neighborhood algorithm\n",
    "\n",
    "def spreadTheFireWithMoore(sizeOfForest, forest):\n",
    "    \n",
    "    for i in range(1, sizeOfForest + 1):\n",
    "        for j in range(1, sizeOfForest + 1):\n",
    "            \n",
    "            # if the area is a tree\n",
    "            if forest[i,j] == NON_BURNING_TREE:\n",
    "                \n",
    "                # if the area is immune to fire the tree does not burn\n",
    "                if random() < probImmune:\n",
    "                    forest[i,j] = NON_BURNING_TREE\n",
    "                else: \n",
    "                    \n",
    "                    # if there's a burning tree is next to the area\n",
    "                    # the moore neighborhoods (north, north-east, north-west, south, south-east, south-west, west, east)\n",
    "                    # can tell us if there's a burning tree\n",
    "                    if (forest[i - 1, j] == BURNING_TREE or forest[i + 1, j] == BURNING_TREE or \n",
    "                        forest[i, j - 1] == BURNING_TREE or forest[i, j + 1] == BURNING_TREE or \n",
    "                        forest[i - 1, j - 1] == BURNING_TREE or forest[i - 1, j + 1] == BURNING_TREE or \n",
    "                        forest[i + 1, j - 1] == BURNING_TREE or forest[i + 1, j + 1] == BURNING_TREE):\n",
    "                        forest[i - 1, j] = BURNING_TREE # tree will burn\n",
    "                        \n",
    "                    # if the area suffered a lightning strike the tree burns\n",
    "                    elif random() < probLightning: \n",
    "                        forest[i, j] = BURNING_TREE\n",
    "                    else:\n",
    "                        forest[i, j] = NON_BURNING_TREE # the tree doesn't burn\n",
    "            \n",
    "            # if the area is a burning tree, then the tree burns to the ground\n",
    "            elif forest[i, j] == BURNING_TREE:\n",
    "                forest[i, j] = GROUND\n",
    "            \n",
    "            # otherwise the area remains empty\n",
    "            else:\n",
    "                forest[i, j] = GROUND\n",
    "            \n",
    "    return forest"
   ]
  },
  {
   "cell_type": "code",
   "execution_count": null,
   "id": "40d6e348",
   "metadata": {},
   "outputs": [],
   "source": [
    "def VisualizeForestFireSpread(sizeOfForest, noOfIteration):\n",
    "        \n",
    "    forest = initForestState(sizeOfForest)\n",
    "        \n",
    "    fig = plt.figure()\n",
    "    ax = plt.axes(xlim=(0, sizeOfForest + 2), ylim=(0, sizeOfForest + 2))\n",
    "    plt.title('Simulation of Forest Fire Spread With Size {0}'.format(sizeOfForest))\n",
    "    plt.xlabel('x')\n",
    "    plt.ylabel('y')\n",
    "      \n",
    "    # plot the forest\n",
    "    plt.imshow(forest, cmap = 'binary')\n",
    "        \n",
    "    # plot the initial state of the forest\n",
    "    plt.show()\n",
    "        \n",
    "    # plot the forest after each iteration\n",
    "    for i in range(noOfIteration):\n",
    "        forest = spreadTheFireWithMoore(sizeOfForest, forest)\n",
    "        plt.imshow(forest, cmap = 'binary')\n",
    "        plt.show()    "
   ]
  },
  {
   "cell_type": "code",
   "execution_count": null,
   "id": "538beb2a",
   "metadata": {},
   "outputs": [],
   "source": [
    "startTime = time.time()\n",
    "\n",
    "VisualizeForestFireSpread(100, 10)\n",
    "\n",
    "timeElapsed = time.time() - startTime\n",
    "print(\"Time elapsed for applying the spread on forest grid size 100: {0} seconds\".format(timeElapsed))"
   ]
  },
  {
   "cell_type": "code",
   "execution_count": null,
   "id": "38619038",
   "metadata": {},
   "outputs": [],
   "source": [
    "startTime = time.time()\n",
    "\n",
    "VisualizeForestFireSpread(400, 10)\n",
    "\n",
    "timeElapsed = time.time() - startTime\n",
    "print(\"Time elapsed for applying the spread on forest grid size 400: {0} seconds\".format(timeElapsed))"
   ]
  },
  {
   "cell_type": "code",
   "execution_count": null,
   "id": "775baf9e",
   "metadata": {},
   "outputs": [],
   "source": [
    "startTime = time.time()\n",
    "\n",
    "VisualizeForestFireSpread(800, 10)\n",
    "\n",
    "timeElapsed = time.time() - startTime\n",
    "print(\"Time elapsed for applying the spread on forest grid size 800: {0} seconds\".format(timeElapsed))"
   ]
  },
  {
   "cell_type": "code",
   "execution_count": null,
   "id": "1ec61c0f",
   "metadata": {},
   "outputs": [],
   "source": [
    "startTime = time.time()\n",
    "\n",
    "VisualizeForestFireSpread(1000, 10)\n",
    "\n",
    "timeElapsed = time.time() - startTime\n",
    "print(\"Time elapsed for applying the spread on forest grid size 1000: {0} seconds\".format(timeElapsed))"
   ]
  },
  {
   "cell_type": "code",
   "execution_count": null,
   "id": "431bd913",
   "metadata": {},
   "outputs": [],
   "source": [
    "startTime = time.time()\n",
    "\n",
    "VisualizeForestFireSpread(1200, 10)\n",
    "\n",
    "timeElapsed = time.time() - startTime\n",
    "print(\"Time elapsed for applying the spread on forest grid size 1200: {0} seconds\".format(timeElapsed))"
   ]
  },
  {
   "cell_type": "code",
   "execution_count": null,
   "id": "393bca11",
   "metadata": {},
   "outputs": [],
   "source": [
    "startTime = time.time()\n",
    "\n",
    "VisualizeForestFireSpread(2000, 10)\n",
    "\n",
    "timeElapsed = time.time() - startTime\n",
    "print(\"Time elapsed for applying the spread on forest grid size 2000: {0} seconds\".format(timeElapsed))"
   ]
  },
  {
   "cell_type": "markdown",
   "id": "a33c9d76",
   "metadata": {},
   "source": [
    "Parallelizing the Simulation of the Spread"
   ]
  },
  {
   "cell_type": "code",
   "execution_count": null,
   "id": "45a5d547",
   "metadata": {},
   "outputs": [],
   "source": [
    "# Parallelizing the initForestState function\n",
    "\n",
    "numba.jit(nopython=True, parallel=True)\n",
    "def initForestState_Parallel(sizeOfForest):\n",
    "    \n",
    "    forestGrid = np.ones((sizeOfForest + 2, sizeOfForest + 2)) * BORDERLINE\n",
    "    \n",
    "    for i in numba.prange(1, sizeOfForest + 1):\n",
    "        for j in numba.prange(1, sizeOfForest + 1):\n",
    "            if random() < probBurning:\n",
    "                forestGrid[i, j] = BURNING_TREE\n",
    "            elif random() < probTree:\n",
    "                forestGrid[i, j] = NON_BURNING_TREE\n",
    "            else:\n",
    "                forestGrid[i, j] = GROUND\n",
    "                \n",
    "    return forestGrid   \n",
    "    "
   ]
  },
  {
   "cell_type": "code",
   "execution_count": 3,
   "id": "39a6a8be",
   "metadata": {},
   "outputs": [],
   "source": [
    "# Parallelizing the spread of the fire with Moore neighborhood algorithm\n",
    "\n",
    "numba.jit(nopython=True, parallel=True)\n",
    "def spreadTheFireWithMoore_Parallel(sizeOfForest, forestGrid):\n",
    "    \n",
    "    for i in numba.prange(1, sizeOfForest + 1):\n",
    "        for j in numba.prange(1, sizeOfForest + 1):\n",
    "            \n",
    "            # if the area is a tree\n",
    "            if forestGrid[i,j] == NON_BURNING_TREE:\n",
    "                \n",
    "                # if the area is immune to fire the tree does not burn\n",
    "                if random() < probImmune:\n",
    "                    forestGrid[i,j] = NON_BURNING_TREE\n",
    "                else: \n",
    "                    \n",
    "                    # if there's a burning tree is next to the area\n",
    "                    if (forestGrid[i - 1, j] == BURNING_TREE or forestGrid[i + 1, j] == BURNING_TREE or \n",
    "                        forestGrid[i, j - 1] == BURNING_TREE or forestGrid[i, j + 1] == BURNING_TREE or \n",
    "                        forestGrid[i - 1, j - 1] == BURNING_TREE or forestGrid[i - 1, j + 1] == BURNING_TREE or \n",
    "                        forestGrid[i + 1, j - 1] == BURNING_TREE or forestGrid[i + 1, j + 1] == BURNING_TREE):\n",
    "                        forestGrid[i - 1, j] = BURNING_TREE # tree will burn\n",
    "                        \n",
    "                    # if the area suffered a lightning strike the tree burns\n",
    "                    elif random() < probLightning: \n",
    "                        forestGrid[i, j] = BURNING_TREE\n",
    "                    else:\n",
    "                        forestGrid[i, j] = NON_BURNING_TREE # the tree doesn't burn\n",
    "            \n",
    "            # if the area is a burning tree, then the tree burns to the ground\n",
    "            elif forestGrid[i, j] == BURNING_TREE:\n",
    "                forestGrid[i, j] = GROUND\n",
    "            \n",
    "            # otherwise the area remains empty\n",
    "            else:\n",
    "                forestGrid[i, j] = GROUND\n",
    "            \n",
    "    return forestGrid"
   ]
  },
  {
   "cell_type": "code",
   "execution_count": null,
   "id": "79bc3618",
   "metadata": {},
   "outputs": [],
   "source": [
    "numba.jit(nopython=True, parallel=True)\n",
    "def VisualizeForestFireSpread_Parallel(sizeOfForest, noOfIteration):\n",
    "        \n",
    "    forest = initForestState_Parallel(sizeOfForest)\n",
    "        \n",
    "    fig = plt.figure()\n",
    "    ax = plt.axes(xlim=(0, sizeOfForest + 2), ylim=(0, sizeOfForest + 2))\n",
    "    plt.title('Simulation of Forest Fire Spread With Size {0}'.format(sizeOfForest))\n",
    "    plt.xlabel('x')\n",
    "    plt.ylabel('y')\n",
    "      \n",
    "    # plot the forest\n",
    "    plt.imshow(forest, cmap = 'binary')\n",
    "        \n",
    "    # plot the initial state of the forest\n",
    "    plt.show()\n",
    "        \n",
    "    # plot the forest after each iteration\n",
    "    for i in numba.prange(noOfIteration):\n",
    "        forest = spreadTheFireWithMoore_Parallel(sizeOfForest, forest)\n",
    "        plt.imshow(forest, cmap = 'binary')\n",
    "        plt.show()"
   ]
  },
  {
   "cell_type": "code",
   "execution_count": null,
   "id": "cc8aac15",
   "metadata": {},
   "outputs": [],
   "source": [
    "startTime = time.time()\n",
    "\n",
    "VisualizeForestFireSpread_Parallel(100, 10)\n",
    "\n",
    "timeElapsed = time.time() - startTime\n",
    "print(\"Time elapsed for applying the spread (Parallel) on forest grid size 100: {0} seconds\".format(timeElapsed))"
   ]
  },
  {
   "cell_type": "code",
   "execution_count": null,
   "id": "951a9be2",
   "metadata": {},
   "outputs": [],
   "source": [
    "startTime = time.time()\n",
    "\n",
    "VisualizeForestFireSpread_Parallel(400, 10)\n",
    "\n",
    "timeElapsed = time.time() - startTime\n",
    "print(\"Time elapsed for applying the spread (Parallel) on forest grid size 400: {0} seconds\".format(timeElapsed))"
   ]
  },
  {
   "cell_type": "code",
   "execution_count": null,
   "id": "13743627",
   "metadata": {},
   "outputs": [],
   "source": [
    "startTime = time.time()\n",
    "\n",
    "VisualizeForestFireSpread_Parallel(800, 10)\n",
    "\n",
    "timeElapsed = time.time() - startTime\n",
    "print(\"Time elapsed for applying the spread (Parallel) on forest grid size 800: {0} seconds\".format(timeElapsed))"
   ]
  },
  {
   "cell_type": "code",
   "execution_count": null,
   "id": "0a32f7ed",
   "metadata": {},
   "outputs": [],
   "source": [
    "startTime = time.time()\n",
    "\n",
    "VisualizeForestFireSpread_Parallel(1000, 10)\n",
    "\n",
    "timeElapsed = time.time() - startTime\n",
    "print(\"Time elapsed for applying the spread (Parallel) on forest grid size 1000: {0} seconds\".format(timeElapsed))"
   ]
  },
  {
   "cell_type": "code",
   "execution_count": null,
   "id": "7b53ed76",
   "metadata": {},
   "outputs": [],
   "source": [
    "startTime = time.time()\n",
    "\n",
    "VisualizeForestFireSpread_Parallel(1200, 10)\n",
    "\n",
    "timeElapsed = time.time() - startTime\n",
    "print(\"Time elapsed for applying the spread (Parallel) on forest grid size 1200: {0} seconds\".format(timeElapsed))"
   ]
  },
  {
   "cell_type": "code",
   "execution_count": null,
   "id": "e73ea75a",
   "metadata": {},
   "outputs": [],
   "source": [
    "startTime = time.time()\n",
    "\n",
    "VisualizeForestFireSpread_Parallel(2000, 10)\n",
    "\n",
    "timeElapsed = time.time() - startTime\n",
    "print(\"Time elapsed for applying the spread (Parallel) on forest grid size 2000: {0} seconds\".format(timeElapsed))"
   ]
  }
 ],
 "metadata": {
  "kernelspec": {
   "display_name": "venv",
   "language": "python",
   "name": "venv"
  },
  "language_info": {
   "codemirror_mode": {
    "name": "ipython",
    "version": 3
   },
   "file_extension": ".py",
   "mimetype": "text/x-python",
   "name": "python",
   "nbconvert_exporter": "python",
   "pygments_lexer": "ipython3",
   "version": "3.10.0"
  }
 },
 "nbformat": 4,
 "nbformat_minor": 5
}
