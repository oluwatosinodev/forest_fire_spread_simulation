{
 "cells": [
  {
   "cell_type": "code",
   "execution_count": 1,
   "id": "9374db9a",
   "metadata": {},
   "outputs": [],
   "source": [
    "# import needed libraries\n",
    "import time\n",
    "from random import *\n",
    "from matplotlib import animation, pyplot as plt, colors\n",
    "import numpy as np\n",
    "import numba"
   ]
  },
  {
   "cell_type": "code",
   "execution_count": 2,
   "id": "1535f027",
   "metadata": {},
   "outputs": [],
   "source": [
    "# gathering information for initializing the forest\n",
    "\n",
    "GROUND = 0 # represents an empty ground\n",
    "NON_BURNING_TREE = 1 # represents an area with a non burning tree\n",
    "BURNING_TREE = 2 # represents an area with a burning tree\n",
    "BORDERLINE = 3 # represents borderline around the forest\n",
    "\n",
    "animation_delay = 300 # represents the delay between each frame of the animation in milliseconds, frame means after spread of fire\n",
    "bounds = [0, 1, 2, 3]\n",
    "cmap = colors.ListedColormap([(0.2,0,0), (0,0.5,0), (1,0,0), 'orange'])\n",
    "norm = colors.BoundaryNorm(bounds, cmap.N)\n",
    "frame_size = 60\n",
    "plot_size = 12\n",
    "\n",
    "probTree = 0.8 # represents the probability that a tree initially ocupies the area\n",
    "probBurning = 0.01 # represents the probability that a tree is burning\n",
    "probImmune = 0.3 # represents the probability that a tree is immune to fire\n",
    "probLightning = 0.001 # represents the probability that an area suffered a lightning strike"
   ]
  },
  {
   "cell_type": "markdown",
   "id": "460ad103",
   "metadata": {},
   "source": [
    "Non Parallel Simulation of the Spread"
   ]
  },
  {
   "cell_type": "code",
   "execution_count": 3,
   "id": "17798ce5",
   "metadata": {},
   "outputs": [],
   "source": [
    "# here we create a function to initialize the forest site\n",
    "def initForestState(sizeOfForest):\n",
    "    \n",
    "    # creating a multidimensional array of size sizeOfForest with one row and column\n",
    "    # of borderline to all sides of the forest.\n",
    "    # (assumming the site is firstly created with all borderlines),\n",
    "    forestGrid = np.ones((sizeOfForest + 2, sizeOfForest + 2)) * BORDERLINE\n",
    "    \n",
    "    # now we fill the forest with trees, according to the given probabilities above\n",
    "    # looping through the forest grids (excluding the borders) and assigning the values\n",
    "    # for the ground, trees and burning trees\n",
    "    for i in range(1, sizeOfForest + 1):\n",
    "        for j in range(1, sizeOfForest + 1):\n",
    "            \n",
    "            # we check for a burning tree and tree at this position\n",
    "            # but there has to be a tree, for the tree to be burning\n",
    "            # so let's check for a tree first\n",
    "            if random() < probTree:\n",
    "                if random() < probBurning:\n",
    "                    # the area contains a burning tree\n",
    "                    forestGrid[i, j] = BURNING_TREE\n",
    "                else:\n",
    "                    # the area contains a non burning tree\n",
    "                    forestGrid[i, j] = NON_BURNING_TREE\n",
    "            else:\n",
    "                # the area is empty\n",
    "                forestGrid[i, j] = GROUND\n",
    "                \n",
    "    # returning the forest grid\n",
    "    return forestGrid\n",
    "    "
   ]
  },
  {
   "cell_type": "code",
   "execution_count": 4,
   "id": "70bbbda3",
   "metadata": {},
   "outputs": [],
   "source": [
    "# spread the fire with Moore neighborhood algorithm\n",
    "\n",
    "def spreadTheFireWithMoore(sizeOfForest, forest):\n",
    "    \n",
    "    # looping through the forest grids (excluding the borders)\n",
    "    for i in range(1, sizeOfForest + 1):\n",
    "        for j in range(1, sizeOfForest + 1):\n",
    "            \n",
    "            # if the area is a tree\n",
    "            if forest[i,j] == NON_BURNING_TREE:\n",
    "                    \n",
    "                # see if there's a burning tree next to the area\n",
    "                # von Neumann neighborhood are 4-neighborhoods (north, south, east and west) but we won't use them\n",
    "                # the 8 moore neighborhoods (north, north-east, north-west, south, south-east, south-west, west, east)\n",
    "                # can tell us if there's a burning tree\n",
    "                if (forest[i - 1, j] == BURNING_TREE or forest[i + 1, j] == BURNING_TREE or \n",
    "                    forest[i, j - 1] == BURNING_TREE or forest[i, j + 1] == BURNING_TREE or \n",
    "                    forest[i - 1, j - 1] == BURNING_TREE or forest[i - 1, j + 1] == BURNING_TREE or \n",
    "                    forest[i + 1, j - 1] == BURNING_TREE or forest[i + 1, j + 1] == BURNING_TREE):\n",
    "    \n",
    "                    # if the area is immune to fire the tree does not burn\n",
    "                    if random() < probImmune:\n",
    "                        forest[i,j] = NON_BURNING_TREE\n",
    "                    else:\n",
    "                        forest[i,j] = BURNING_TREE\n",
    "                        \n",
    "                # if the area suffered a lightning strike the tree burns\n",
    "                elif random() < probLightning:\n",
    "                    \n",
    "                    # if the area is immune to fire the tree does not burn\n",
    "                    if random() < probImmune:\n",
    "                        forest[i,j] = NON_BURNING_TREE\n",
    "                    else:\n",
    "                        forest[i,j] = BURNING_TREE\n",
    "                \n",
    "                # else the tree doesn't burn cause there are burning influences\n",
    "                else:\n",
    "                    forest[i, j] = NON_BURNING_TREE \n",
    "            \n",
    "            # if the area is already a burning tree, then the tree burns to the ground\n",
    "            elif forest[i, j] == BURNING_TREE:\n",
    "                forest[i, j] = GROUND\n",
    "            \n",
    "            # otherwise the area remains empty if it's a ground\n",
    "            else:\n",
    "                forest[i, j] = GROUND\n",
    "            \n",
    "    return forest"
   ]
  },
  {
   "cell_type": "code",
   "execution_count": 5,
   "id": "40d6e348",
   "metadata": {},
   "outputs": [],
   "source": [
    "def VisualizeForestFireSpread(sizeOfForest, forest):\n",
    "    \n",
    "    # select only the forest site with no borderlines\n",
    "    Onlyforest = forest[1:sizeOfForest + 1, 1:sizeOfForest + 1]\n",
    "    \n",
    "    # extend the grid using periodic boundary conditions\n",
    "    \n",
    "    # extending the boundary rows with ghost areas so that we can spread the fire at the site borders too.\n",
    "    rowStack = np.row_stack((Onlyforest[-1,:], Onlyforest, Onlyforest[0,:]))\n",
    "    \n",
    "    # extending the boundary columns with ghost areas so that we can spread the fire at the site borders too.\n",
    "    forestAfterExtension = np.column_stack((rowStack[:,-1], rowStack, rowStack[:,0]))\n",
    "    \n",
    "    # now we can spread the fire  \n",
    "    appliedSpreadForest = spreadTheFireWithMoore(sizeOfForest, forestAfterExtension)\n",
    "    \n",
    "    # remove the ghost areas and return the borderline before plotting\n",
    "    Onlyforest = appliedSpreadForest[1:sizeOfForest + 1, 1:sizeOfForest + 1]\n",
    "    forest[1:sizeOfForest + 1, 1:sizeOfForest + 1] = Onlyforest\n",
    "        \n",
    "    return forest"
   ]
  },
  {
   "cell_type": "code",
   "execution_count": 6,
   "id": "538beb2a",
   "metadata": {},
   "outputs": [
    {
     "name": "stdout",
     "output_type": "stream",
     "text": [
      "Time elapsed for applying the spread on forest grid size 100: 0.08499670028686523 seconds\n"
     ]
    },
    {
     "data": {
      "image/png": "[encoded data removed]",
      "text/plain": [
       "<Figure size 864x864 with 1 Axes>"
      ]
     },
     "metadata": {
      "needs_background": "light"
     },
     "output_type": "display_data"
    }
   ],
   "source": [
    "startTime = time.time()\n",
    "gridSize = 100\n",
    "fig_no = 1\n",
    "\n",
    "forest = initForestState(gridSize)\n",
    "\n",
    "forest_test = VisualizeForestFireSpread(gridSize, forest)\n",
    "\n",
    "timeElapsed = time.time() - startTime\n",
    "print(\"Time elapsed for applying the spread on forest grid size {0}: {1} seconds\".format(gridSize, timeElapsed))\n",
    "\n",
    "fig = plt.figure(num=fig_no, figsize=(plot_size, plot_size))\n",
    "ax = fig.add_subplot(111)\n",
    "ax.set_title('Simulation of Forest Fire Spread With Size {0}'.format(gridSize))\n",
    "ax.set_axis_off()\n",
    "    \n",
    "# plot the forest\n",
    "forestGridVisual = ax.imshow(forest, cmap=cmap, norm=norm)\n",
    "    \n",
    "def animate(i):\n",
    "    forestGridVisual.set_array(animate.forest)\n",
    "    animate.forest = VisualizeForestFireSpread(gridSize, animate.forest)\n",
    "\n",
    "animate.forest = forest\n",
    "\n",
    "anim = animation.FuncAnimation(fig, animate, interval=animation_delay, frames=frame_size)\n",
    "\n",
    "# saving the animation as an mp4 video file\n",
    "anim.save('fire_spread_animation{0}.gif'.format(gridSize))\n",
    "\n",
    "plt.show()"
   ]
  },
  {
   "cell_type": "code",
   "execution_count": 7,
   "id": "38619038",
   "metadata": {},
   "outputs": [
    {
     "name": "stdout",
     "output_type": "stream",
     "text": [
      "Time elapsed for applying the spread on forest grid size 400: 0.6515018939971924 seconds\n"
     ]
    },
    {
     "data": {
      "image/png": "[encoded data removed]",
      "text/plain": [
       "<Figure size 864x864 with 1 Axes>"
      ]
     },
     "metadata": {
      "needs_background": "light"
     },
     "output_type": "display_data"
    }
   ],
   "source": [
    "startTime = time.time()\n",
    "gridSize = 400\n",
    "fig_no = 2\n",
    "\n",
    "forest = initForestState(gridSize)\n",
    "\n",
    "forest_test = VisualizeForestFireSpread(gridSize, forest)\n",
    "\n",
    "timeElapsed = time.time() - startTime\n",
    "print(\"Time elapsed for applying the spread on forest grid size {0}: {1} seconds\".format(gridSize, timeElapsed))\n",
    "\n",
    "fig = plt.figure(num=fig_no, figsize=(plot_size, plot_size))\n",
    "ax = fig.add_subplot(111)\n",
    "ax.set_title('Simulation of Forest Fire Spread With Size {0}'.format(gridSize))\n",
    "ax.set_axis_off()\n",
    "    \n",
    "# plot the forest\n",
    "forestGridVisual = ax.imshow(forest, cmap=cmap, norm=norm)\n",
    "    \n",
    "def animate(i):\n",
    "    forestGridVisual.set_array(animate.forest)\n",
    "    animate.forest = VisualizeForestFireSpread(gridSize, animate.forest)\n",
    "\n",
    "animate.forest = forest\n",
    "\n",
    "anim = animation.FuncAnimation(fig, animate, interval=animation_delay, frames=frame_size)\n",
    "\n",
    "# saving the animation as an mp4 video file\n",
    "anim.save('fire_spread_animation{0}.gif'.format(gridSize))\n",
    "\n",
    "plt.show()"
   ]
  },
  {
   "cell_type": "code",
   "execution_count": 8,
   "id": "775baf9e",
   "metadata": {},
   "outputs": [
    {
     "name": "stdout",
     "output_type": "stream",
     "text": [
      "Time elapsed for applying the spread on forest grid size 800: 2.6593780517578125 seconds\n"
     ]
    },
    {
     "data": {
      "image/png": "[encoded data removed]",
      "text/plain": [
       "<Figure size 864x864 with 1 Axes>"
      ]
     },
     "metadata": {
      "needs_background": "light"
     },
     "output_type": "display_data"
    }
   ],
   "source": [
    "startTime = time.time()\n",
    "gridSize = 800\n",
    "fig_no = 3\n",
    "\n",
    "forest = initForestState(gridSize)\n",
    "\n",
    "forest_test = VisualizeForestFireSpread(gridSize, forest)\n",
    "\n",
    "timeElapsed = time.time() - startTime\n",
    "print(\"Time elapsed for applying the spread on forest grid size {0}: {1} seconds\".format(gridSize, timeElapsed))\n",
    "\n",
    "fig = plt.figure(num=fig_no, figsize=(plot_size, plot_size))\n",
    "ax = fig.add_subplot(111)\n",
    "ax.set_title('Simulation of Forest Fire Spread With Size {0}'.format(gridSize))\n",
    "ax.set_axis_off()\n",
    "    \n",
    "# plot the forest\n",
    "forestGridVisual = ax.imshow(forest, cmap=cmap, norm=norm)\n",
    "    \n",
    "def animate(i):\n",
    "    forestGridVisual.set_array(animate.forest)\n",
    "    animate.forest = VisualizeForestFireSpread(gridSize, animate.forest)\n",
    "\n",
    "animate.forest = forest\n",
    "\n",
    "anim = animation.FuncAnimation(fig, animate, interval=animation_delay, frames=frame_size)\n",
    "\n",
    "# saving the animation as an mp4 video file\n",
    "anim.save('fire_spread_animation{0}.gif'.format(gridSize))\n",
    "\n",
    "plt.show()"
   ]
  },
  {
   "cell_type": "code",
   "execution_count": 9,
   "id": "1ec61c0f",
   "metadata": {},
   "outputs": [
    {
     "name": "stdout",
     "output_type": "stream",
     "text": [
      "Time elapsed for applying the spread on forest grid size 1000: 4.661702394485474 seconds\n"
     ]
    },
    {
     "data": {
      "image/png": "[encoded data removed]",
      "text/plain": [
       "<Figure size 1224x1224 with 1 Axes>"
      ]
     },
     "metadata": {
      "needs_background": "light"
     },
     "output_type": "display_data"
    }
   ],
   "source": [
    "startTime = time.time()\n",
    "gridSize = 1000\n",
    "fig_no = 4\n",
    "\n",
    "forest = initForestState(gridSize)\n",
    "\n",
    "forest_test = VisualizeForestFireSpread(gridSize, forest)\n",
    "\n",
    "timeElapsed = time.time() - startTime\n",
    "print(\"Time elapsed for applying the spread on forest grid size {0}: {1} seconds\".format(gridSize, timeElapsed))\n",
    "\n",
    "fig = plt.figure(num=fig_no, figsize=(plot_size+5, plot_size+5))\n",
    "ax = fig.add_subplot(111)\n",
    "ax.set_title('Simulation of Forest Fire Spread With Size {0}'.format(gridSize))\n",
    "ax.set_axis_off()\n",
    "    \n",
    "# plot the forest\n",
    "forestGridVisual = ax.imshow(forest, cmap=cmap, norm=norm)\n",
    "    \n",
    "def animate(i):\n",
    "    forestGridVisual.set_array(animate.forest)\n",
    "    animate.forest = VisualizeForestFireSpread(gridSize, animate.forest)\n",
    "\n",
    "animate.forest = forest\n",
    "\n",
    "anim = animation.FuncAnimation(fig, animate, interval=animation_delay, frames=frame_size)\n",
    "\n",
    "# saving the animation as an mp4 video file\n",
    "anim.save('fire_spread_animation{0}.gif'.format(gridSize))\n",
    "\n",
    "plt.show()"
   ]
  },
  {
   "cell_type": "code",
   "execution_count": 10,
   "id": "431bd913",
   "metadata": {},
   "outputs": [
    {
     "name": "stdout",
     "output_type": "stream",
     "text": [
      "Time elapsed for applying the spread on forest grid size 1200: 6.523056507110596 seconds\n"
     ]
    },
    {
     "data": {
      "image/png": "[encoded data removed]",
      "text/plain": [
       "<Figure size 1224x1224 with 1 Axes>"
      ]
     },
     "metadata": {
      "needs_background": "light"
     },
     "output_type": "display_data"
    }
   ],
   "source": [
    "startTime = time.time()\n",
    "gridSize = 1200\n",
    "fig_no = 5\n",
    "\n",
    "forest = initForestState(gridSize)\n",
    "\n",
    "forest_test = VisualizeForestFireSpread(gridSize, forest)\n",
    "\n",
    "timeElapsed = time.time() - startTime\n",
    "print(\"Time elapsed for applying the spread on forest grid size {0}: {1} seconds\".format(gridSize, timeElapsed))\n",
    "\n",
    "fig = plt.figure(num=fig_no, figsize=(plot_size+5, plot_size+5))\n",
    "ax = fig.add_subplot(111)\n",
    "ax.set_title('Simulation of Forest Fire Spread With Size {0}'.format(gridSize))\n",
    "ax.set_axis_off()\n",
    "    \n",
    "# plot the forest\n",
    "forestGridVisual = ax.imshow(forest, cmap=cmap, norm=norm)\n",
    "    \n",
    "def animate(i):\n",
    "    forestGridVisual.set_array(animate.forest)\n",
    "    animate.forest = VisualizeForestFireSpread(gridSize, animate.forest)\n",
    "\n",
    "animate.forest = forest\n",
    "\n",
    "anim = animation.FuncAnimation(fig, animate, interval=animation_delay, frames=frame_size)\n",
    "\n",
    "# saving the animation as an mp4 video file\n",
    "anim.save('fire_spread_animation{0}.gif'.format(gridSize))\n",
    "\n",
    "plt.show()"
   ]
  },
  {
   "cell_type": "code",
   "execution_count": 11,
   "id": "393bca11",
   "metadata": {},
   "outputs": [
    {
     "name": "stdout",
     "output_type": "stream",
     "text": [
      "Time elapsed for applying the spread on forest grid size 2000: 17.282514333724976 seconds\n"
     ]
    },
    {
     "data": {
      "image/png": "[encoded data removed]",
      "text/plain": [
       "<Figure size 1224x1224 with 1 Axes>"
      ]
     },
     "metadata": {
      "needs_background": "light"
     },
     "output_type": "display_data"
    }
   ],
   "source": [
    "startTime = time.time()\n",
    "gridSize = 2000\n",
    "fig_no = 6\n",
    "\n",
    "forest = initForestState(gridSize)\n",
    "\n",
    "forest_test = VisualizeForestFireSpread(gridSize, forest)\n",
    "\n",
    "timeElapsed = time.time() - startTime\n",
    "print(\"Time elapsed for applying the spread on forest grid size {0}: {1} seconds\".format(gridSize, timeElapsed))\n",
    "\n",
    "fig = plt.figure(num=fig_no, figsize=(plot_size+5, plot_size+5))\n",
    "ax = fig.add_subplot(111)\n",
    "ax.set_title('Simulation of Forest Fire Spread With Size {0}'.format(gridSize))\n",
    "ax.set_axis_off()\n",
    "    \n",
    "# plot the forest\n",
    "forestGridVisual = ax.imshow(forest, cmap=cmap, norm=norm)\n",
    "    \n",
    "def animate(i):\n",
    "    forestGridVisual.set_array(animate.forest)\n",
    "    animate.forest = VisualizeForestFireSpread(gridSize, animate.forest)\n",
    "\n",
    "animate.forest = forest\n",
    "\n",
    "anim = animation.FuncAnimation(fig, animate, interval=animation_delay, frames=frame_size)\n",
    "\n",
    "# saving the animation as an mp4 video file\n",
    "anim.save('fire_spread_animation{0}.gif'.format(gridSize))\n",
    "\n",
    "plt.show()"
   ]
  },
  {
   "cell_type": "markdown",
   "id": "a33c9d76",
   "metadata": {},
   "source": [
    "Parallelizing the Simulation of the Spread"
   ]
  },
  {
   "cell_type": "code",
   "execution_count": 12,
   "id": "45a5d547",
   "metadata": {},
   "outputs": [],
   "source": [
    "# Parallelizing the initForestState function\n",
    "\n",
    "numba.jit(nopython=True, parallel=True)\n",
    "def initForestState_Parallel(sizeOfForest):\n",
    "    \n",
    "    # creating a multidimensional array of size sizeOfForest with one row and column\n",
    "    # of borderline to all sides of the forest.\n",
    "    # (assumming the site is firstly created with all borderlines),\n",
    "    forestGrid = np.ones((sizeOfForest + 2, sizeOfForest + 2)) * BORDERLINE\n",
    "    \n",
    "    # now we fill the forest with trees, according to the given probabilities above\n",
    "    # looping through the forest grids (excluding the borders) and assigning the values\n",
    "    # for the ground, trees and burning trees\n",
    "    for i in numba.prange(1, sizeOfForest + 1):\n",
    "        for j in numba.prange(1, sizeOfForest + 1):\n",
    "            \n",
    "            # we check for a burning tree and tree at this position\n",
    "            # but there has to be a tree, for the tree to be burning\n",
    "            # so let's check for a tree first\n",
    "            if random() < probTree:\n",
    "                if random() < probBurning:\n",
    "                    # the area contains a burning tree\n",
    "                    forestGrid[i, j] = BURNING_TREE\n",
    "                else:\n",
    "                    # the area contains a non burning tree\n",
    "                    forestGrid[i, j] = NON_BURNING_TREE\n",
    "            else:\n",
    "                # the area is empty\n",
    "                forestGrid[i, j] = GROUND\n",
    "                \n",
    "    # returning the forest grid\n",
    "    return forestGrid\n",
    "    "
   ]
  },
  {
   "cell_type": "code",
   "execution_count": 13,
   "id": "39a6a8be",
   "metadata": {},
   "outputs": [],
   "source": [
    "# Parallelizing the spread of the fire with Moore neighborhood algorithm\n",
    "\n",
    "numba.jit(nopython=True, parallel=True)\n",
    "def spreadTheFireWithMoore_Parallel(sizeOfForest, forestGrid):\n",
    "    \n",
    "    for i in numba.prange(1, sizeOfForest + 1):\n",
    "        for j in numba.prange(1, sizeOfForest + 1):\n",
    "            \n",
    "            # if the area is a tree\n",
    "            if forestGrid[i,j] == NON_BURNING_TREE:\n",
    "                    \n",
    "                # see if there's a burning tree next to the area\n",
    "                # von Neumann neighborhood are 4-neighborhoods (north, south, east and west) but we won't use them\n",
    "                # the 8 moore neighborhoods (north, north-east, north-west, south, south-east, south-west, west, east)\n",
    "                # can tell us if there's a burning tree\n",
    "                if (forestGrid[i - 1, j] == BURNING_TREE or forestGrid[i + 1, j] == BURNING_TREE or \n",
    "                    forestGrid[i, j - 1] == BURNING_TREE or forestGrid[i, j + 1] == BURNING_TREE or \n",
    "                    forestGrid[i - 1, j - 1] == BURNING_TREE or forestGrid[i - 1, j + 1] == BURNING_TREE or \n",
    "                    forestGrid[i + 1, j - 1] == BURNING_TREE or forestGrid[i + 1, j + 1] == BURNING_TREE):\n",
    "    \n",
    "                    # if the area is immune to fire the tree does not burn\n",
    "                    if random() < probImmune:\n",
    "                        forestGrid[i,j] = NON_BURNING_TREE\n",
    "                    else:\n",
    "                        forestGrid[i,j] = BURNING_TREE\n",
    "                        \n",
    "                # if the area suffered a lightning strike the tree burns\n",
    "                elif random() < probLightning:\n",
    "                    \n",
    "                    # if the area is immune to fire the tree does not burn\n",
    "                    if random() < probImmune:\n",
    "                        forestGrid[i,j] = NON_BURNING_TREE\n",
    "                    else:\n",
    "                        forestGrid[i,j] = BURNING_TREE\n",
    "                \n",
    "                # else the tree doesn't burn cause there are burning influences\n",
    "                else:\n",
    "                    forestGrid[i, j] = NON_BURNING_TREE \n",
    "            \n",
    "            # if the area is already a burning tree, then the tree burns to the ground\n",
    "            elif forestGrid[i, j] == BURNING_TREE:\n",
    "                forestGrid[i, j] = GROUND\n",
    "            \n",
    "            # otherwise the area remains empty if it's a ground\n",
    "            else:\n",
    "                forestGrid[i, j] = GROUND\n",
    "            \n",
    "    return forestGrid"
   ]
  },
  {
   "cell_type": "code",
   "execution_count": 14,
   "id": "79bc3618",
   "metadata": {},
   "outputs": [],
   "source": [
    "numba.jit(nopython=True, parallel=True)\n",
    "def VisualizeForestFireSpread_Parallel(sizeOfForest, forest):\n",
    "    \n",
    "    # select only the forest site with no borderlines\n",
    "    Onlyforest = forest[1:sizeOfForest + 1, 1:sizeOfForest + 1]\n",
    "    \n",
    "    # extend the grid using periodic boundary conditions\n",
    "    \n",
    "    # extending the boundary rows with ghost areas so that we can spread the fire at the site borders too.\n",
    "    rowStack = np.row_stack((Onlyforest[-1,:], Onlyforest, Onlyforest[0,:]))\n",
    "    \n",
    "    # extending the boundary columns with ghost areas so that we can spread the fire at the site borders too.\n",
    "    forestAfterExtension = np.column_stack((rowStack[:,-1], rowStack, rowStack[:,0]))\n",
    "    \n",
    "    # now we can spread the fire  \n",
    "    appliedSpreadForest = spreadTheFireWithMoore_Parallel(sizeOfForest, forestAfterExtension)\n",
    "    \n",
    "    # remove the ghost areas and return the borderline before plotting\n",
    "    Onlyforest = appliedSpreadForest[1:sizeOfForest + 1, 1:sizeOfForest + 1]\n",
    "    forest[1:sizeOfForest + 1, 1:sizeOfForest + 1] = Onlyforest\n",
    "        \n",
    "    return forest"
   ]
  },
  {
   "cell_type": "code",
   "execution_count": 21,
   "id": "cc8aac15",
   "metadata": {},
   "outputs": [
    {
     "name": "stdout",
     "output_type": "stream",
     "text": [
      "Time elapsed for applying the spread (Parallel) on forest grid size 100: 0.06099867820739746 seconds\n"
     ]
    },
    {
     "data": {
      "image/png": "[encoded data removed]",
      "text/plain": [
       "<Figure size 864x864 with 1 Axes>"
      ]
     },
     "metadata": {
      "needs_background": "light"
     },
     "output_type": "display_data"
    }
   ],
   "source": [
    "gridSize = 100\n",
    "\n",
    "# compilling the functions before use\n",
    "forest = initForestState_Parallel(gridSize)\n",
    "forest_test = VisualizeForestFireSpread_Parallel(gridSize, forest)\n",
    "\n",
    "startTime = time.time()\n",
    "fig_no = 7\n",
    "\n",
    "forest = initForestState_Parallel(gridSize)\n",
    "\n",
    "forest_test = VisualizeForestFireSpread_Parallel(gridSize, forest)\n",
    "\n",
    "timeElapsed = time.time() - startTime\n",
    "print(\"Time elapsed for applying the spread (Parallel) on forest grid size {0}: {1} seconds\".format(gridSize, timeElapsed))\n",
    "\n",
    "fig = plt.figure(num=fig_no, figsize=(plot_size, plot_size))\n",
    "ax = fig.add_subplot(111)\n",
    "ax.set_title('Simulation of Forest Fire Spread (Parallel) With Size {0}'.format(gridSize))\n",
    "ax.set_axis_off()\n",
    "    \n",
    "# plot the forest\n",
    "forestGridVisual = ax.imshow(forest, cmap=cmap, norm=norm)\n",
    "    \n",
    "def animate(i):\n",
    "    forestGridVisual.set_array(animate.forest)\n",
    "    animate.forest = VisualizeForestFireSpread_Parallel(gridSize, animate.forest)\n",
    "\n",
    "animate.forest = forest\n",
    "\n",
    "anim = animation.FuncAnimation(fig, animate, interval=animation_delay, frames=frame_size)\n",
    "\n",
    "# saving the animation as an mp4 video file\n",
    "anim.save('fire_spread_animation_{0}__with_parallel.gif'.format(gridSize))\n",
    "\n",
    "plt.show()"
   ]
  },
  {
   "cell_type": "code",
   "execution_count": 22,
   "id": "951a9be2",
   "metadata": {},
   "outputs": [
    {
     "name": "stdout",
     "output_type": "stream",
     "text": [
      "Time elapsed for applying the spread (Parallel) on forest grid size 400: 0.6148388385772705 seconds\n"
     ]
    },
    {
     "data": {
      "image/png": "[encoded data removed]",
      "text/plain": [
       "<Figure size 864x864 with 1 Axes>"
      ]
     },
     "metadata": {
      "needs_background": "light"
     },
     "output_type": "display_data"
    }
   ],
   "source": [
    "startTime = time.time()\n",
    "gridSize = 400\n",
    "fig_no = 8\n",
    "\n",
    "forest = initForestState_Parallel(gridSize)\n",
    "\n",
    "forest_test = VisualizeForestFireSpread_Parallel(gridSize, forest)\n",
    "\n",
    "timeElapsed = time.time() - startTime\n",
    "print(\"Time elapsed for applying the spread (Parallel) on forest grid size {0}: {1} seconds\".format(gridSize, timeElapsed))\n",
    "\n",
    "fig = plt.figure(num=fig_no, figsize=(plot_size, plot_size))\n",
    "ax = fig.add_subplot(111)\n",
    "ax.set_title('Simulation of Forest Fire Spread (Parallel) With Size {0}'.format(gridSize))\n",
    "ax.set_axis_off()\n",
    "    \n",
    "# plot the forest\n",
    "forestGridVisual = ax.imshow(forest, cmap=cmap, norm=norm)\n",
    "    \n",
    "def animate(i):\n",
    "    forestGridVisual.set_array(animate.forest)\n",
    "    animate.forest = VisualizeForestFireSpread_Parallel(gridSize, animate.forest)\n",
    "\n",
    "animate.forest = forest\n",
    "\n",
    "anim = animation.FuncAnimation(fig, animate, interval=animation_delay, frames=frame_size)\n",
    "\n",
    "# saving the animation as an mp4 video file\n",
    "anim.save('fire_spread_animation_{0}__with_parallel.gif'.format(gridSize))\n",
    "\n",
    "plt.show()"
   ]
  },
  {
   "cell_type": "code",
   "execution_count": 23,
   "id": "13743627",
   "metadata": {},
   "outputs": [
    {
     "name": "stdout",
     "output_type": "stream",
     "text": [
      "Time elapsed for applying the spread (Parallel) on forest grid size 800: 2.4354398250579834 seconds\n"
     ]
    },
    {
     "data": {
      "image/png": "[encoded data removed]",
      "text/plain": [
       "<Figure size 864x864 with 1 Axes>"
      ]
     },
     "metadata": {
      "needs_background": "light"
     },
     "output_type": "display_data"
    }
   ],
   "source": [
    "startTime = time.time()\n",
    "gridSize = 800\n",
    "fig_no = 9\n",
    "\n",
    "forest = initForestState_Parallel(gridSize)\n",
    "\n",
    "forest_test = VisualizeForestFireSpread_Parallel(gridSize, forest)\n",
    "\n",
    "timeElapsed = time.time() - startTime\n",
    "print(\"Time elapsed for applying the spread (Parallel) on forest grid size {0}: {1} seconds\".format(gridSize, timeElapsed))\n",
    "\n",
    "fig = plt.figure(num=fig_no, figsize=(plot_size, plot_size))\n",
    "ax = fig.add_subplot(111)\n",
    "ax.set_title('Simulation of Forest Fire Spread (Parallel) With Size {0}'.format(gridSize))\n",
    "ax.set_axis_off()\n",
    "    \n",
    "# plot the forest\n",
    "forestGridVisual = ax.imshow(forest, cmap=cmap, norm=norm)\n",
    "    \n",
    "def animate(i):\n",
    "    forestGridVisual.set_array(animate.forest)\n",
    "    animate.forest = VisualizeForestFireSpread_Parallel(gridSize, animate.forest)\n",
    "\n",
    "animate.forest = forest\n",
    "\n",
    "anim = animation.FuncAnimation(fig, animate, interval=animation_delay, frames=frame_size)\n",
    "\n",
    "# saving the animation as an mp4 video file\n",
    "anim.save('fire_spread_animation_{0}__with_parallel.gif'.format(gridSize))\n",
    "\n",
    "plt.show()"
   ]
  },
  {
   "cell_type": "code",
   "execution_count": 24,
   "id": "0a32f7ed",
   "metadata": {},
   "outputs": [
    {
     "name": "stdout",
     "output_type": "stream",
     "text": [
      "Time elapsed for applying the spread (Parallel) on forest grid size 1000: 3.762147903442383 seconds\n"
     ]
    },
    {
     "data": {
      "image/png": "[encoded data removed]",
      "text/plain": [
       "<Figure size 1224x1224 with 1 Axes>"
      ]
     },
     "metadata": {
      "needs_background": "light"
     },
     "output_type": "display_data"
    }
   ],
   "source": [
    "startTime = time.time()\n",
    "gridSize = 1000\n",
    "fig_no = 10\n",
    "\n",
    "forest = initForestState_Parallel(gridSize)\n",
    "\n",
    "forest_test = VisualizeForestFireSpread_Parallel(gridSize, forest)\n",
    "\n",
    "timeElapsed = time.time() - startTime\n",
    "print(\"Time elapsed for applying the spread (Parallel) on forest grid size {0}: {1} seconds\".format(gridSize, timeElapsed))\n",
    "\n",
    "fig = plt.figure(num=fig_no, figsize=(plot_size + 5, plot_size + 5))\n",
    "ax = fig.add_subplot(111)\n",
    "ax.set_title('Simulation of Forest Fire Spread (Parallel) With Size {0}'.format(gridSize))\n",
    "ax.set_axis_off()\n",
    "    \n",
    "# plot the forest\n",
    "forestGridVisual = ax.imshow(forest, cmap=cmap, norm=norm)\n",
    "    \n",
    "def animate(i):\n",
    "    forestGridVisual.set_array(animate.forest)\n",
    "    animate.forest = VisualizeForestFireSpread_Parallel(gridSize, animate.forest)\n",
    "\n",
    "animate.forest = forest\n",
    "\n",
    "anim = animation.FuncAnimation(fig, animate, interval=animation_delay, frames=frame_size)\n",
    "\n",
    "# saving the animation as an mp4 video file\n",
    "anim.save('fire_spread_animation_{0}__with_parallel.gif'.format(gridSize))\n",
    "\n",
    "plt.show()"
   ]
  },
  {
   "cell_type": "code",
   "execution_count": 25,
   "id": "7b53ed76",
   "metadata": {},
   "outputs": [
    {
     "name": "stdout",
     "output_type": "stream",
     "text": [
      "Time elapsed for applying the spread (Parallel) on forest grid size 1200: 5.9244468212127686 seconds\n"
     ]
    },
    {
     "data": {
      "image/png": "[encoded data removed]",
      "text/plain": [
       "<Figure size 1224x1224 with 1 Axes>"
      ]
     },
     "metadata": {
      "needs_background": "light"
     },
     "output_type": "display_data"
    }
   ],
   "source": [
    "startTime = time.time()\n",
    "gridSize = 1200\n",
    "fig_no = 11\n",
    "\n",
    "forest = initForestState_Parallel(gridSize)\n",
    "\n",
    "forest_test = VisualizeForestFireSpread_Parallel(gridSize, forest)\n",
    "\n",
    "timeElapsed = time.time() - startTime\n",
    "print(\"Time elapsed for applying the spread (Parallel) on forest grid size {0}: {1} seconds\".format(gridSize, timeElapsed))\n",
    "\n",
    "fig = plt.figure(num=fig_no, figsize=(plot_size + 5, plot_size + 5))\n",
    "ax = fig.add_subplot(111)\n",
    "ax.set_title('Simulation of Forest Fire Spread (Parallel) With Size {0}'.format(gridSize))\n",
    "ax.set_axis_off()\n",
    "    \n",
    "# plot the forest\n",
    "forestGridVisual = ax.imshow(forest, cmap=cmap, norm=norm)\n",
    "    \n",
    "def animate(i):\n",
    "    forestGridVisual.set_array(animate.forest)\n",
    "    animate.forest = VisualizeForestFireSpread_Parallel(gridSize, animate.forest)\n",
    "\n",
    "animate.forest = forest\n",
    "\n",
    "anim = animation.FuncAnimation(fig, animate, interval=animation_delay, frames=frame_size)\n",
    "\n",
    "# saving the animation as an mp4 video file\n",
    "anim.save('fire_spread_animation_{0}__with_parallel.gif'.format(gridSize))\n",
    "\n",
    "plt.show()"
   ]
  },
  {
   "cell_type": "code",
   "execution_count": 26,
   "id": "e73ea75a",
   "metadata": {},
   "outputs": [
    {
     "name": "stdout",
     "output_type": "stream",
     "text": [
      "Time elapsed for applying the spread (Parallel) on forest grid size 2000: 17.065704107284546 seconds\n"
     ]
    },
    {
     "data": {
      "image/png": "[encoded data removed]",
      "text/plain": [
       "<Figure size 1224x1224 with 1 Axes>"
      ]
     },
     "metadata": {
      "needs_background": "light"
     },
     "output_type": "display_data"
    }
   ],
   "source": [
    "startTime = time.time()\n",
    "gridSize = 2000\n",
    "fig_no = 11\n",
    "\n",
    "forest = initForestState_Parallel(gridSize)\n",
    "\n",
    "forest_test = VisualizeForestFireSpread_Parallel(gridSize, forest)\n",
    "\n",
    "timeElapsed = time.time() - startTime\n",
    "print(\"Time elapsed for applying the spread (Parallel) on forest grid size {0}: {1} seconds\".format(gridSize, timeElapsed))\n",
    "\n",
    "fig = plt.figure(num=fig_no, figsize=(plot_size + 5, plot_size + 5))\n",
    "ax = fig.add_subplot(111)\n",
    "ax.set_title('Simulation of Forest Fire Spread (Parallel) With Size {0}'.format(gridSize))\n",
    "ax.set_axis_off()\n",
    "    \n",
    "# plot the forest\n",
    "forestGridVisual = ax.imshow(forest, cmap=cmap, norm=norm)\n",
    "    \n",
    "def animate(i):\n",
    "    forestGridVisual.set_array(animate.forest)\n",
    "    animate.forest = VisualizeForestFireSpread_Parallel(gridSize, animate.forest)\n",
    "\n",
    "animate.forest = forest\n",
    "\n",
    "anim = animation.FuncAnimation(fig, animate, interval=animation_delay, frames=frame_size)\n",
    "\n",
    "# saving the animation as an mp4 video file\n",
    "anim.save('fire_spread_animation_{0}__with_parallel.gif'.format(gridSize))\n",
    "\n",
    "plt.show()"
   ]
  },
  {
   "cell_type": "code",
   "execution_count": null,
   "id": "024055e9",
   "metadata": {},
   "outputs": [],
   "source": []
  }
 ],
 "metadata": {
  "interpreter": {
   "hash": "57baa5815c940fdaff4d14510622de9616cae602444507ba5d0b6727c008cbd6"
  },
  "kernelspec": {
   "display_name": "Python 3",
   "language": "python",
   "name": "python3"
  },
  "language_info": {
   "codemirror_mode": {
    "name": "ipython",
    "version": 3
   },
   "file_extension": ".py",
   "mimetype": "text/x-python",
   "name": "python",
   "nbconvert_exporter": "python",
   "pygments_lexer": "ipython3",
   "version": "3.9.5"
  }
 },
 "nbformat": 4,
 "nbformat_minor": 5
}
