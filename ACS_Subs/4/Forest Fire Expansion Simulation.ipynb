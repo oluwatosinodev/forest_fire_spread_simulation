{
 "cells": [
  {
   "cell_type": "code",
   "execution_count": 1,
   "id": "10b18606",
   "metadata": {},
   "outputs": [],
   "source": [
    "# importing packages for the simulation\n",
    "from matplotlib.animation import FuncAnimation\n",
    "from matplotlib import pyplot as plt, colors\n",
    "from random import *\n",
    "import time\n",
    "import numpy as np\n",
    "import numba as nb"
   ]
  },
  {
   "cell_type": "code",
   "execution_count": 2,
   "id": "dc3351fb",
   "metadata": {},
   "outputs": [],
   "source": [
    "# Declaring variables values for initializing the forest fire expansion simulation\n",
    "\n",
    "FOREST_BORDER = 3 # A border of the forest\n",
    "FREELAND = 0 # Area with no trees\n",
    "TREE = 1 # An area with trees\n",
    "TREE_CATCHES_FIRE = 2 # An area with trees on fire\n",
    "\n",
    "probBurning = 0.01 # probability that a tree is on fire\n",
    "probImmune = 0.3 # probability that a tree is immune to fire\n",
    "probLightning = 0.001 # probability that lightning strikes the area\n",
    "probTree = 0.8 # probability that a tree is on the area\n",
    "\n",
    "bounds = [0, 1, 2, 3]\n",
    "# brown represent an empty ground, green - trees, blue - fire flames, black will control the color shades\n",
    "cmap = colors.ListedColormap(['brown', 'green', 'blue', 'black'])\n",
    "norm = colors.BoundaryNorm(bounds, cmap.N)"
   ]
  },
  {
   "cell_type": "markdown",
   "id": "6962f462",
   "metadata": {},
   "source": [
    "Squential implementation of the Forest Spread Simulation"
   ]
  },
  {
   "cell_type": "code",
   "execution_count": 3,
   "id": "58e20a70",
   "metadata": {},
   "outputs": [],
   "source": [
    "\n",
    "def fillTheNewForestSite(size):\n",
    "    \n",
    "    # create empty site with border\n",
    "    forest = np.ones((size + 2, size + 2)) * FOREST_BORDER\n",
    "    \n",
    "    # loop through every area of the forest\n",
    "    for i in range(1, len(forest) - 1 ):\n",
    "        for j in range(1, len(forest[0]) - 1):\n",
    "            # if there is a tree, check if it's catches fire, otherwise, it remains a tree\n",
    "            # if it's not a tree, then it's an free land, according to the specification\n",
    "            if random() < probTree:\n",
    "                if random() < probBurning:\n",
    "                    forest[i][j] = TREE_CATCHES_FIRE\n",
    "                else:\n",
    "                    forest[i][j] = TREE\n",
    "            else:\n",
    "                forest[i][j] = FREELAND\n",
    "    \n",
    "    return forest"
   ]
  },
  {
   "cell_type": "code",
   "execution_count": 4,
   "id": "41789403",
   "metadata": {},
   "outputs": [],
   "source": [
    "def expandTheFireSimulation(extendedforest, size):\n",
    "    # spreading the fire in the forest\n",
    "    for i in range(1, size + 1):\n",
    "        for j in range(1, size + 1):\n",
    "            \n",
    "            # if there is a tree in this position\n",
    "            if extendedforest[i][j] == TREE:             \n",
    "                    \n",
    "                # if a neighbour in its moore neighborhoods (# north, south, east, west, north-east, north-west, south-east, south-west)\n",
    "                # is on fire then the tree catches fire                \n",
    "                if (extendedforest[i - 1][j] == TREE_CATCHES_FIRE or extendedforest[i + 1][j] == TREE_CATCHES_FIRE or \n",
    "                    extendedforest[i][j - 1] == TREE_CATCHES_FIRE or extendedforest[i][j + 1] == TREE_CATCHES_FIRE or \n",
    "                    extendedforest[i - 1][j - 1] == TREE_CATCHES_FIRE or extendedforest[i - 1][j + 1] == TREE_CATCHES_FIRE or \n",
    "                    extendedforest[i + 1][j - 1] == TREE_CATCHES_FIRE or extendedforest[i + 1][j + 1] == TREE_CATCHES_FIRE):\n",
    "                    \n",
    "                    # the tree will not catch fire it's immune to it\n",
    "                    if random() < probImmune:\n",
    "                        extendedforest[i][j] = TREE\n",
    "                    # otherwise the it will catch fire\n",
    "                    else:\n",
    "                        extendedforest[i][j] = TREE_CATCHES_FIRE\n",
    "                    \n",
    "                # if lightning strikes the forest at this time, the tree catches fire\n",
    "                elif random() < probLightning:\n",
    "                    # the tree will not catch fire it's immune to it\n",
    "                    if random() < probImmune:\n",
    "                        extendedforest[i][j] = TREE\n",
    "                    # otherwise the it will catch fire\n",
    "                    else:\n",
    "                        extendedforest[i][j] = TREE_CATCHES_FIRE\n",
    "                    \n",
    "                # otherwise, the tree remains\n",
    "                else:\n",
    "                    extendedforest[i][j] = TREE\n",
    "            \n",
    "            # if tree already caught fire, then it will burns to the ground\n",
    "            elif extendedforest[i][j] == TREE_CATCHES_FIRE:\n",
    "                extendedforest[i][j] = FREELAND\n",
    "            else:\n",
    "                extendedforest[i][j] = FREELAND\n",
    "                    \n",
    "    return extendedforest"
   ]
  },
  {
   "cell_type": "code",
   "execution_count": 5,
   "id": "eec1611d",
   "metadata": {},
   "outputs": [],
   "source": [
    "def applyPeriodicBoundaryConditions(forest, size):\n",
    "    # using periodic boundary conditions, extend the boundaries of the site\n",
    "    # by creating ghost cells around it before applying the fire expansion rules\n",
    "    \n",
    "    # get the forest without the border\n",
    "    innerSite = forest[1:size + 1, 1:size + 1]\n",
    "    \n",
    "    # expand the forest site by\n",
    "    # adding the buttom boundary cells to top boundary and vice versa\n",
    "    rStack = np.row_stack((innerSite[-1,:], innerSite, innerSite[0,:]))\n",
    "    \n",
    "    # adding the right boundary cells to the left boundary and vice versa\n",
    "    extendedForest = np.column_stack((rStack[:,-1], rStack, rStack[:,0]))\n",
    "    \n",
    "    extendedForest = expandTheFireSimulation(extendedForest, size)\n",
    "    \n",
    "    # remove ghost cells at the boundaries before returning\n",
    "    innerSite = extendedForest[1:size + 1, 1:size + 1]   \n",
    "    \n",
    "    # return the forest border \n",
    "    forest[1:size + 1, 1:size + 1] = innerSite\n",
    "    \n",
    "    # return the forest\n",
    "    return forest"
   ]
  },
  {
   "cell_type": "code",
   "execution_count": 6,
   "id": "2680ae75",
   "metadata": {},
   "outputs": [
    {
     "name": "stdout",
     "output_type": "stream",
     "text": [
      "Execution Time:  0.07299494743347168\n"
     ]
    },
    {
     "data": {
      "image/png": "[encoded data removed]",
      "text/plain": [
       "<Figure size 1080x1080 with 1 Axes>"
      ]
     },
     "metadata": {
      "needs_background": "light"
     },
     "output_type": "display_data"
    }
   ],
   "source": [
    "# capturing time for one iteration including \n",
    "# forest site initialization, boundary extensions and fire expansion\n",
    "ExecutionStartTime = time.time()\n",
    "\n",
    "size = 100\n",
    "forestGrid = fillTheNewForestSite(size)\n",
    "test_forest = applyPeriodicBoundaryConditions(forestGrid, size)\n",
    "\n",
    "print(\"Execution Time: \", time.time() - ExecutionStartTime)\n",
    "\n",
    "# initialize the plot for the forest\n",
    "fig = plt.figure(figsize=(15, 15))\n",
    "ax = fig.add_subplot(111)\n",
    "ax.set_axis_off()\n",
    "forestSite = ax.imshow(forestGrid, cmap=cmap, norm=norm)\n",
    "ax.set_title('Forest Fire Expansion Simulation with GridSize {0}'.format(size))\n",
    "\n",
    "# This function produces new images of the forest after each fire expansion.\n",
    "def animate(i):\n",
    "    forestSite.set_data(animate.Grid)\n",
    "    \n",
    "    # extend the boundaries of the forest\n",
    "    animate.Grid = applyPeriodicBoundaryConditions(animate.Grid, size)\n",
    "    \n",
    "# assigning the forest grid to the animate namespace.\n",
    "animate.Grid = forestGrid\n",
    "\n",
    "# display the forest fire images, fire expansion would be applied 40 times\n",
    "anim = FuncAnimation(fig, animate, interval=250, frames=40)\n",
    "anim.save('forest_{0}_sequential.gif'.format(size))\n",
    "\n",
    "plt.show()"
   ]
  },
  {
   "cell_type": "code",
   "execution_count": 7,
   "id": "e45fc26c",
   "metadata": {},
   "outputs": [
    {
     "name": "stdout",
     "output_type": "stream",
     "text": [
      "Execution Time:  0.85555100440979\n"
     ]
    },
    {
     "data": {
      "image/png": "[encoded data removed]",
      "text/plain": [
       "<Figure size 1080x1080 with 1 Axes>"
      ]
     },
     "metadata": {
      "needs_background": "light"
     },
     "output_type": "display_data"
    }
   ],
   "source": [
    "# capturing time for one iteration including \n",
    "# forest site initialization, boundary extensions and fire expansion\n",
    "ExecutionStartTime = time.time()\n",
    "\n",
    "size = 400\n",
    "forestGrid = fillTheNewForestSite(size)\n",
    "test_forest = applyPeriodicBoundaryConditions(forestGrid, size)\n",
    "\n",
    "print(\"Execution Time: \", time.time() - ExecutionStartTime)\n",
    "\n",
    "# initialize the plot for the forest\n",
    "fig = plt.figure(figsize=(15, 15))\n",
    "ax = fig.add_subplot(111)\n",
    "ax.set_axis_off()\n",
    "forestSite = ax.imshow(forestGrid, cmap=cmap, norm=norm)\n",
    "ax.set_title('Forest Fire Expansion Simulation with GridSize {0}'.format(size))\n",
    "\n",
    "# This function produces new images of the forest after each fire expansion.\n",
    "def animate(i):\n",
    "    forestSite.set_data(animate.Grid)\n",
    "    \n",
    "    # extend the boundaries of the forest\n",
    "    animate.Grid = applyPeriodicBoundaryConditions(animate.Grid, size)\n",
    "    \n",
    "# assigning the forest grid to the animate namespace.\n",
    "animate.Grid = forestGrid\n",
    "\n",
    "# display the forest fire images, fire expansion would be applied 40 times\n",
    "anim = FuncAnimation(fig, animate, interval=250, frames=40)\n",
    "anim.save('forest_{0}_sequential.gif'.format(size))\n",
    "\n",
    "plt.show()"
   ]
  },
  {
   "cell_type": "code",
   "execution_count": 8,
   "id": "39767a32",
   "metadata": {},
   "outputs": [
    {
     "name": "stdout",
     "output_type": "stream",
     "text": [
      "Execution Time:  3.4519968032836914\n"
     ]
    },
    {
     "data": {
      "image/png": "[encoded data removed]",
      "text/plain": [
       "<Figure size 1080x1080 with 1 Axes>"
      ]
     },
     "metadata": {
      "needs_background": "light"
     },
     "output_type": "display_data"
    }
   ],
   "source": [
    "# capturing time for one iteration including \n",
    "# forest site initialization, boundary extensions and fire expansion\n",
    "ExecutionStartTime = time.time()\n",
    "\n",
    "size = 800\n",
    "forestGrid = fillTheNewForestSite(size)\n",
    "test_forest = applyPeriodicBoundaryConditions(forestGrid, size)\n",
    "\n",
    "print(\"Execution Time: \", time.time() - ExecutionStartTime)\n",
    "\n",
    "# initialize the plot for the forest\n",
    "fig = plt.figure(figsize=(15, 15))\n",
    "ax = fig.add_subplot(111)\n",
    "ax.set_axis_off()\n",
    "forestSite = ax.imshow(forestGrid, cmap=cmap, norm=norm)\n",
    "ax.set_title('Forest Fire Expansion Simulation with GridSize {0}'.format(size))\n",
    "\n",
    "# This function produces new images of the forest after each fire expansion.\n",
    "def animate(i):\n",
    "    forestSite.set_data(animate.Grid)\n",
    "    \n",
    "    # extend the boundaries of the forest\n",
    "    animate.Grid = applyPeriodicBoundaryConditions(animate.Grid, size)\n",
    "    \n",
    "# assigning the forest grid to the animate namespace.\n",
    "animate.Grid = forestGrid\n",
    "\n",
    "# display the forest fire images, fire expansion would be applied 40 times\n",
    "anim = FuncAnimation(fig, animate, interval=250, frames=40)\n",
    "anim.save('forest_{0}_sequential.gif'.format(size))\n",
    "\n",
    "plt.show()"
   ]
  },
  {
   "cell_type": "code",
   "execution_count": 9,
   "id": "155c980a",
   "metadata": {},
   "outputs": [
    {
     "name": "stdout",
     "output_type": "stream",
     "text": [
      "Execution Time:  5.708359241485596\n"
     ]
    },
    {
     "data": {
      "image/png": "[encoded data removed]",
      "text/plain": [
       "<Figure size 1080x1080 with 1 Axes>"
      ]
     },
     "metadata": {
      "needs_background": "light"
     },
     "output_type": "display_data"
    }
   ],
   "source": [
    "# capturing time for one iteration including \n",
    "# forest site initialization, boundary extensions and fire expansion\n",
    "ExecutionStartTime = time.time()\n",
    "\n",
    "size = 1000\n",
    "forestGrid = fillTheNewForestSite(size)\n",
    "test_forest = applyPeriodicBoundaryConditions(forestGrid, size)\n",
    "\n",
    "print(\"Execution Time: \", time.time() - ExecutionStartTime)\n",
    "\n",
    "# initialize the plot for the forest\n",
    "fig = plt.figure(figsize=(15, 15))\n",
    "ax = fig.add_subplot(111)\n",
    "ax.set_axis_off()\n",
    "forestSite = ax.imshow(forestGrid, cmap=cmap, norm=norm)\n",
    "ax.set_title('Forest Fire Expansion Simulation with GridSize {0}'.format(size))\n",
    "\n",
    "# This function produces new images of the forest after each fire expansion.\n",
    "def animate(i):\n",
    "    forestSite.set_data(animate.Grid)\n",
    "    \n",
    "    # extend the boundaries of the forest\n",
    "    animate.Grid = applyPeriodicBoundaryConditions(animate.Grid, size)\n",
    "    \n",
    "# assigning the forest grid to the animate namespace.\n",
    "animate.Grid = forestGrid\n",
    "\n",
    "# display the forest fire images, fire expansion would be applied 40 times\n",
    "anim = FuncAnimation(fig, animate, interval=250, frames=40)\n",
    "anim.save('forest_{0}_sequential.gif'.format(size))\n",
    "\n",
    "plt.show()"
   ]
  },
  {
   "cell_type": "code",
   "execution_count": 10,
   "id": "c986c346",
   "metadata": {},
   "outputs": [
    {
     "name": "stdout",
     "output_type": "stream",
     "text": [
      "Execution Time:  7.845261096954346\n"
     ]
    },
    {
     "data": {
      "image/png": "[encoded data removed]",
      "text/plain": [
       "<Figure size 1080x1080 with 1 Axes>"
      ]
     },
     "metadata": {
      "needs_background": "light"
     },
     "output_type": "display_data"
    }
   ],
   "source": [
    "# capturing time for one iteration including \n",
    "# forest site initialization, boundary extensions and fire expansion\n",
    "ExecutionStartTime = time.time()\n",
    "\n",
    "size = 1200\n",
    "forestGrid = fillTheNewForestSite(size)\n",
    "test_forest = applyPeriodicBoundaryConditions(forestGrid, size)\n",
    "\n",
    "print(\"Execution Time: \", time.time() - ExecutionStartTime)\n",
    "\n",
    "# initialize the plot for the forest\n",
    "fig = plt.figure(figsize=(15, 15))\n",
    "ax = fig.add_subplot(111)\n",
    "ax.set_axis_off()\n",
    "forestSite = ax.imshow(forestGrid, cmap=cmap, norm=norm)\n",
    "ax.set_title('Forest Fire Expansion Simulation with GridSize {0}'.format(size))\n",
    "\n",
    "# This function produces new images of the forest after each fire expansion.\n",
    "def animate(i):\n",
    "    forestSite.set_data(animate.Grid)\n",
    "    \n",
    "    # extend the boundaries of the forest\n",
    "    animate.Grid = applyPeriodicBoundaryConditions(animate.Grid, size)\n",
    "    \n",
    "# assigning the forest grid to the animate namespace.\n",
    "animate.Grid = forestGrid\n",
    "\n",
    "# display the forest fire images, fire expansion would be applied 40 times\n",
    "anim = FuncAnimation(fig, animate, interval=250, frames=40)\n",
    "anim.save('forest_{0}_sequential.gif'.format(size))\n",
    "\n",
    "plt.show()"
   ]
  },
  {
   "cell_type": "code",
   "execution_count": 11,
   "id": "60a180a1",
   "metadata": {},
   "outputs": [
    {
     "name": "stdout",
     "output_type": "stream",
     "text": [
      "Execution Time:  22.07216763496399\n"
     ]
    },
    {
     "data": {
      "image/png": "[encoded data removed]",
      "text/plain": [
       "<Figure size 1080x1080 with 1 Axes>"
      ]
     },
     "metadata": {
      "needs_background": "light"
     },
     "output_type": "display_data"
    }
   ],
   "source": [
    "# capturing time for one iteration including \n",
    "# forest site initialization, boundary extensions and fire expansion\n",
    "ExecutionStartTime = time.time()\n",
    "\n",
    "size = 2000\n",
    "forestGrid = fillTheNewForestSite(size)\n",
    "test_forest = applyPeriodicBoundaryConditions(forestGrid, size)\n",
    "\n",
    "print(\"Execution Time: \", time.time() - ExecutionStartTime)\n",
    "\n",
    "# initialize the plot for the forest\n",
    "fig = plt.figure(figsize=(15, 15))\n",
    "ax = fig.add_subplot(111)\n",
    "ax.set_axis_off()\n",
    "forestSite = ax.imshow(forestGrid, cmap=cmap, norm=norm)\n",
    "ax.set_title('Forest Fire Expansion Simulation with GridSize {0}'.format(size))\n",
    "\n",
    "# This function produces new images of the forest after each fire expansion.\n",
    "def animate(i):\n",
    "    forestSite.set_data(animate.Grid)\n",
    "    \n",
    "    # extend the boundaries of the forest\n",
    "    animate.Grid = applyPeriodicBoundaryConditions(animate.Grid, size)\n",
    "    \n",
    "# assigning the forest grid to the animate namespace.\n",
    "animate.Grid = forestGrid\n",
    "\n",
    "# display the forest fire images, fire expansion would be applied 40 times\n",
    "anim = FuncAnimation(fig, animate, interval=250, frames=40)\n",
    "anim.save('forest_{0}_sequential.gif'.format(size))\n",
    "\n",
    "plt.show()"
   ]
  },
  {
   "cell_type": "markdown",
   "id": "31195c45",
   "metadata": {},
   "source": [
    "Parallel implementation of the Forest Spread Simulation"
   ]
  },
  {
   "cell_type": "code",
   "execution_count": 16,
   "id": "8872606c",
   "metadata": {},
   "outputs": [],
   "source": [
    "nb.jit(nopython=True, parallel=True)\n",
    "def p_fillTheNewForestSite(size):\n",
    "    \n",
    "    # create empty site with border\n",
    "    forest = np.ones((size + 2, size + 2)) * FOREST_BORDER\n",
    "    \n",
    "    # loop through every area of the forest\n",
    "    for i in nb.prange(1, len(forest) -1 ):\n",
    "        for j in nb.prange(1, len(forest[0]) - 1):\n",
    "            # if there is a tree, check if it's catches fire, otherwise, it remains a tree\n",
    "            # if it's not a tree, then it's an free land, according to the specification\n",
    "            if random() < probTree:\n",
    "                if random() < probBurning:\n",
    "                    forest[i][j] = TREE_CATCHES_FIRE\n",
    "                else:\n",
    "                    forest[i][j] = TREE\n",
    "            else:\n",
    "                forest[i][j] = FREELAND\n",
    "                \n",
    "    return forest"
   ]
  },
  {
   "cell_type": "code",
   "execution_count": 17,
   "id": "cce4f7b3",
   "metadata": {},
   "outputs": [],
   "source": [
    "# parallel implementation\n",
    "nb.jit(nopython=True, parallel=True)\n",
    "def p_expandTheFireSimulation(extendedforest, size):\n",
    "    # spreading the fire in the forest\n",
    "    for i in nb.prange(1, size + 1):\n",
    "        for j in nb.range(1, size + 1):\n",
    "            \n",
    "            # if there is a tree in this position\n",
    "            if extendedforest[i][j] == TREE:             \n",
    "                    \n",
    "                # if a neighbour in its moore neighborhoods (# north, south, east, west, north-east, north-west, south-east, south-west)\n",
    "                # is on fire then the tree catches fire                \n",
    "                if (extendedforest[i - 1][j] == TREE_CATCHES_FIRE or extendedforest[i + 1][j] == TREE_CATCHES_FIRE or \n",
    "                    extendedforest[i][j - 1] == TREE_CATCHES_FIRE or extendedforest[i][j + 1] == TREE_CATCHES_FIRE or \n",
    "                    extendedforest[i - 1][j - 1] == TREE_CATCHES_FIRE or extendedforest[i - 1][j + 1] == TREE_CATCHES_FIRE or \n",
    "                    extendedforest[i + 1][j - 1] == TREE_CATCHES_FIRE or extendedforest[i + 1][j + 1] == TREE_CATCHES_FIRE):\n",
    "                    \n",
    "                    # the tree will not catch fire it's immune to it\n",
    "                    if random() < probImmune:\n",
    "                        extendedforest[i][j] = TREE\n",
    "                    # otherwise the it will catch fire\n",
    "                    else:\n",
    "                        extendedforest[i][j] = TREE_CATCHES_FIRE\n",
    "                    \n",
    "                # if lightning strikes the forest at this time, the tree catches fire\n",
    "                elif random() < probLightning:\n",
    "                    # the tree will not catch fire it's immune to it\n",
    "                    if random() < probImmune:\n",
    "                        extendedforest[i][j] = TREE\n",
    "                    # otherwise the it will catch fire\n",
    "                    else:\n",
    "                        extendedforest[i][j] = TREE_CATCHES_FIRE\n",
    "                    \n",
    "                # otherwise, the tree remains\n",
    "                else:\n",
    "                    extendedforest[i][j] = TREE\n",
    "            \n",
    "            # if tree already caught fire, then it will burns to the ground\n",
    "            elif extendedforest[i][j] == TREE_CATCHES_FIRE:\n",
    "                extendedforest[i][j] = FREELAND\n",
    "            else:\n",
    "                extendedforest[i][j] = FREELAND\n",
    "                    \n",
    "    return extendedforest"
   ]
  },
  {
   "cell_type": "code",
   "execution_count": 18,
   "id": "95d0fb00",
   "metadata": {},
   "outputs": [],
   "source": [
    "# parallel implementation\n",
    "nb.jit(nopython=True, parallel=True)\n",
    "def p_applyPeriodicBoundaryConditions(forest, size):\n",
    "    # using periodic boundary conditions, extend the boundaries of the site\n",
    "    # by creating ghost cells around it before applying the fire expansion rules\n",
    "    \n",
    "    # get the forest without the border\n",
    "    innerSite = forest[1:size + 1, 1:size + 1]\n",
    "    \n",
    "    # adding the buttom boundary cells to top boundary and vice versa\n",
    "    rStack = np.row_stack((innerSite[-1,:], innerSite, innerSite[0,:]))\n",
    "    \n",
    "    # adding the right boundary cells to the left boundary and vice versa\n",
    "    extendedForest = np.column_stack((rStack[:,-1], rStack, rStack[:,0]))    \n",
    "    \n",
    "    extendedForest = expandTheFireSimulation(extendedForest, size)\n",
    "    \n",
    "    # remove ghost cells at the boundaries before returning\n",
    "    innerSite = extendedForest[1:size + 1, 1:size + 1]   \n",
    "    \n",
    "    # return the forest border \n",
    "    forest[1:size + 1, 1:size + 1] = innerSite\n",
    "    \n",
    "    # return the forest\n",
    "    return forest"
   ]
  },
  {
   "cell_type": "code",
   "execution_count": 19,
   "id": "64647a09",
   "metadata": {},
   "outputs": [
    {
     "name": "stdout",
     "output_type": "stream",
     "text": [
      "Parallel Execution Time:  0.06499648094177246\n"
     ]
    }
   ],
   "source": [
    "# capturing time for one iteration including \n",
    "# forest site initialization, boundary extensions and fire expansion\n",
    "ExecutionStartTime = time.time()\n",
    "\n",
    "size = 100\n",
    "forestGrid = p_fillTheNewForestSite(size)\n",
    "test_forest = p_applyPeriodicBoundaryConditions(forestGrid, size)\n",
    "\n",
    "print(\"Parallel Execution Time: \", time.time() - ExecutionStartTime)"
   ]
  },
  {
   "cell_type": "code",
   "execution_count": 20,
   "id": "fe2422dd",
   "metadata": {},
   "outputs": [
    {
     "name": "stdout",
     "output_type": "stream",
     "text": [
      "Parallel Execution Time:  0.7666218280792236\n"
     ]
    }
   ],
   "source": [
    "# capturing time for one iteration including \n",
    "# forest site initialization, boundary extensions and fire expansion\n",
    "ExecutionStartTime = time.time()\n",
    "\n",
    "size = 400\n",
    "forestGrid = p_fillTheNewForestSite(size)\n",
    "test_forest = p_applyPeriodicBoundaryConditions(forestGrid, size)\n",
    "\n",
    "print(\"Parallel Execution Time: \", time.time() - ExecutionStartTime)"
   ]
  },
  {
   "cell_type": "code",
   "execution_count": 21,
   "id": "72e45e13",
   "metadata": {},
   "outputs": [
    {
     "name": "stdout",
     "output_type": "stream",
     "text": [
      "Parallel Execution Time:  2.9971907138824463\n"
     ]
    }
   ],
   "source": [
    "# capturing time for one iteration including \n",
    "# forest site initialization, boundary extensions and fire expansion\n",
    "ExecutionStartTime = time.time()\n",
    "\n",
    "size = 800\n",
    "forestGrid = p_fillTheNewForestSite(size)\n",
    "test_forest = p_applyPeriodicBoundaryConditions(forestGrid, size)\n",
    "\n",
    "print(\"Parallel Execution Time: \", time.time() - ExecutionStartTime)"
   ]
  },
  {
   "cell_type": "code",
   "execution_count": 22,
   "id": "7d39d089",
   "metadata": {},
   "outputs": [
    {
     "name": "stdout",
     "output_type": "stream",
     "text": [
      "Parallel Execution Time:  4.742138862609863\n"
     ]
    }
   ],
   "source": [
    "# capturing time for one iteration including \n",
    "# forest site initialization, boundary extensions and fire expansion\n",
    "ExecutionStartTime = time.time()\n",
    "\n",
    "size = 1000\n",
    "forestGrid = p_fillTheNewForestSite(size)\n",
    "test_forest = p_applyPeriodicBoundaryConditions(forestGrid, size)\n",
    "\n",
    "print(\"Parallel Execution Time: \", time.time() - ExecutionStartTime)"
   ]
  },
  {
   "cell_type": "code",
   "execution_count": 23,
   "id": "a55e971f",
   "metadata": {},
   "outputs": [
    {
     "name": "stdout",
     "output_type": "stream",
     "text": [
      "Parallel Execution Time:  7.291983127593994\n"
     ]
    }
   ],
   "source": [
    "# capturing time for one iteration including \n",
    "# forest site initialization, boundary extensions and fire expansion\n",
    "ExecutionStartTime = time.time()\n",
    "\n",
    "size = 1200\n",
    "forestGrid = p_fillTheNewForestSite(size)\n",
    "test_forest = p_applyPeriodicBoundaryConditions(forestGrid, size)\n",
    "\n",
    "print(\"Parallel Execution Time: \", time.time() - ExecutionStartTime)"
   ]
  },
  {
   "cell_type": "code",
   "execution_count": 24,
   "id": "503d8fea",
   "metadata": {},
   "outputs": [
    {
     "name": "stdout",
     "output_type": "stream",
     "text": [
      "Parallel Execution Time:  20.825210332870483\n"
     ]
    }
   ],
   "source": [
    "# capturing time for one iteration including \n",
    "# forest site initialization, boundary extensions and fire expansion\n",
    "ExecutionStartTime = time.time()\n",
    "\n",
    "size = 2000\n",
    "forestGrid = p_fillTheNewForestSite(size)\n",
    "test_forest = p_applyPeriodicBoundaryConditions(forestGrid, size)\n",
    "\n",
    "print(\"Parallel Execution Time: \", time.time() - ExecutionStartTime)"
   ]
  },
  {
   "cell_type": "code",
   "execution_count": null,
   "id": "b3bd682d",
   "metadata": {},
   "outputs": [],
   "source": []
  }
 ],
 "metadata": {
  "kernelspec": {
   "display_name": "venv",
   "language": "python",
   "name": "venv"
  },
  "language_info": {
   "codemirror_mode": {
    "name": "ipython",
    "version": 3
   },
   "file_extension": ".py",
   "mimetype": "text/x-python",
   "name": "python",
   "nbconvert_exporter": "python",
   "pygments_lexer": "ipython3",
   "version": "3.10.0"
  }
 },
 "nbformat": 4,
 "nbformat_minor": 5
}
