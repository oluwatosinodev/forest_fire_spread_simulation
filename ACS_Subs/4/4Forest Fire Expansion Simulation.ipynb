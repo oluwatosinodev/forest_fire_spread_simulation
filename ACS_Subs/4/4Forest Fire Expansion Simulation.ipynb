{
 "cells": [
  {
   "cell_type": "code",
   "execution_count": null,
   "id": "10b18606",
   "metadata": {},
   "outputs": [],
   "source": [
    "# importing packages for the simulation\n",
    "from matplotlib.animation import FuncAnimation\n",
    "from matplotlib import pyplot as plt, colors\n",
    "from random import *\n",
    "import time\n",
    "import numpy as np"
   ]
  },
  {
   "cell_type": "code",
   "execution_count": null,
   "id": "dc3351fb",
   "metadata": {},
   "outputs": [],
   "source": [
    "# Declaring variables values for initializing the forest fire expansion simulation\n",
    "\n",
    "FOREST_BORDER = 3 # A border of the forest\n",
    "NOTREE = 0 # Area with no trees\n",
    "TREE = 1 # An area with trees\n",
    "TREE_ON_FIRE = 2 # An area with trees on fire\n",
    "\n",
    "probBurning = 0.01 # probability that a tree is on fire\n",
    "probImmune = 0.3 # probability that a tree is immune to fire\n",
    "probLightning = 0.001 # probability that lightning strikes the area\n",
    "probTree = 0.8 # probability that a tree is on the area"
   ]
  },
  {
   "cell_type": "markdown",
   "id": "6962f462",
   "metadata": {},
   "source": [
    "Squential implementation of the Forest Spread Simulation"
   ]
  },
  {
   "cell_type": "code",
   "execution_count": null,
   "id": "58e20a70",
   "metadata": {},
   "outputs": [],
   "source": [
    "def initializeForest(forest):\n",
    "    for i in range(FOREST_BORDER, len(forest) - FOREST_BORDER):\n",
    "        for j in range(FOREST_BORDER, len(forest[0]) - FOREST_BORDER):\n",
    "            if random() < probTree:\n",
    "                forest[i][j] = TREE\n",
    "            else:\n",
    "                forest[i][j] = NOTREE"
   ]
  },
  {
   "cell_type": "code",
   "execution_count": null,
   "id": "41789403",
   "metadata": {},
   "outputs": [],
   "source": [
    "def expandTheFireSimulation(forest):\n",
    "    for i in range(FOREST_BORDER, len(forest) - FOREST_BORDER):\n",
    "        for j in range(FOREST_BORDER, len(forest[0]) - FOREST_BORDER):\n",
    "            if forest[i][j] == TREE:\n",
    "                if random() < probBurning:\n",
    "                    forest[i][j] = TREE_ON_FIRE\n",
    "                    \n",
    "    return forest"
   ]
  },
  {
   "cell_type": "code",
   "execution_count": null,
   "id": "eec1611d",
   "metadata": {},
   "outputs": [],
   "source": [
    "def visualizeTheFireExpansionSimulation(forest):\n",
    "    fig = plt.figure()\n",
    "    ims = []\n",
    "    for i in range(FOREST_BORDER, len(forest) - FOREST_BORDER):\n",
    "        for j in range(FOREST_BORDER, len(forest[0]) - FOREST_BORDER):\n",
    "            if forest[i][j] == TREE:\n",
    "                im = plt.imshow(forest, animated=True)\n",
    "                ims.append([im])\n",
    "    ani = ArtistAnimation(fig, ims, interval=100, blit=True, repeat_delay=1000)\n",
    "    plt.show()"
   ]
  },
  {
   "cell_type": "code",
   "execution_count": null,
   "id": "2680ae75",
   "metadata": {},
   "outputs": [],
   "source": [
    "ExecutionStartTime = time.time()\n",
    "\n",
    "TimeElapsed = time.time() - ExecutionStartTime\n",
    "print(\"Time Elapsed: \", TimeElapsed)"
   ]
  },
  {
   "cell_type": "markdown",
   "id": "31195c45",
   "metadata": {},
   "source": [
    "Parallel implementation of the Forest Spread Simulation"
   ]
  },
  {
   "cell_type": "code",
   "execution_count": null,
   "id": "cce4f7b3",
   "metadata": {},
   "outputs": [],
   "source": []
  }
 ],
 "metadata": {
  "kernelspec": {
   "display_name": "venv",
   "language": "python",
   "name": "venv"
  },
  "language_info": {
   "codemirror_mode": {
    "name": "ipython",
    "version": 3
   },
   "file_extension": ".py",
   "mimetype": "text/x-python",
   "name": "python",
   "nbconvert_exporter": "python",
   "pygments_lexer": "ipython3",
   "version": "3.10.0"
  }
 },
 "nbformat": 4,
 "nbformat_minor": 5
}
