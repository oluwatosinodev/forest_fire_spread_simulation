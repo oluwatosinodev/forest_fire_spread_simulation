{
 "cells": [
  {
   "cell_type": "code",
   "execution_count": 1,
   "id": "9374db9a",
   "metadata": {},
   "outputs": [],
   "source": [
    "# import needed libraries\n",
    "from time import time\n",
    "from random import random\n",
    "from matplotlib import colors, animation, pyplot as plt\n",
    "import numba\n",
    "import numpy as np"
   ]
  },
  {
   "cell_type": "code",
   "execution_count": 2,
   "id": "1535f027",
   "metadata": {},
   "outputs": [],
   "source": [
    "# variables to initializing the forest\n",
    "\n",
    "NO_TREE = 0 # represents an area with no trees\n",
    "TREE = 1 # represents an area with trees\n",
    "TREE_ON_FIRE = 2 # represents an area trees on fire\n",
    "\n",
    "bounds = [0, 1, 2, 3]\n",
    "cmap = colors.ListedColormap(['brown', 'green', 'red', 'orange'])\n",
    "norm = colors.BoundaryNorm(bounds, cmap.N)\n",
    "\n",
    "interval = 200 # represents the delay between each image of the animation/ spread of fire in milliseconds.\n",
    "frame_size = 50 # represents the size of the frame in pixels, or number of iterations of the simulation.\n",
    "\n",
    "probBurning = 0.01 # represents the probability that a tree is on fire\n",
    "probImmune = 0.3 # represents the probability that a tree is immune to fire\n",
    "probLightning = 0.001 # represents the probability that an area suffered a lightning strike\n",
    "probTree = 0.8 # represents the probability that an area is occupied by a tree"
   ]
  },
  {
   "cell_type": "markdown",
   "id": "460ad103",
   "metadata": {},
   "source": [
    "Non Parallel Simulation of the Spread"
   ]
  },
  {
   "cell_type": "code",
   "execution_count": 3,
   "id": "17798ce5",
   "metadata": {},
   "outputs": [],
   "source": [
    "# initialize the forest site\n",
    "def InitializeForest(forestSize):\n",
    "    \n",
    "    # creating a two-dimensional array of the forestgrid of size forestSize with no trees\n",
    "    forestGrid = np.zeros((forestSize, forestSize))\n",
    "    \n",
    "    # now we fill the forest with trees, empty area and trees on fire\n",
    "    for i in range(forestSize):\n",
    "        for j in range(forestSize):\n",
    "            \n",
    "            # if there is a tree, we set the value of the area to TREE\n",
    "            if random() < probTree:\n",
    "                # if the tree is on fire, we set the value of the area to TREE_ON_FIRE\n",
    "                if random() < probBurning:\n",
    "                    \n",
    "                    forestGrid[i][j] = TREE_ON_FIRE\n",
    "                else:\n",
    "                    # the tree is not on fire, we set the value of the area to TREE\n",
    "                    forestGrid[i][j] = TREE\n",
    "            else:\n",
    "                # the area is empty\n",
    "                forestGrid[i][j] = NO_TREE\n",
    "                \n",
    "    # return the forest grid\n",
    "    return forestGrid\n",
    "    "
   ]
  },
  {
   "cell_type": "code",
   "execution_count": 4,
   "id": "70bbbda3",
   "metadata": {},
   "outputs": [],
   "source": [
    "# function to apply the spread to the forest site using the Moore neighborhood algorithm\n",
    "def ApplyTheSpreadWithMoore(forest, forestSize):\n",
    "    \n",
    "    # looping through the forest grids (excluding the borders)\n",
    "    for i in range(1, forestSize + 1):\n",
    "        for j in range(1, forestSize + 1):\n",
    "            \n",
    "            # if the area has a tree\n",
    "            if forest[i][j] == TREE:\n",
    "                    \n",
    "                # if a tree on the 8 moore neighborhoods \n",
    "                # (south, south-east, south-west, west, east, north, north-east, north-west)\n",
    "                # is on fire, then the tree is likely to burn if it's not immune\n",
    "                if (forest[i - 1][j] == TREE_ON_FIRE or forest[i + 1][j] == TREE_ON_FIRE or \n",
    "                    forest[i][j - 1] == TREE_ON_FIRE or forest[i][j + 1] == TREE_ON_FIRE or \n",
    "                    forest[i - 1][j - 1] == TREE_ON_FIRE or forest[i - 1][j + 1] == TREE_ON_FIRE or \n",
    "                    forest[i + 1][j - 1] == TREE_ON_FIRE or forest[i + 1][j + 1] == TREE_ON_FIRE):\n",
    "    \n",
    "                    # if the tree is immune to fire it will not burn\n",
    "                    if random() < probImmune:\n",
    "                        forest[i][j] = TREE\n",
    "                    else:\n",
    "                        forest[i][j] = TREE_ON_FIRE\n",
    "                        \n",
    "                # if the forest site suffered a lightning strike the tree is likely burns\n",
    "                elif random() < probLightning:\n",
    "                    \n",
    "                    # # if the tree is immune to fire it will not burn\n",
    "                    if random() < probImmune:\n",
    "                        forest[i][j] = TREE\n",
    "                    else:\n",
    "                        forest[i][j] = TREE_ON_FIRE\n",
    "                \n",
    "                # else the tree doesn't burn cause there are no external influences\n",
    "                else:\n",
    "                    forest[i][j] = TREE \n",
    "            \n",
    "            # if the area has a tree already on fire, then it burns to the ground\n",
    "            elif forest[i][j] == TREE_ON_FIRE:\n",
    "                forest[i][j] = NO_TREE\n",
    "            \n",
    "            # otherwise the area remains empty since there is no tree\n",
    "            else:\n",
    "                forest[i][j] = NO_TREE\n",
    "            \n",
    "    return forest"
   ]
  },
  {
   "cell_type": "code",
   "execution_count": 5,
   "id": "40d6e348",
   "metadata": {},
   "outputs": [],
   "source": [
    "# extend the grid using periodic boundary conditions\n",
    "def ExtendTheForestGrids(forest, forestSize):\n",
    "    \n",
    "    # extending the forest grid boundaries with ghost cells of opposite boundaries at all sides\n",
    "    row_stack = np.row_stack((forest[-1,:], forest, forest[0,:]))\n",
    "    extendedGrid = np.column_stack((row_stack[:,-1], row_stack, row_stack[:,0]))\n",
    "    \n",
    "    # now we can spread the fire  \n",
    "    extendedGrid = ApplyTheSpreadWithMoore(extendedGrid, forestSize)\n",
    "    \n",
    "    # remove the ghost cells around the boundaries before plotting\n",
    "    forest = extendedGrid[1:forestSize + 1, 1:forestSize + 1]\n",
    "        \n",
    "    return forest"
   ]
  },
  {
   "cell_type": "code",
   "execution_count": 25,
   "id": "538beb2a",
   "metadata": {},
   "outputs": [
    {
     "name": "stdout",
     "output_type": "stream",
     "text": [
      "Time used for an iteration (initializtion, fire expansion ) on grid size 100: 0.06399202346801758 seconds\n"
     ]
    },
    {
     "data": {
      "image/png": "[encoded data removed]",
      "text/plain": [
       "<Figure size 720x720 with 1 Axes>"
      ]
     },
     "metadata": {
      "needs_background": "light"
     },
     "output_type": "display_data"
    }
   ],
   "source": [
    "initTime = time()\n",
    "forestSize = 100\n",
    "\n",
    "forest = InitializeForest(forestSize)\n",
    "\n",
    "ExtendTheForestGrids(forest, forestSize)\n",
    "\n",
    "print(\"Time used for an iteration (initializtion, fire expansion ) on grid size {0}: {1} seconds\".format(forestSize, time() - initTime))\n",
    "\n",
    "fig = plt.figure(figsize=(10, 10))\n",
    "ax = fig.add_subplot(111)\n",
    "ax.set_axis_off()\n",
    "ax.set_aspect('equal')\n",
    "ax.set_title('Fire Expansion Modelling Simulation With Size {0}'.format(forestSize))\n",
    "    \n",
    "# plot the forest grid\n",
    "siteGridInColor = ax.imshow(forest, cmap=cmap, norm=norm)\n",
    "    \n",
    "def animate(i):\n",
    "    siteGridInColor.set_data(animate.siteGrid)\n",
    "    animate.siteGrid = ExtendTheForestGrids(animate.siteGrid, forestSize)\n",
    "\n",
    "animate.siteGrid = forest\n",
    "\n",
    "anim = animation.FuncAnimation(fig, animate, interval=interval, frames=frame_size)\n",
    "\n",
    "# save animation as gif file\n",
    "anim.save('fire_expansion_simulation_{0}.gif'.format(forestSize))\n",
    "\n",
    "plt.show()"
   ]
  },
  {
   "cell_type": "code",
   "execution_count": 7,
   "id": "38619038",
   "metadata": {},
   "outputs": [
    {
     "name": "stdout",
     "output_type": "stream",
     "text": [
      "Time used for an iteration (initializtion, fire expansion ) on grid size 400: 1.0905864238739014 seconds\n"
     ]
    },
    {
     "data": {
      "image/png": "[encoded data removed]",
      "text/plain": [
       "<Figure size 720x720 with 1 Axes>"
      ]
     },
     "metadata": {
      "needs_background": "light"
     },
     "output_type": "display_data"
    }
   ],
   "source": [
    "initTime = time()\n",
    "forestSize = 400\n",
    "\n",
    "forest = InitializeForest(forestSize)\n",
    "\n",
    "ExtendTheForestGrids(forest, forestSize)\n",
    "\n",
    "print(\"Time used for an iteration (initializtion, fire expansion ) on grid size {0}: {1} seconds\".format(forestSize, time() - initTime))\n",
    "\n",
    "fig = plt.figure(figsize=(10, 10))\n",
    "ax = fig.add_subplot(111)\n",
    "ax.set_aspect('equal')\n",
    "ax.set_title('Fire Expansion Modelling Simulation With Size {0}'.format(forestSize))\n",
    "ax.set_axis_off()\n",
    "    \n",
    "# plot the forest grid\n",
    "siteGridInColor = ax.imshow(forest, cmap=cmap, norm=norm)\n",
    "    \n",
    "def animate(i):\n",
    "    siteGridInColor.set_array(animate.siteGrid)\n",
    "    animate.siteGrid = ExtendTheForestGrids(animate.siteGrid, forestSize)\n",
    "\n",
    "animate.siteGrid = forest\n",
    "\n",
    "anim = animation.FuncAnimation(fig, animate, interval=interval, frames=frame_size)\n",
    "\n",
    "# save animation as gif file\n",
    "anim.save('fire_expansion_simulation_{0}.gif'.format(forestSize))\n",
    "\n",
    "plt.show()"
   ]
  },
  {
   "cell_type": "code",
   "execution_count": 8,
   "id": "775baf9e",
   "metadata": {},
   "outputs": [
    {
     "name": "stdout",
     "output_type": "stream",
     "text": [
      "Time used for an iteration (initializtion, fire expansion ) on grid size 800: 2.9476656913757324 seconds\n"
     ]
    },
    {
     "data": {
      "image/png": "[encoded data removed]",
      "text/plain": [
       "<Figure size 720x720 with 1 Axes>"
      ]
     },
     "metadata": {
      "needs_background": "light"
     },
     "output_type": "display_data"
    }
   ],
   "source": [
    "initTime = time()\n",
    "forestSize = 800\n",
    "\n",
    "forest = InitializeForest(forestSize)\n",
    "\n",
    "ExtendTheForestGrids(forest, forestSize)\n",
    "\n",
    "print(\"Time used for an iteration (initializtion, fire expansion ) on grid size {0}: {1} seconds\".format(forestSize, time() - initTime))\n",
    "\n",
    "fig = plt.figure(figsize=(10, 10))\n",
    "ax = fig.add_subplot(111)\n",
    "ax.set_aspect('equal')\n",
    "ax.set_title('Fire Expansion Modelling Simulation With Size {0}'.format(forestSize))\n",
    "ax.set_axis_off()\n",
    "    \n",
    "# plot the forest grid\n",
    "siteGridInColor = ax.imshow(forest, cmap=cmap, norm=norm)\n",
    "    \n",
    "def animate(i):\n",
    "    siteGridInColor.set_array(animate.siteGrid)\n",
    "    animate.siteGrid = ExtendTheForestGrids(animate.siteGrid, forestSize)\n",
    "\n",
    "animate.siteGrid = forest\n",
    "\n",
    "anim = animation.FuncAnimation(fig, animate, interval=interval, frames=frame_size)\n",
    "\n",
    "# save animation as gif file\n",
    "anim.save('fire_expansion_simulation_{0}.gif'.format(forestSize))\n",
    "\n",
    "plt.show()"
   ]
  },
  {
   "cell_type": "code",
   "execution_count": 9,
   "id": "1ec61c0f",
   "metadata": {},
   "outputs": [
    {
     "name": "stdout",
     "output_type": "stream",
     "text": [
      "Time used for an iteration (initializtion, fire expansion ) on grid size 1000: 5.226000070571899 seconds\n"
     ]
    },
    {
     "data": {
      "image/png": "[encoded data removed]",
      "text/plain": [
       "<Figure size 1080x1080 with 1 Axes>"
      ]
     },
     "metadata": {
      "needs_background": "light"
     },
     "output_type": "display_data"
    }
   ],
   "source": [
    "initTime = time()\n",
    "forestSize = 1000\n",
    "\n",
    "forest = InitializeForest(forestSize)\n",
    "\n",
    "ExtendTheForestGrids(forest, forestSize)\n",
    "\n",
    "print(\"Time used for an iteration (initializtion, fire expansion ) on grid size {0}: {1} seconds\".format(forestSize, time() - initTime))\n",
    "\n",
    "fig = plt.figure(figsize=(15, 15))\n",
    "ax = fig.add_subplot(111)\n",
    "ax.set_aspect('equal')\n",
    "ax.set_title('Fire Expansion Modelling Simulation With Size {0}'.format(forestSize))\n",
    "ax.set_axis_off()\n",
    "    \n",
    "# plot the forest grid\n",
    "siteGridInColor = ax.imshow(forest, cmap=cmap, norm=norm)\n",
    "    \n",
    "def animate(i):\n",
    "    siteGridInColor.set_array(animate.siteGrid)\n",
    "    animate.siteGrid = ExtendTheForestGrids(animate.siteGrid, forestSize)\n",
    "\n",
    "animate.siteGrid = forest\n",
    "\n",
    "anim = animation.FuncAnimation(fig, animate, interval=interval, frames=frame_size)\n",
    "\n",
    "# save animation as gif file\n",
    "anim.save('fire_expansion_simulation_{0}.gif'.format(forestSize))\n",
    "\n",
    "plt.show()"
   ]
  },
  {
   "cell_type": "code",
   "execution_count": 10,
   "id": "431bd913",
   "metadata": {},
   "outputs": [
    {
     "name": "stdout",
     "output_type": "stream",
     "text": [
      "Time used for an iteration (initializtion, fire expansion ) on grid size 1200: 8.252012968063354 seconds\n"
     ]
    },
    {
     "data": {
      "image/png": "[encoded data removed]",
      "text/plain": [
       "<Figure size 1080x1080 with 1 Axes>"
      ]
     },
     "metadata": {
      "needs_background": "light"
     },
     "output_type": "display_data"
    }
   ],
   "source": [
    "initTime = time()\n",
    "forestSize = 1200\n",
    "\n",
    "forest = InitializeForest(forestSize)\n",
    "\n",
    "ExtendTheForestGrids(forest, forestSize)\n",
    "\n",
    "print(\"Time used for an iteration (initializtion, fire expansion ) on grid size {0}: {1} seconds\".format(forestSize, time() - initTime))\n",
    "\n",
    "fig = plt.figure(figsize=(15, 15))\n",
    "ax = fig.add_subplot(111)\n",
    "ax.set_aspect('equal')\n",
    "ax.set_title('Fire Expansion Modelling Simulation With Size {0}'.format(forestSize))\n",
    "ax.set_axis_off()\n",
    "    \n",
    "# plot the forest grid\n",
    "siteGridInColor = ax.imshow(forest, cmap=cmap, norm=norm)\n",
    "    \n",
    "def animate(i):\n",
    "    siteGridInColor.set_array(animate.siteGrid)\n",
    "    animate.siteGrid = ExtendTheForestGrids(animate.siteGrid, forestSize)\n",
    "\n",
    "animate.siteGrid = forest\n",
    "\n",
    "anim = animation.FuncAnimation(fig, animate, interval=interval, frames=frame_size)\n",
    "\n",
    "# save animation as gif file\n",
    "anim.save('fire_expansion_simulation_{0}.gif'.format(forestSize))\n",
    "\n",
    "plt.show()"
   ]
  },
  {
   "cell_type": "code",
   "execution_count": 11,
   "id": "393bca11",
   "metadata": {},
   "outputs": [
    {
     "name": "stdout",
     "output_type": "stream",
     "text": [
      "Time used for an iteration (initializtion, fire expansion ) on grid size 2000: 25.95537757873535 seconds\n"
     ]
    },
    {
     "data": {
      "image/png": "[encoded data removed]",
      "text/plain": [
       "<Figure size 1080x1080 with 1 Axes>"
      ]
     },
     "metadata": {
      "needs_background": "light"
     },
     "output_type": "display_data"
    }
   ],
   "source": [
    "initTime = time()\n",
    "forestSize = 2000\n",
    "\n",
    "forest = InitializeForest(forestSize)\n",
    "\n",
    "ExtendTheForestGrids(forest, forestSize)\n",
    "\n",
    "print(\"Time used for an iteration (initializtion, fire expansion ) on grid size {0}: {1} seconds\".format(forestSize, time() - initTime))\n",
    "\n",
    "fig = plt.figure(figsize=(15, 15))\n",
    "ax = fig.add_subplot(111)\n",
    "ax.set_aspect('equal')\n",
    "ax.set_title('Fire Expansion Modelling Simulation With Size {0}'.format(forestSize))\n",
    "ax.set_axis_off()\n",
    "    \n",
    "# plot the forest grid\n",
    "siteGridInColor = ax.imshow(forest, cmap=cmap, norm=norm)\n",
    "    \n",
    "def animate(i):\n",
    "    siteGridInColor.set_array(animate.siteGrid)\n",
    "    animate.siteGrid = ExtendTheForestGrids(animate.siteGrid, forestSize)\n",
    "\n",
    "animate.siteGrid = forest\n",
    "\n",
    "anim = animation.FuncAnimation(fig, animate, interval=interval, frames=frame_size)\n",
    "\n",
    "# save animation as gif file\n",
    "anim.save('fire_expansion_simulation_{0}.gif'.format(forestSize))\n",
    "\n",
    "plt.show()"
   ]
  },
  {
   "cell_type": "markdown",
   "id": "a33c9d76",
   "metadata": {},
   "source": [
    "Parallelizing the Simulation of the Spread"
   ]
  },
  {
   "cell_type": "code",
   "execution_count": 12,
   "id": "45a5d547",
   "metadata": {},
   "outputs": [],
   "source": [
    "# Parallellized initializeforest \n",
    "numba.jit(nopython=True, parallel=True)\n",
    "def ParallellizedInitializeForest(forestSize):\n",
    "    \n",
    "    # creating a two-dimensional array of the forestgrid of size forestSize with no trees\n",
    "    forestGrid = np.zeros((forestSize, forestSize))\n",
    "    \n",
    "    # now we fill the forest with trees, empty area and trees on fire\n",
    "    for i in numba.prange(forestSize):\n",
    "        for j in numba.prange(forestSize):\n",
    "            \n",
    "            # if there is a tree, we set the value of the area to TREE\n",
    "            if random() < probTree:\n",
    "                # if the tree is on fire, we set the value of the area to TREE_ON_FIRE\n",
    "                if random() < probBurning:\n",
    "                    \n",
    "                    forestGrid[i][j] = TREE_ON_FIRE\n",
    "                else:\n",
    "                    # the tree is not on fire, we set the value of the area to TREE\n",
    "                    forestGrid[i][j] = TREE\n",
    "            else:\n",
    "                # the area is empty\n",
    "                forestGrid[i][j] = NO_TREE\n",
    "                \n",
    "    # return the forest grid\n",
    "    return forestGrid"
   ]
  },
  {
   "cell_type": "code",
   "execution_count": 13,
   "id": "39a6a8be",
   "metadata": {},
   "outputs": [],
   "source": [
    "# function to apply the spread to the forest site using the Moore neighborhood algorithm\n",
    "\n",
    "numba.jit(nopython=True, parallel=True)\n",
    "def ParallellizedApplyTheSpreadWithMoore(forest, forestSize):\n",
    "    \n",
    "    # looping through the forest grids (excluding the borders)\n",
    "    for i in numba.prange(1, forestSize + 1):\n",
    "        for j in numba.prange(1, forestSize + 1):\n",
    "            \n",
    "            # if the area has a tree\n",
    "            if forest[i][j] == TREE:\n",
    "                    \n",
    "                # if a tree on the 8 moore neighborhoods \n",
    "                # (south, south-east, south-west, west, east, north, north-east, north-west)\n",
    "                # is on fire, then the tree is likely to burn if it's not immune\n",
    "                if (forest[i - 1][j] == TREE_ON_FIRE or forest[i + 1][j] == TREE_ON_FIRE or \n",
    "                    forest[i][j - 1] == TREE_ON_FIRE or forest[i][j + 1] == TREE_ON_FIRE or \n",
    "                    forest[i - 1][j - 1] == TREE_ON_FIRE or forest[i - 1][j + 1] == TREE_ON_FIRE or \n",
    "                    forest[i + 1][j - 1] == TREE_ON_FIRE or forest[i + 1][j + 1] == TREE_ON_FIRE):\n",
    "    \n",
    "                    # if the tree is immune to fire it will not burn\n",
    "                    if random() < probImmune:\n",
    "                        forest[i][j] = TREE\n",
    "                    else:\n",
    "                        forest[i][j] = TREE_ON_FIRE\n",
    "                        \n",
    "                # if the forest site suffered a lightning strike the tree is likely burns\n",
    "                elif random() < probLightning:\n",
    "                    \n",
    "                    # # if the tree is immune to fire it will not burn\n",
    "                    if random() < probImmune:\n",
    "                        forest[i][j] = TREE\n",
    "                    else:\n",
    "                        forest[i][j] = TREE_ON_FIRE\n",
    "                \n",
    "                # else the tree doesn't burn cause there are no external influences\n",
    "                else:\n",
    "                    forest[i][j] = TREE \n",
    "            \n",
    "            # if the area has a tree already on fire, then it burns to the ground\n",
    "            elif forest[i][j] == TREE_ON_FIRE:\n",
    "                forest[i][j] = NO_TREE\n",
    "            \n",
    "            # otherwise the area remains empty since there is no tree\n",
    "            else:\n",
    "                forest[i][j] = NO_TREE\n",
    "            \n",
    "    return forest"
   ]
  },
  {
   "cell_type": "code",
   "execution_count": 14,
   "id": "79bc3618",
   "metadata": {},
   "outputs": [],
   "source": [
    "# extend the grid using periodic boundary conditions\n",
    "numba.jit(nopython=True, parallel=True)\n",
    "def ParallellizedExtendTheForestGrids(forest, forestSize):\n",
    "    \n",
    "    # extending the forest grid boundaries with ghost cells of opposite boundaries at all sides\n",
    "    row_stack = np.row_stack((forest[-1,:], forest, forest[0,:]))\n",
    "    extendedGrid = np.column_stack((row_stack[:,-1], row_stack, row_stack[:,0]))\n",
    "    \n",
    "    # now we can spread the fire  \n",
    "    extendedGrid = ParallellizedApplyTheSpreadWithMoore(extendedGrid, forestSize)\n",
    "    \n",
    "    # remove the ghost cells around the boundaries before plotting\n",
    "    forest = extendedGrid[1:forestSize + 1, 1:forestSize + 1]\n",
    "        \n",
    "    return forest"
   ]
  },
  {
   "cell_type": "code",
   "execution_count": 26,
   "id": "3fe51f01",
   "metadata": {},
   "outputs": [],
   "source": [
    "# compile the parallelized functions\n",
    "forestSize = 100\n",
    "forest = ParallellizedInitializeForest(forestSize)\n",
    "forest_test = ParallellizedExtendTheForestGrids(forest, forestSize)"
   ]
  },
  {
   "cell_type": "code",
   "execution_count": 27,
   "id": "cc8aac15",
   "metadata": {},
   "outputs": [
    {
     "name": "stdout",
     "output_type": "stream",
     "text": [
      "Time used for an iteration (parallelized) on grid size 100: 0.0639946460723877 seconds\n"
     ]
    }
   ],
   "source": [
    "initTime = time()\n",
    "forestSize = 100\n",
    "\n",
    "forest = ParallellizedInitializeForest(forestSize)\n",
    "forest_test = ParallellizedExtendTheForestGrids(forest, forestSize)\n",
    "print(\"Time used for an iteration (parallelized) on grid size {0}: {1} seconds\".format(forestSize, time() - initTime))"
   ]
  },
  {
   "cell_type": "code",
   "execution_count": 17,
   "id": "951a9be2",
   "metadata": {},
   "outputs": [
    {
     "name": "stdout",
     "output_type": "stream",
     "text": [
      "Time used for an iteration (parallelized) on grid size 400: 0.9056921005249023 seconds\n"
     ]
    }
   ],
   "source": [
    "initTime = time()\n",
    "forestSize = 400\n",
    "\n",
    "forest = ParallellizedInitializeForest(forestSize)\n",
    "forest_test = ParallellizedExtendTheForestGrids(forest, forestSize)\n",
    "print(\"Time used for an iteration (parallelized) on grid size {0}: {1} seconds\".format(forestSize, time() - initTime))"
   ]
  },
  {
   "cell_type": "code",
   "execution_count": 22,
   "id": "13743627",
   "metadata": {},
   "outputs": [
    {
     "name": "stdout",
     "output_type": "stream",
     "text": [
      "Time used for an iteration (parallelized) on grid size 800: 2.9878742694854736 seconds\n"
     ]
    }
   ],
   "source": [
    "initTime = time()\n",
    "forestSize = 800\n",
    "\n",
    "forest = ParallellizedInitializeForest(forestSize)\n",
    "forest_test = ParallellizedExtendTheForestGrids(forest, forestSize)\n",
    "print(\"Time used for an iteration (parallelized) on grid size {0}: {1} seconds\".format(forestSize, time() - initTime))"
   ]
  },
  {
   "cell_type": "code",
   "execution_count": 19,
   "id": "0a32f7ed",
   "metadata": {},
   "outputs": [
    {
     "name": "stdout",
     "output_type": "stream",
     "text": [
      "Time used for an iteration (parallelized) on grid size 1000: 4.852700233459473 seconds\n"
     ]
    }
   ],
   "source": [
    "initTime = time()\n",
    "forestSize = 1000\n",
    "\n",
    "forest = ParallellizedInitializeForest(forestSize)\n",
    "forest_test = ParallellizedExtendTheForestGrids(forest, forestSize)\n",
    "print(\"Time used for an iteration (parallelized) on grid size {0}: {1} seconds\".format(forestSize, time() - initTime))"
   ]
  },
  {
   "cell_type": "code",
   "execution_count": 20,
   "id": "7b53ed76",
   "metadata": {},
   "outputs": [
    {
     "name": "stdout",
     "output_type": "stream",
     "text": [
      "Time used for an iteration (parallelized) on grid size 1200: 6.7354326248168945 seconds\n"
     ]
    }
   ],
   "source": [
    "initTime = time()\n",
    "forestSize = 1200\n",
    "\n",
    "forest = ParallellizedInitializeForest(forestSize)\n",
    "forest_test = ParallellizedExtendTheForestGrids(forest, forestSize)\n",
    "print(\"Time used for an iteration (parallelized) on grid size {0}: {1} seconds\".format(forestSize, time() - initTime))"
   ]
  },
  {
   "cell_type": "code",
   "execution_count": 21,
   "id": "e73ea75a",
   "metadata": {},
   "outputs": [
    {
     "name": "stdout",
     "output_type": "stream",
     "text": [
      "Time used for an iteration (parallelized) on grid size 2000: 18.358621835708618 seconds\n"
     ]
    }
   ],
   "source": [
    "initTime = time()\n",
    "forestSize = 2000\n",
    "\n",
    "forest = ParallellizedInitializeForest(forestSize)\n",
    "forest_test = ParallellizedExtendTheForestGrids(forest, forestSize)\n",
    "print(\"Time used for an iteration (parallelized) on grid size {0}: {1} seconds\".format(forestSize, time() - initTime))"
   ]
  },
  {
   "cell_type": "code",
   "execution_count": null,
   "id": "024055e9",
   "metadata": {},
   "outputs": [],
   "source": []
  }
 ],
 "metadata": {
  "interpreter": {
   "hash": "57baa5815c940fdaff4d14510622de9616cae602444507ba5d0b6727c008cbd6"
  },
  "kernelspec": {
   "display_name": "venv",
   "language": "python",
   "name": "venv"
  },
  "language_info": {
   "codemirror_mode": {
    "name": "ipython",
    "version": 3
   },
   "file_extension": ".py",
   "mimetype": "text/x-python",
   "name": "python",
   "nbconvert_exporter": "python",
   "pygments_lexer": "ipython3",
   "version": "3.10.0"
  }
 },
 "nbformat": 4,
 "nbformat_minor": 5
}
