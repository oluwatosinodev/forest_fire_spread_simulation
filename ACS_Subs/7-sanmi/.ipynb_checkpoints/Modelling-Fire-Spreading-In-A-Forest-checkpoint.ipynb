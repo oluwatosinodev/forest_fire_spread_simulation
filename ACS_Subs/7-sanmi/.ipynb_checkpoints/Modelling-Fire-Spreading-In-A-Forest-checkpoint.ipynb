{
 "cells": [
  {
   "cell_type": "code",
   "execution_count": 1,
   "id": "74640b5f",
   "metadata": {},
   "outputs": [],
   "source": [
    "# import python libraries for the simulation\n",
    "\n",
    "import numba\n",
    "import numpy as np\n",
    "from random import random\n",
    "import time\n",
    "from matplotlib import pyplot as plt, colors, animation"
   ]
  },
  {
   "cell_type": "code",
   "execution_count": 2,
   "id": "f3245a1f",
   "metadata": {},
   "outputs": [],
   "source": [
    "# collecting data for creating the initial forest and spreading the fire\n",
    "\n",
    "free_area = 0 # represents a free area in the forest that is not filled by trees\n",
    "tree_not_on_fire = 1 # represents an area in the forest with trees that are not on fire\n",
    "tree_on_fire = 2 # represents an area in the forest trees that are on fire\n",
    "\n",
    "probTree = 0.8 # the probability that an area is filled with trees that are not on fire\n",
    "probBurning = 0.01 # the probability that an area is filled with burning trees\n",
    "probImmune = 0.3 # the probability that an area is filled with trees that are immune to fire\n",
    "probLightning = 0.001 # the probability that an area suffers from lightning strikes"
   ]
  },
  {
   "cell_type": "markdown",
   "id": "b6de1daa",
   "metadata": {},
   "source": [
    "Sequential Forest Fire Spread Modelling implementation"
   ]
  },
  {
   "cell_type": "code",
   "execution_count": 3,
   "id": "22923da4",
   "metadata": {},
   "outputs": [],
   "source": [
    "\"\"\"\n",
    "    if the probility for a tree is higher than the random number, \n",
    "    it means the area is filled with a tree\n",
    "    if the probability that the tree is burning is higher than the random number,\n",
    "    it means the tree is on fire, else it is not on fire\n",
    "\"\"\"\n",
    "def Create_Initial_Forest_Site(forest_dimension):\n",
    "    \n",
    "    # start the forest with a free area, no trees\n",
    "    forest = np.zeros((forest_dimension, forest_dimension))\n",
    "    \n",
    "    for x in range(forest_dimension):\n",
    "        for y in range(forest_dimension):\n",
    "            if random() < probTree:\n",
    "                if random() < probBurning:\n",
    "                    forest[x][y] = tree_on_fire\n",
    "                else:\n",
    "                    forest[x][y] = tree_not_on_fire\n",
    "                    \n",
    "            # else the area is a free area\n",
    "            else:\n",
    "                forest[x][y] = free_area\n",
    "                \n",
    "    return forest"
   ]
  },
  {
   "cell_type": "code",
   "execution_count": 4,
   "id": "6c57f0da",
   "metadata": {},
   "outputs": [],
   "source": [
    "\"\"\"extend the forest boundaries by one layer on all sides\n",
    "    using periodic boundary conditions by creating ghost cells of\n",
    "    boundaries of the forest to their opposite sides, top to bottom\n",
    "    and left to right and vice versa\n",
    "\"\"\"\n",
    "def Extend_The_Forest_Boundaries_By_One_Layer(forest):    \n",
    "    extended_forest = np.row_stack((forest[0, :], forest, forest[-1, :]))\n",
    "    extended_forest = np.column_stack((extended_forest[:, 0], extended_forest, extended_forest[:, -1]))\n",
    "    \n",
    "    # return the forest site\n",
    "    return extended_forest\n",
    "    "
   ]
  },
  {
   "cell_type": "code",
   "execution_count": 5,
   "id": "d5891698",
   "metadata": {},
   "outputs": [],
   "source": [
    "\"\"\"\n",
    "    search for a tree on fire in the moore neighborhoods of a given tree, that is,\n",
    "    north, north-east, east, south-east, south, south-west, west, north-west,\n",
    "    if there is a tree on fire, and the tree is not immune to fire, then the tree on fire\n",
    "    spreads the fire to the tree.\n",
    "    Trees on fire are burnt down, leaving a free area.\n",
    "    Free areas remain free areas.\n",
    "\"\"\"\n",
    "def Apply_The_Fire_Spreading_Rules_To_ForestGrid(extended_forest, forest_dimension):\n",
    "    # exclude the extended boundaries of the forest\n",
    "    for x in range(1, forest_dimension + 1):\n",
    "        for y in range(1, forest_dimension + 1):\n",
    "            if extended_forest[x][y] == tree_not_on_fire:                \n",
    "                if (extended_forest[x-1][y] == tree_on_fire or extended_forest[x+1, y] == tree_on_fire \n",
    "                    or extended_forest[x-1, y-1] == tree_on_fire or extended_forest[x-1, y+1] == tree_on_fire \n",
    "                    or extended_forest[x, y-1] == tree_on_fire or extended_forest[x, y+1] == tree_on_fire \n",
    "                    or extended_forest[x+1, y-1] == tree_on_fire or extended_forest[x+1, y+1] == tree_on_fire\n",
    "                    ):\n",
    "                    if random() < probImmune:\n",
    "                        extended_forest[x][y] = tree_not_on_fire\n",
    "                    else:\n",
    "                        extended_forest[x][y] = tree_on_fire\n",
    "                \n",
    "                elif random() < probLightning:\n",
    "                    if random() < probImmune:\n",
    "                        extended_forest[x][y] = tree_not_on_fire\n",
    "                    else:\n",
    "                        extended_forest[x][y] = tree_on_fire\n",
    "                        \n",
    "                # lightning and neighbours couldn't cause fire, so the tree remains not on fire\n",
    "                else:\n",
    "                    extended_forest[x][y] = tree_not_on_fire\n",
    "            \n",
    "            elif extended_forest[x][y] == tree_on_fire:\n",
    "                extended_forest[x][y] = free_area\n",
    "            else:\n",
    "                extended_forest[x][y] = free_area  \n",
    "                \n",
    "    # from the extended layer at the forest boundaries, remove the ghost cells\n",
    "    forest = extended_forest[1:forest_dimension + 1, 1:forest_dimension + 1]            \n",
    "                \n",
    "    return forest"
   ]
  },
  {
   "cell_type": "code",
   "execution_count": 6,
   "id": "7f22c212",
   "metadata": {},
   "outputs": [
    {
     "name": "stdout",
     "output_type": "stream",
     "text": [
      "Sequential Runtime for one iteration for forest 100:  0.052994728088378906\n"
     ]
    },
    {
     "data": {
      "image/png": "[encoded data removed]",
      "text/plain": [
       "<Figure size 864x864 with 1 Axes>"
      ]
     },
     "metadata": {
      "needs_background": "light"
     },
     "output_type": "display_data"
    }
   ],
   "source": [
    "# capturing time for the simulation\n",
    "start_time = time.time()\n",
    "\n",
    "forest_dimension = 100\n",
    "forest_grid = Create_Initial_Forest_Site(forest_dimension)\n",
    "\n",
    "extended_forest = Extend_The_Forest_Boundaries_By_One_Layer(forest_grid)\n",
    "extended_forest = Apply_The_Fire_Spreading_Rules_To_ForestGrid(extended_forest, forest_dimension)\n",
    "\n",
    "print(\"Sequential Runtime for one iteration for forest 100: \", time.time() - start_time)\n",
    "\n",
    "fig = plt.figure(figsize=(12, 12))\n",
    "plot = fig.add_subplot(111)\n",
    "plot.set_axis_off()\n",
    "\n",
    "# brown color used to represent free areas, green used to represent trees with no fire,\n",
    "# and red was used to represent trees with fire\n",
    "anim = plot.imshow(forest_grid, cmap=colors.ListedColormap(['brown', 'green', 'red', 'orange']))\n",
    "    \n",
    "def updateFrame(i):\n",
    "    anim.set_array(updateFrame.grid)\n",
    "    \n",
    "    updateFrame.grid = Extend_The_Forest_Boundaries_By_One_Layer(updateFrame.grid)\n",
    "    updateFrame.grid = Apply_The_Fire_Spreading_Rules_To_ForestGrid(updateFrame.grid, forest_dimension)\n",
    "    \n",
    "    return anim,\n",
    "\n",
    "updateFrame.grid = forest_grid\n",
    "    \n",
    "imgFrames = animation.FuncAnimation(fig, updateFrame, interval=500, frames=30)\n",
    "#imgFrames.save('Forest_After_Simulation_Size_100.gif')\n",
    "\n",
    "plt.show()"
   ]
  },
  {
   "cell_type": "code",
   "execution_count": 7,
   "id": "4b72d2d6",
   "metadata": {},
   "outputs": [
    {
     "name": "stdout",
     "output_type": "stream",
     "text": [
      "Sequential Runtime for one iteration for forest 400:  0.8326234817504883\n"
     ]
    },
    {
     "data": {
      "image/png": "[encoded data removed]",
      "text/plain": [
       "<Figure size 864x864 with 1 Axes>"
      ]
     },
     "metadata": {
      "needs_background": "light"
     },
     "output_type": "display_data"
    }
   ],
   "source": [
    "# capturing time for the simulation\n",
    "start_time = time.time()\n",
    "\n",
    "forest_dimension = 400\n",
    "forest_grid = Create_Initial_Forest_Site(forest_dimension)\n",
    "\n",
    "extended_forest = Extend_The_Forest_Boundaries_By_One_Layer(forest_grid)\n",
    "extended_forest = Apply_The_Fire_Spreading_Rules_To_ForestGrid(extended_forest, forest_dimension)\n",
    "\n",
    "print(\"Sequential Runtime for one iteration for forest 400: \", time.time() - start_time)\n",
    "\n",
    "fig = plt.figure(figsize=(12, 12))\n",
    "plot = fig.add_subplot(111)\n",
    "plot.set_axis_off()\n",
    "\n",
    "# brown color used to represent free areas, green used to represent trees with no fire,\n",
    "# and red was used to represent trees with fire\n",
    "anim = plot.imshow(forest_grid, cmap=colors.ListedColormap(['brown', 'green', 'red', 'orange']))\n",
    "\n",
    "updateFrame.grid = forest_grid\n",
    "    \n",
    "imgFrames = animation.FuncAnimation(fig, updateFrame, interval=500, frames=30)\n",
    "#imgFrames.save('Forest_After_Simulation_Size_400.gif')\n",
    "\n",
    "plt.show()"
   ]
  },
  {
   "cell_type": "code",
   "execution_count": 8,
   "id": "b1d3696e",
   "metadata": {},
   "outputs": [
    {
     "name": "stdout",
     "output_type": "stream",
     "text": [
      "Sequential Runtime for one iteration for forest 800:  2.778613805770874\n"
     ]
    },
    {
     "data": {
      "image/png": "[encoded data removed]",
      "text/plain": [
       "<Figure size 864x864 with 1 Axes>"
      ]
     },
     "metadata": {
      "needs_background": "light"
     },
     "output_type": "display_data"
    }
   ],
   "source": [
    "# capturing time for the simulation\n",
    "start_time = time.time()\n",
    "\n",
    "forest_dimension = 800\n",
    "forest_grid = Create_Initial_Forest_Site(forest_dimension)\n",
    "\n",
    "extended_forest = Extend_The_Forest_Boundaries_By_One_Layer(forest_grid)\n",
    "extended_forest = Apply_The_Fire_Spreading_Rules_To_ForestGrid(extended_forest, forest_dimension)\n",
    "\n",
    "print(\"Sequential Runtime for one iteration for forest 800: \", time.time() - start_time)\n",
    "\n",
    "fig = plt.figure(figsize=(12, 12))\n",
    "plot = fig.add_subplot(111)\n",
    "plot.set_axis_off()\n",
    "\n",
    "# brown color used to represent free areas, green used to represent trees with no fire,\n",
    "# and red was used to represent trees with fire\n",
    "anim = plot.imshow(forest_grid, cmap=colors.ListedColormap(['brown', 'green', 'red', 'orange']))\n",
    "\n",
    "updateFrame.grid = forest_grid\n",
    "    \n",
    "imgFrames = animation.FuncAnimation(fig, updateFrame, interval=500, frames=30)\n",
    "#imgFrames.save('Forest_After_Simulation_Size_800.gif')\n",
    "\n",
    "plt.show()"
   ]
  },
  {
   "cell_type": "code",
   "execution_count": 9,
   "id": "d8893be5",
   "metadata": {},
   "outputs": [
    {
     "name": "stdout",
     "output_type": "stream",
     "text": [
      "Sequential Runtime for one iteration for forest 1000:  4.199244022369385\n"
     ]
    },
    {
     "data": {
      "image/png": "[encoded data removed]",
      "text/plain": [
       "<Figure size 864x864 with 1 Axes>"
      ]
     },
     "metadata": {
      "needs_background": "light"
     },
     "output_type": "display_data"
    }
   ],
   "source": [
    "# capturing time for the simulation\n",
    "start_time = time.time()\n",
    "\n",
    "forest_dimension = 1000\n",
    "forest_grid = Create_Initial_Forest_Site(forest_dimension)\n",
    "\n",
    "extended_forest = Extend_The_Forest_Boundaries_By_One_Layer(forest_grid)\n",
    "extended_forest = Apply_The_Fire_Spreading_Rules_To_ForestGrid(extended_forest, forest_dimension)\n",
    "\n",
    "print(\"Sequential Runtime for one iteration for forest 1000: \", time.time() - start_time)\n",
    "\n",
    "fig = plt.figure(figsize=(12, 12))\n",
    "plot = fig.add_subplot(111)\n",
    "plot.set_axis_off()\n",
    "\n",
    "# brown color used to represent free areas, green used to represent trees with no fire,\n",
    "# and red was used to represent trees with fire\n",
    "anim = plot.imshow(forest_grid, cmap=colors.ListedColormap(['brown', 'green', 'red', 'orange']))\n",
    "\n",
    "updateFrame.grid = forest_grid\n",
    "    \n",
    "imgFrames = animation.FuncAnimation(fig, updateFrame, interval=500, frames=30)\n",
    "#imgFrames.save('Forest_After_Simulation_Size_1000.gif')\n",
    "\n",
    "plt.show()"
   ]
  },
  {
   "cell_type": "code",
   "execution_count": 10,
   "id": "fb780d38",
   "metadata": {},
   "outputs": [
    {
     "name": "stdout",
     "output_type": "stream",
     "text": [
      "Sequential Runtime for one iteration for forest 1200:  5.886574983596802\n"
     ]
    },
    {
     "data": {
      "image/png": "[encoded data removed]",
      "text/plain": [
       "<Figure size 864x864 with 1 Axes>"
      ]
     },
     "metadata": {
      "needs_background": "light"
     },
     "output_type": "display_data"
    }
   ],
   "source": [
    "# capturing time for the simulation\n",
    "start_time = time.time()\n",
    "\n",
    "forest_dimension = 1200\n",
    "forest_grid = Create_Initial_Forest_Site(forest_dimension)\n",
    "\n",
    "extended_forest = Extend_The_Forest_Boundaries_By_One_Layer(forest_grid)\n",
    "extended_forest = Apply_The_Fire_Spreading_Rules_To_ForestGrid(extended_forest, forest_dimension)\n",
    "\n",
    "print(\"Sequential Runtime for one iteration for forest 1200: \", time.time() - start_time)\n",
    "\n",
    "fig = plt.figure(figsize=(12, 12))\n",
    "plot = fig.add_subplot(111)\n",
    "plot.set_axis_off()\n",
    "\n",
    "# brown color used to represent free areas, green used to represent trees with no fire,\n",
    "# and red was used to represent trees with fire\n",
    "anim = plot.imshow(forest_grid, cmap=colors.ListedColormap(['brown', 'green', 'red', 'orange']))\n",
    "\n",
    "updateFrame.grid = forest_grid\n",
    "    \n",
    "imgFrames = animation.FuncAnimation(fig, updateFrame, interval=500, frames=30)\n",
    "#imgFrames.save('Forest_After_Simulation_Size_1200.gif')\n",
    "\n",
    "plt.show()"
   ]
  },
  {
   "cell_type": "code",
   "execution_count": 11,
   "id": "8391e792",
   "metadata": {},
   "outputs": [
    {
     "name": "stdout",
     "output_type": "stream",
     "text": [
      "Sequential Runtime for one iteration for forest 2000:  16.65753173828125\n"
     ]
    },
    {
     "data": {
      "image/png": "[encoded data removed]",
      "text/plain": [
       "<Figure size 864x864 with 1 Axes>"
      ]
     },
     "metadata": {
      "needs_background": "light"
     },
     "output_type": "display_data"
    }
   ],
   "source": [
    "# capturing time for the simulation\n",
    "start_time = time.time()\n",
    "\n",
    "forest_dimension = 2000\n",
    "forest_grid = Create_Initial_Forest_Site(forest_dimension)\n",
    "\n",
    "extended_forest = Extend_The_Forest_Boundaries_By_One_Layer(forest_grid)\n",
    "extended_forest = Apply_The_Fire_Spreading_Rules_To_ForestGrid(extended_forest, forest_dimension)\n",
    "\n",
    "print(\"Sequential Runtime for one iteration for forest 2000: \", time.time() - start_time)\n",
    "\n",
    "fig = plt.figure(figsize=(12, 12))\n",
    "plot = fig.add_subplot(111)\n",
    "plot.set_axis_off()\n",
    "\n",
    "# brown color used to represent free areas, green used to represent trees with no fire,\n",
    "# and red was used to represent trees with fire\n",
    "anim = plot.imshow(forest_grid, cmap=colors.ListedColormap(['brown', 'green', 'red', 'orange']))\n",
    "\n",
    "updateFrame.grid = forest_grid\n",
    "    \n",
    "imgFrames = animation.FuncAnimation(fig, updateFrame, interval=500, frames=30)\n",
    "#imgFrames.save('Forest_After_Simulation_Size_2000.gif')\n",
    "\n",
    "plt.show()"
   ]
  },
  {
   "cell_type": "markdown",
   "id": "b1988430",
   "metadata": {},
   "source": [
    "Parallelizing the Forest Fire Spread functions"
   ]
  },
  {
   "cell_type": "code",
   "execution_count": 16,
   "id": "6b1d39ba",
   "metadata": {},
   "outputs": [],
   "source": [
    "\"\"\"\n",
    "    if the probility for a tree is higher than the random number, \n",
    "    it means the area is filled with a tree\n",
    "    if the probability that the tree is burning is higher than the random number,\n",
    "    it means the tree is on fire, else it is not on fire\n",
    "\"\"\"\n",
    "numba.jit(nopython=True, parallel=True)\n",
    "def Create_Initial_Forest_Site_Parallel(forest_dimension):\n",
    "    \n",
    "    # start the forest with a free area, no trees\n",
    "    forest = np.zeros((forest_dimension, forest_dimension))\n",
    "    \n",
    "    for x in numba.prange(forest_dimension):\n",
    "        for y in numba.prange(forest_dimension):\n",
    "            if random() < probTree:\n",
    "                if random() < probBurning:\n",
    "                    forest[x][y] = tree_on_fire\n",
    "                else:\n",
    "                    forest[x][y] = tree_not_on_fire\n",
    "                    \n",
    "            # else the area is a free area\n",
    "            else:\n",
    "                forest[x][y] = free_area\n",
    "                \n",
    "    return forest"
   ]
  },
  {
   "cell_type": "code",
   "execution_count": 17,
   "id": "4c0f7959",
   "metadata": {},
   "outputs": [],
   "source": [
    "\"\"\"extend the forest boundaries by one layer on all sides\n",
    "    using periodic boundary conditions by creating ghost cells of\n",
    "    boundaries of the forest to their opposite sides, top to bottom\n",
    "    and left to right and vice versa\n",
    "\"\"\"\n",
    "numba.jit(nopython=True, parallel=True)\n",
    "def Extend_The_Forest_Boundaries_By_One_Layer_Parallel(forest):    \n",
    "    extended_forest = np.row_stack((forest[0, :], forest, forest[-1, :]))\n",
    "    extended_forest = np.column_stack((extended_forest[:, 0], extended_forest, extended_forest[:, -1]))\n",
    "    \n",
    "    # return the forest site\n",
    "    return extended_forest"
   ]
  },
  {
   "cell_type": "code",
   "execution_count": 18,
   "id": "4f9d554c",
   "metadata": {},
   "outputs": [],
   "source": [
    "\"\"\"\n",
    "    search for a tree on fire in the moore neighborhoods of a given tree, that is,\n",
    "    north, north-east, east, south-east, south, south-west, west, north-west,\n",
    "    if there is a tree on fire, and the tree is not immune to fire, then the tree on fire\n",
    "    spreads the fire to the tree.\n",
    "    Trees on fire are burnt down, leaving a free area.\n",
    "    Free areas remain free areas.\n",
    "\"\"\"\n",
    "numba.jit(nopython=True, parallel=True)\n",
    "def Apply_The_Fire_Spreading_Rules_To_ForestGrid_Parallel(extended_forest, forest_dimension):\n",
    "    # exclude the extended boundaries of the forest\n",
    "    for x in numba.prange(1, forest_dimension + 1):\n",
    "        for y in numba.prange(1, forest_dimension + 1):\n",
    "            if extended_forest[x][y] == tree_not_on_fire:                \n",
    "                if (extended_forest[x-1][y] == tree_on_fire or extended_forest[x+1, y] == tree_on_fire \n",
    "                    or extended_forest[x-1, y-1] == tree_on_fire or extended_forest[x-1, y+1] == tree_on_fire \n",
    "                    or extended_forest[x, y-1] == tree_on_fire or extended_forest[x, y+1] == tree_on_fire \n",
    "                    or extended_forest[x+1, y-1] == tree_on_fire or extended_forest[x+1, y+1] == tree_on_fire\n",
    "                    ):\n",
    "                    if random() < probImmune:\n",
    "                        extended_forest[x][y] = tree_not_on_fire\n",
    "                    else:\n",
    "                        extended_forest[x][y] = tree_on_fire\n",
    "                \n",
    "                elif random() < probLightning:\n",
    "                    if random() < probImmune:\n",
    "                        extended_forest[x][y] = tree_not_on_fire\n",
    "                    else:\n",
    "                        extended_forest[x][y] = tree_on_fire\n",
    "                        \n",
    "                # lightning and neighbours couldn't cause fire, so the tree remains not on fire\n",
    "                else:\n",
    "                    extended_forest[x][y] = tree_not_on_fire\n",
    "            \n",
    "            elif extended_forest[x][y] == tree_on_fire:\n",
    "                extended_forest[x][y] = free_area\n",
    "            else:\n",
    "                extended_forest[x][y] = free_area  \n",
    "                \n",
    "    # from the extended layer at the forest boundaries, remove the ghost cells\n",
    "    forest = extended_forest[1:forest_dimension + 1, 1:forest_dimension + 1]            \n",
    "                \n",
    "    return forest"
   ]
  },
  {
   "cell_type": "code",
   "execution_count": 19,
   "id": "7b77c839",
   "metadata": {},
   "outputs": [
    {
     "name": "stdout",
     "output_type": "stream",
     "text": [
      "Parallel Runtime for one iteration for forest 100:  0.06499791145324707\n"
     ]
    }
   ],
   "source": [
    "# capturing time for the simulation\n",
    "start_time = time.time()\n",
    "\n",
    "forest_dimension = 100\n",
    "forest_grid = Create_Initial_Forest_Site_Parallel(forest_dimension)\n",
    "\n",
    "extended_forest = Extend_The_Forest_Boundaries_By_One_Layer_Parallel(forest_grid)\n",
    "extended_forest = Apply_The_Fire_Spreading_Rules_To_ForestGrid_Parallel(extended_forest, forest_dimension)\n",
    "\n",
    "print(\"Parallel Runtime for one iteration for forest 100: \", time.time() - start_time)"
   ]
  },
  {
   "cell_type": "code",
   "execution_count": 20,
   "id": "4cb60b4d",
   "metadata": {},
   "outputs": [
    {
     "name": "stdout",
     "output_type": "stream",
     "text": [
      "Parallel Runtime for one iteration for forest 400:  0.7141497135162354\n"
     ]
    }
   ],
   "source": [
    "# capturing time for the simulation\n",
    "start_time = time.time()\n",
    "\n",
    "forest_dimension = 400\n",
    "forest_grid = Create_Initial_Forest_Site_Parallel(forest_dimension)\n",
    "\n",
    "extended_forest = Extend_The_Forest_Boundaries_By_One_Layer_Parallel(forest_grid)\n",
    "extended_forest = Apply_The_Fire_Spreading_Rules_To_ForestGrid_Parallel(extended_forest, forest_dimension)\n",
    "\n",
    "print(\"Parallel Runtime for one iteration for forest 400: \", time.time() - start_time)"
   ]
  },
  {
   "cell_type": "code",
   "execution_count": 21,
   "id": "2a567e25",
   "metadata": {},
   "outputs": [
    {
     "name": "stdout",
     "output_type": "stream",
     "text": [
      "Parallel Runtime for one iteration for forest 800:  2.8091819286346436\n"
     ]
    }
   ],
   "source": [
    "# capturing time for the simulation\n",
    "start_time = time.time()\n",
    "\n",
    "forest_dimension = 800\n",
    "forest_grid = Create_Initial_Forest_Site_Parallel(forest_dimension)\n",
    "\n",
    "extended_forest = Extend_The_Forest_Boundaries_By_One_Layer_Parallel(forest_grid)\n",
    "extended_forest = Apply_The_Fire_Spreading_Rules_To_ForestGrid_Parallel(extended_forest, forest_dimension)\n",
    "\n",
    "print(\"Parallel Runtime for one iteration for forest 800: \", time.time() - start_time)"
   ]
  },
  {
   "cell_type": "code",
   "execution_count": 22,
   "id": "d9d286b0",
   "metadata": {},
   "outputs": [
    {
     "name": "stdout",
     "output_type": "stream",
     "text": [
      "Parallel Runtime for one iteration for forest 1000:  4.236688852310181\n"
     ]
    }
   ],
   "source": [
    "# capturing time for the simulation\n",
    "start_time = time.time()\n",
    "\n",
    "forest_dimension = 1000\n",
    "forest_grid = Create_Initial_Forest_Site_Parallel(forest_dimension)\n",
    "\n",
    "extended_forest = Extend_The_Forest_Boundaries_By_One_Layer_Parallel(forest_grid)\n",
    "extended_forest = Apply_The_Fire_Spreading_Rules_To_ForestGrid_Parallel(extended_forest, forest_dimension)\n",
    "\n",
    "print(\"Parallel Runtime for one iteration for forest 1000: \", time.time() - start_time)"
   ]
  },
  {
   "cell_type": "code",
   "execution_count": 23,
   "id": "fc5346b4",
   "metadata": {},
   "outputs": [
    {
     "name": "stdout",
     "output_type": "stream",
     "text": [
      "Parallel Runtime for one iteration for forest 1200:  6.017388343811035\n"
     ]
    }
   ],
   "source": [
    "# capturing time for the simulation\n",
    "start_time = time.time()\n",
    "\n",
    "forest_dimension = 1200\n",
    "forest_grid = Create_Initial_Forest_Site_Parallel(forest_dimension)\n",
    "\n",
    "extended_forest = Extend_The_Forest_Boundaries_By_One_Layer_Parallel(forest_grid)\n",
    "extended_forest = Apply_The_Fire_Spreading_Rules_To_ForestGrid_Parallel(extended_forest, forest_dimension)\n",
    "\n",
    "print(\"Parallel Runtime for one iteration for forest 1200: \", time.time() - start_time)"
   ]
  },
  {
   "cell_type": "code",
   "execution_count": 24,
   "id": "3da62054",
   "metadata": {},
   "outputs": [
    {
     "name": "stdout",
     "output_type": "stream",
     "text": [
      "Parallel Runtime for one iteration for forest 2000:  16.702707529067993\n"
     ]
    }
   ],
   "source": [
    "# capturing time for the simulation\n",
    "start_time = time.time()\n",
    "\n",
    "forest_dimension = 2000\n",
    "forest_grid = Create_Initial_Forest_Site_Parallel(forest_dimension)\n",
    "\n",
    "extended_forest = Extend_The_Forest_Boundaries_By_One_Layer_Parallel(forest_grid)\n",
    "extended_forest = Apply_The_Fire_Spreading_Rules_To_ForestGrid_Parallel(extended_forest, forest_dimension)\n",
    "\n",
    "print(\"Parallel Runtime for one iteration for forest 2000: \", time.time() - start_time)"
   ]
  },
  {
   "cell_type": "code",
   "execution_count": null,
   "id": "5611dc43",
   "metadata": {},
   "outputs": [],
   "source": []
  }
 ],
 "metadata": {
  "interpreter": {
   "hash": "5704274cb951f572e1e3c019390b17c6991ef2f9c8f28d85e40db3c5715540b3"
  },
  "kernelspec": {
   "display_name": "venv",
   "language": "python",
   "name": "venv"
  },
  "language_info": {
   "codemirror_mode": {
    "name": "ipython",
    "version": 3
   },
   "file_extension": ".py",
   "mimetype": "text/x-python",
   "name": "python",
   "nbconvert_exporter": "python",
   "pygments_lexer": "ipython3",
   "version": "3.10.0"
  }
 },
 "nbformat": 4,
 "nbformat_minor": 5
}
