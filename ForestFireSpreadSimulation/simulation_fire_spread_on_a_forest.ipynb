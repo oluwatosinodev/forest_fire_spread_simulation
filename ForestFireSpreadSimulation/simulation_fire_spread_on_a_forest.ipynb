{
 "cells": [
  {
   "cell_type": "markdown",
   "metadata": {},
   "source": [
    "Simulation of Fire Spreading in a Forest using Von Neumann Neighbourhood and Moore Neighbourhood Algorithms\n",
    "(Evaluating Sequential and Parallel Implementations)\n",
    "\n",
    "By Oluwatosin Olubiyi"
   ]
  },
  {
   "cell_type": "markdown",
   "metadata": {},
   "source": [
    "Initialization of the Forest Grids and General Properties"
   ]
  },
  {
   "cell_type": "code",
   "execution_count": 1,
   "metadata": {},
   "outputs": [],
   "source": [
    "# initializie time at start of simulation\n",
    "\n",
    "# importing all required libraries\n",
    "\n",
    "import time\n",
    "import numpy as np\n",
    "import matplotlib.pyplot as plt\n",
    "from random import *\n",
    "from matplotlib import animation, colors\n",
    "import numba"
   ]
  },
  {
   "cell_type": "code",
   "execution_count": 2,
   "metadata": {},
   "outputs": [],
   "source": [
    "## assumptions and definitions\n",
    "\n",
    "EMPTY = 0 # 0 - empty area or cell\n",
    "TREE = 1 # 1 - cell or area with non burning tree\n",
    "BTREE = 2 # 2 - cell or area with burning tree\n",
    "BORDER = 3 # 3 - border of the forest\n",
    "\n",
    "probTree = 0.8 # probability of a tree\n",
    "probBurning = 0.01 # probability of a tree burning\n",
    "probImmune = 0.3 # probability of a tree to be immune to fire\n",
    "probLightning = 0.001 # probability of lightning strike\n",
    "\n",
    "# colorList = {EMPTY: 'brown', TREE: 'green', BTREE: 'red', BORDER: 'black'}\n",
    "colorList = ['brown', '#00ff00', '#ff0000', 'orange'] # color list for visualization\n",
    "cmap = colors.ListedColormap(colorList)\n",
    "bounds = [EMPTY, TREE, BTREE, BORDER]\n",
    "norm = colors.BoundaryNorm(bounds, cmap.N)\n",
    "frame_Interval = 500 # interval between frames in milliseconds"
   ]
  },
  {
   "cell_type": "markdown",
   "metadata": {},
   "source": [
    "Sequential Implementation"
   ]
  },
  {
   "cell_type": "code",
   "execution_count": 3,
   "metadata": {},
   "outputs": [],
   "source": [
    "\n",
    "# Initialize the forest with non burning trees, empty cells, burning trees and border cells\n",
    "# - initializing the discrete stochastic system with probTree & probBurning.\n",
    "\n",
    "def forest_initializer(forest_size):\n",
    "    \n",
    "    print(\"Initializing the forest...\")\n",
    "    \n",
    "    # initialize the forest with border cells\n",
    "    forest = BORDER * np.ones((forest_size + 2, forest_size + 2))\n",
    "    forest[1:forest_size + 1, 1:forest_size + 1] = EMPTY\n",
    "    \n",
    "    for i in range(1,forest_size + 1):\n",
    "        for j in range(1,forest_size + 1):\n",
    "            if random() < probTree:\n",
    "                if random() < probBurning:\n",
    "                    forest[i][j] = BTREE # there is a burning tree in the cell\n",
    "                else:\n",
    "                    forest[i][j] = TREE # there is a non burning tree in the cell\n",
    "            else:\n",
    "                forest[i][j] = EMPTY\n",
    "        \n",
    "    print(\"Initialization completed. \\n\")\n",
    "    \n",
    "    return forest"
   ]
  },
  {
   "cell_type": "code",
   "execution_count": 4,
   "metadata": {},
   "outputs": [],
   "source": [
    "\n",
    "# spreading the fire using the von Neumann neighborhood algorithm\n",
    "\n",
    "def vnn_fire_spreader(forest, forest_size):   \n",
    "    print(\"Spreading the fire...\")    \n",
    "    # spreading the fire using von Neumann neighborhood\n",
    "    \n",
    "    for i in range(1, forest_size + 1):\n",
    "        for j in range(1, forest_size + 1):\n",
    "            \n",
    "            if forest[i][j] == TREE: # if the cell is a tree\n",
    "                # if the tree is next to a burning tree\n",
    "                if (forest[i - 1][j] == BTREE or forest[i + 1][j] == BTREE or \n",
    "                        forest[i][j - 1] == BTREE or forest[i][j + 1] == BTREE):\n",
    "                    if random() < probImmune: # if the tree is immune to fire\n",
    "                        forest[i][j] = TREE\n",
    "                    else:\n",
    "                        forest[i][j] = BTREE # the tree burns\n",
    "                elif random() < probLightning: # if lightning strikes the site\n",
    "                    if random() < probImmune: # if the tree is immune to fire, the tree does not burn\n",
    "                        forest[i][j] = TREE\n",
    "                    else:\n",
    "                        forest[i][j] = BTREE # the tree burns\n",
    "                else:\n",
    "                    forest[i][j] = TREE # the tree does not burn because there are no external conditions\n",
    "            elif forest[i][j] == BTREE: # if the cell is a burning tree, then it burns down\n",
    "                forest[i][j] = EMPTY\n",
    "            else:  # otherwise the cell is an empty cell\n",
    "                forest[i][j] = EMPTY # the cell remains empty\n",
    "                \n",
    "    print(\"Spreading completed. \\n\")\n",
    "    \n",
    "    return forest"
   ]
  },
  {
   "cell_type": "code",
   "execution_count": 5,
   "metadata": {},
   "outputs": [],
   "source": [
    "\n",
    "# spreading the fire using the Moore neighborhood algorithm\n",
    "\n",
    "def m_fire_spreader(forest, forest_size):\n",
    "    \n",
    "    #print(\"Spreading the fire using the Moore neighborhood...\")\n",
    "    \n",
    "    # spreading the fire using Moore neighborhood\n",
    "    for i in range(1, forest_size + 1):\n",
    "        for j in range(1, forest_size + 1):\n",
    "            if forest[i][j] == TREE: # if the cell is a tree\n",
    "                # if the tree is next to a burning tree\n",
    "                if (forest[i - 1][j] == BTREE or forest[i + 1][j] == BTREE or \n",
    "                        forest[i][j - 1] == BTREE or forest[i][j + 1] == BTREE or \n",
    "                        forest[i - 1][j - 1] == BTREE or forest[i - 1][j + 1] == BTREE or \n",
    "                        forest[i + 1][j - 1] == BTREE or forest[i + 1][j + 1] == BTREE):\n",
    "                    if random() < probImmune: # if the tree is immune to fire\n",
    "                        forest[i][j] = TREE\n",
    "                    else:\n",
    "                        forest[i][j] = BTREE # the tree burns\n",
    "                elif random() < probLightning: # if lightning strikes the site\n",
    "                    if random() < probImmune: # if the tree is immune to fire, the tree does not burn\n",
    "                        forest[i][j] = TREE\n",
    "                    else:\n",
    "                        forest[i][j] = BTREE # the tree burns       \n",
    "                else:\n",
    "                    forest[i][j] = TREE # the tree does not burn because there are no external conditions\n",
    "            elif forest[i][j] == BTREE: # if the cell is a burning tree, then it burns down\n",
    "                forest[i][j] = EMPTY\n",
    "            else:  # otherwise the cell is an empty cell\n",
    "                forest[i][j] = EMPTY # the cell remains empty\n",
    "                \n",
    "    #print(\"Spreading completed. \\n\")\n",
    "    \n",
    "    return forest"
   ]
  },
  {
   "cell_type": "code",
   "execution_count": 6,
   "metadata": {},
   "outputs": [],
   "source": [
    "\n",
    "# extending the boundaries of the forest using periodic boundary conditions\n",
    "def wrapAndExtendBoundaries(forest, forest_size):\n",
    "    \"\"\"_summary_\n",
    "\n",
    "    To make this simulation more realistic, we will extend the boundaries of the forest grid\n",
    "    by creating ghost cells for the moore neighbors of the boundary cells so we can spread the fire.\n",
    "    \n",
    "    And since there are no grid cells in forests, it makes sense to reflect the boundaries\n",
    "    using the mirror image of the grid rows and columns before applying the spread at the edges of the grid cells.   \n",
    "    \"\"\"\n",
    "    forestWithoutBorder = forest[1:forest_size + 1, 1:forest_size + 1]\n",
    "    \n",
    "    rowstack = np.row_stack((forestWithoutBorder[-1, :], forestWithoutBorder, forestWithoutBorder[0, :]))\n",
    "    extendedForest = np.column_stack((rowstack[:, -1], rowstack, rowstack[:, 0]))    \n",
    "    \n",
    "    # apply spread on the extended forest grid\n",
    "    extendedForestAfterSpread = m_fire_spreader(extendedForest, forest_size)\n",
    "    \n",
    "    # strip the extended forest grid of the ghost cells\n",
    "    forestWithoutBorder = extendedForestAfterSpread[1:forest_size + 1, 1:forest_size + 1]\n",
    "    \n",
    "    # add our new forest without border to the original forest grid\n",
    "    forest[1:forest_size + 1, 1:forest_size + 1] = forestWithoutBorder\n",
    "    \n",
    "    return forest"
   ]
  },
  {
   "cell_type": "markdown",
   "metadata": {},
   "source": [
    "Parallel Computing Implementation"
   ]
  },
  {
   "cell_type": "code",
   "execution_count": 7,
   "metadata": {},
   "outputs": [],
   "source": [
    "# Initialize the forest with non burning trees, empty cells, burning trees and border cells\n",
    "# - initializing the discrete stochastic system with probTree & probBurning.\n",
    "\n",
    "@numba.jit(nopython=True, parallel=True)\n",
    "def parallel_forest_initializer(forest_size):\n",
    "    \n",
    "    print(\"Initializing the forest...\")\n",
    "    \n",
    "    # initialize the forest with border cells\n",
    "    forest = BORDER * np.ones((forest_size + 2, forest_size + 2)) \n",
    "    forest[1:forest_size + 1, 1:forest_size + 1] = EMPTY\n",
    "    \n",
    "    for i in numba.prange(1, forest_size + 1):\n",
    "        for j in numba.prange(1, forest_size + 1):\n",
    "            if random() < probTree:\n",
    "                if random() < probBurning:\n",
    "                    forest[i][j] = BTREE # there is a burning tree in the cell\n",
    "                else:\n",
    "                    forest[i][j] = TREE # there is a non burning tree in the cell\n",
    "            else:\n",
    "                forest[i][j] = EMPTY\n",
    "    \n",
    "    print(\"Initialization completed. \\n\")\n",
    "    \n",
    "    return forest"
   ]
  },
  {
   "cell_type": "code",
   "execution_count": 8,
   "metadata": {},
   "outputs": [],
   "source": [
    "# spreading the fire using the von Neumann neighborhood algorithm\n",
    "\n",
    "@numba.jit(nopython=True, parallel=True)\n",
    "def parallel_vnn_fire_spreader(forest, forest_size):\n",
    "    \n",
    "    print(\"Spreading the fire...\")\n",
    "    \n",
    "    # spreading the fire using von Neumann neighborhood\n",
    "    for i in numba.prange(1, forest_size + 1):\n",
    "        for j in numba.prange(1, forest_size + 1):\n",
    "            if forest[i][j] == TREE: # if the cell is a tree\n",
    "                # if the tree is next to a burning tree\n",
    "                if (forest[i - 1][j] == BTREE or forest[i + 1][j] == BTREE or \n",
    "                        forest[i][j - 1] == BTREE or forest[i][j + 1] == BTREE):\n",
    "                    if random() < probImmune: # if the tree is immune to fire\n",
    "                        forest[i][j] = TREE\n",
    "                    else:\n",
    "                        forest[i][j] = BTREE # the tree burns\n",
    "                elif random() < probLightning: # if lightning strikes the site\n",
    "                    if random() < probImmune: # if the tree is immune to fire, the tree does not burn\n",
    "                        forest[i][j] = TREE\n",
    "                    else:\n",
    "                        forest[i][j] = BTREE # the tree burns\n",
    "                else:\n",
    "                    forest[i][j] = TREE # the tree does not burn because there are no external conditions\n",
    "            elif forest[i][j] == BTREE: # if the cell is a burning tree, then it burns down\n",
    "                forest[i][j] = EMPTY\n",
    "            else:  # otherwise the cell is an empty cell\n",
    "                forest[i][j] = EMPTY # the cell remains empty\n",
    "                \n",
    "    print(\"Spreading completed. \\n\")\n",
    "    \n",
    "    return forest"
   ]
  },
  {
   "cell_type": "code",
   "execution_count": 9,
   "metadata": {},
   "outputs": [],
   "source": [
    "# spreading the fire using the Moore neighborhood algorithm\n",
    "\n",
    "@numba.jit(nopython=True, parallel=True)\n",
    "def parallel_m_fire_spreader(forest, forest_size):\n",
    "    \n",
    "    # print(\"Spreading the fire using the Moore neighborhood...\")\n",
    "    \n",
    "    # spreading the fire using Moore neighborhood\n",
    "    for i in numba.prange(1, forest_size + 1):\n",
    "        for j in numba.prange(1, forest_size + 1):\n",
    "            if forest[i][j] == TREE: # if the cell is a tree\n",
    "                # if the tree is next to a burning tree\n",
    "                if (forest[i - 1][j] == BTREE or forest[i + 1][j] == BTREE or \n",
    "                        forest[i][j - 1] == BTREE or forest[i][j + 1] == BTREE or \n",
    "                        forest[i - 1][j - 1] == BTREE or forest[i - 1][j + 1] == BTREE or \n",
    "                        forest[i + 1][j - 1] == BTREE or forest[i + 1][j + 1] == BTREE):\n",
    "                    if random() < probImmune: # if the tree is immune to fire\n",
    "                        forest[i][j] = TREE\n",
    "                    else:\n",
    "                        forest[i][j] = BTREE # the tree burns\n",
    "                elif random() < probLightning: # if lightning strikes the site\n",
    "                    if random() < probImmune: # if the tree is immune to fire, the tree does not burn\n",
    "                        forest[i][j] = TREE\n",
    "                    else:\n",
    "                        forest[i][j] = BTREE # the tree burns       \n",
    "                else:\n",
    "                    forest[i][j] = TREE # the tree does not burn because there are no external conditions\n",
    "            elif forest[i][j] == BTREE: # if the cell is a burning tree, then it burns down\n",
    "                forest[i][j] = EMPTY\n",
    "            else:  # otherwise the cell is an empty cell\n",
    "                forest[i][j] = EMPTY # the cell remains empty\n",
    "                \n",
    "    #print(\"Spreading completed. \\n\")\n",
    "    \n",
    "    return forest"
   ]
  },
  {
   "cell_type": "code",
   "execution_count": 10,
   "metadata": {},
   "outputs": [],
   "source": [
    "# extending the boundaries of the forest using periodic boundary conditions\n",
    "\n",
    "def parallel_wrapAndExtendBoundaries(forest, forest_size):\n",
    "    \"\"\"_summary_\n",
    "\n",
    "    To make this simulation more realistic, we will extend the boundaries of the forest grid\n",
    "    by creating ghost cells for the moore neighbors of the boundary cells so we can spread the fire.\n",
    "    \n",
    "    And since there are no grid cells in forests, it makes sense to reflect the boundaries\n",
    "    using the mirror image of the grid rows and columns before applying the spread at the edges of the grid cells.   \n",
    "    \"\"\"\n",
    "    forestWithoutBorder = forest[1:forest_size + 1, 1:forest_size + 1]\n",
    "    \n",
    "    rowstack = np.row_stack((forestWithoutBorder[-1, :], forestWithoutBorder, forestWithoutBorder[0, :]))\n",
    "    extendedForest = np.column_stack((rowstack[:, -1], rowstack, rowstack[:, 0]))\n",
    "    \n",
    "    # apply spread on the extended forest grid\n",
    "    extendedForestAfterSpread = parallel_m_fire_spreader(extendedForest, forest_size)\n",
    "    \n",
    "    # strip the extended forest grid of the ghost cells\n",
    "    forestWithoutBorder = extendedForestAfterSpread[1:forest_size + 1, 1:forest_size + 1]\n",
    "    \n",
    "    # add our new forest without border to the original forest grid\n",
    "    forest[1:forest_size + 1, 1:forest_size + 1] = forestWithoutBorder\n",
    "    \n",
    "    return forest"
   ]
  },
  {
   "cell_type": "markdown",
   "metadata": {},
   "source": [
    "Visualization and Animation of the Forest Fire Spread using the Sequential and Parallel Implementations (10 iterations of spreading)"
   ]
  },
  {
   "cell_type": "code",
   "execution_count": 11,
   "metadata": {},
   "outputs": [],
   "source": [
    "%matplotlib inline"
   ]
  },
  {
   "cell_type": "markdown",
   "metadata": {},
   "source": [
    "Sequential Visualizations"
   ]
  },
  {
   "cell_type": "code",
   "execution_count": 12,
   "metadata": {},
   "outputs": [
    {
     "name": "stdout",
     "output_type": "stream",
     "text": [
      "Initializing the forest...\n",
      "Initialization completed. \n",
      "\n",
      "Forest Initialization (Sequential) completed in 0.013224299997091293 seconds\n",
      "Forest Fire Spread (Sequential) completed in 0.05617079999865382 seconds\n"
     ]
    },
    {
     "data": {
      "image/png": "[encoded data removed]",
      "text/plain": [
       "<Figure size 720x720 with 1 Axes>"
      ]
     },
     "metadata": {
      "needs_background": "light"
     },
     "output_type": "display_data"
    }
   ],
   "source": [
    "# time at start of visualization\n",
    "initTime100 = time.perf_counter()\n",
    "\n",
    "# generate the forest grid\n",
    "forest_size100 = 100\n",
    "forestGrid100 = forest_initializer(forest_size100)\n",
    "\n",
    "print('Forest Initialization (Sequential) completed in {0} seconds'.format(time.perf_counter() - initTime100))\n",
    "\n",
    "forestGrid100_eval = wrapAndExtendBoundaries(forestGrid100, forest_size100)\n",
    "\n",
    "print('Forest Fire Spread (Sequential) completed in {0} seconds'.format(time.perf_counter() - initTime100))\n",
    "\n",
    "# initialize the plot for the forest\n",
    "fig100 = plt.figure(figsize=(10, 10))\n",
    "ax = fig100.add_subplot(111)\n",
    "ax.set_axis_off()\n",
    "forestSite100 = ax.imshow(forestGrid100, cmap=cmap, norm=norm)\n",
    "ax.set_title('Simulation of Fire Spread for Forest Grid Size {0}'.format(forest_size100))\n",
    "\n",
    "# The animation function: called to produce a frame for each fire spread.\n",
    "def animate100(i):\n",
    "    forestSite100.set_data(animate100.Site)\n",
    "    \n",
    "    # we will use the moore neighborhood algorithm for spreading the fire\n",
    "    animate100.Site = wrapAndExtendBoundaries(animate100.Site, forest_size100)\n",
    "    \n",
    "# # Bind the grid to the Site identifier in the animate function's namespace.\n",
    "animate100.Site = forestGrid100\n",
    "\n",
    "# display the forest fire images\n",
    "anim100 = animation.FuncAnimation(fig100, animate100, interval=frame_Interval, frames=50)\n",
    "anim100.save('forest_fire_moore_neighborhood_{0}.gif'.format(forest_size100))\n",
    "\n",
    "plt.show()"
   ]
  },
  {
   "cell_type": "code",
   "execution_count": 13,
   "metadata": {},
   "outputs": [
    {
     "name": "stdout",
     "output_type": "stream",
     "text": [
      "Initializing the forest...\n",
      "Initialization completed. \n",
      "\n",
      "Forest Initialization (Sequential) completed in 0.1357005999998364 seconds\n",
      "Forest Fire Spread (Sequential) completed in 0.749217000000499 seconds\n"
     ]
    },
    {
     "data": {
      "image/png": "[encoded data removed]",
      "text/plain": [
       "<Figure size 720x720 with 1 Axes>"
      ]
     },
     "metadata": {
      "needs_background": "light"
     },
     "output_type": "display_data"
    }
   ],
   "source": [
    "# time at start of visualization\n",
    "initTime400 = time.perf_counter()\n",
    "\n",
    "# generate the forest grid\n",
    "forest_size400 = 400\n",
    "forestGrid400 = forest_initializer(forest_size400)\n",
    "\n",
    "print('Forest Initialization (Sequential) completed in {0} seconds'.format(time.perf_counter() - initTime400))\n",
    "\n",
    "forestGrid400_eval = m_fire_spreader(forestGrid400, forest_size400)\n",
    "\n",
    "print('Forest Fire Spread (Sequential) completed in {0} seconds'.format(time.perf_counter() - initTime400))\n",
    "\n",
    "# initialize the plot for the forest\n",
    "fig400 = plt.figure(figsize=(10, 10))\n",
    "ax = fig400.add_subplot(111)\n",
    "ax.set_axis_off()\n",
    "forestSite400 = ax.imshow(forestGrid400, cmap=cmap, norm=norm)\n",
    "ax.set_title('Simulation of Fire Spread for Forest Grid Size {0}'.format(forest_size400))\n",
    "\n",
    "# The animation function: called to produce a frame for each fire spread.\n",
    "def animate400(i):\n",
    "    forestSite400.set_data(animate400.Site)\n",
    "    \n",
    "    # we will use the moore neighborhood algorithm for spreading the fire\n",
    "    animate400.Site = wrapAndExtendBoundaries(animate400.Site, forest_size400)\n",
    "    \n",
    "# Bind the grid to the Site identifier in the animate function's namespace.\n",
    "animate400.Site = forestGrid400\n",
    "\n",
    "# display the forest fire images\n",
    "anim400 = animation.FuncAnimation(fig400, animate400, interval=frame_Interval, frames=50)\n",
    "anim400.save('forest_fire_moore_neighborhood_{0}.gif'.format(forest_size400))\n",
    "\n",
    "plt.show()"
   ]
  },
  {
   "cell_type": "code",
   "execution_count": 14,
   "metadata": {},
   "outputs": [
    {
     "name": "stdout",
     "output_type": "stream",
     "text": [
      "Initializing the forest...\n",
      "Initialization completed. \n",
      "\n",
      "Forest Initialization (Sequential) completed in 0.4577032000015606 seconds\n",
      "Forest Fire Spread (Sequential) completed in 2.8264817999988736 seconds\n"
     ]
    },
    {
     "data": {
      "image/png": "[encoded data removed]",
      "text/plain": [
       "<Figure size 720x720 with 1 Axes>"
      ]
     },
     "metadata": {
      "needs_background": "light"
     },
     "output_type": "display_data"
    }
   ],
   "source": [
    "# time at start of visualization\n",
    "initTime800 = time.perf_counter()\n",
    "\n",
    "# generate the forest grid\n",
    "forest_size800 = 800\n",
    "forestGrid800 = forest_initializer(forest_size800)\n",
    "\n",
    "print('Forest Initialization (Sequential) completed in {0} seconds'.format(time.perf_counter() - initTime800))\n",
    "\n",
    "forestGrid800_eval = wrapAndExtendBoundaries(forestGrid800, forest_size800)\n",
    "\n",
    "print('Forest Fire Spread (Sequential) completed in {0} seconds'.format(time.perf_counter() - initTime800))\n",
    "\n",
    "# initialize the plot for the forest\n",
    "fig800 = plt.figure(figsize=(10, 10))\n",
    "ax = fig800.add_subplot(111)\n",
    "ax.set_axis_off()\n",
    "forestSite800 = ax.imshow(forestGrid800, cmap=cmap, norm=norm)\n",
    "ax.set_title('Simulation of Fire Spread for Forest Grid Size {0}'.format(forest_size800))\n",
    "\n",
    "# The animation function: called to produce a frame for each fire spread.\n",
    "def animate800(i):\n",
    "    forestSite800.set_data(animate800.Site)\n",
    "    \n",
    "    # we will use the moore neighborhood algorithm for spreading the fire\n",
    "    animate800.Site = wrapAndExtendBoundaries(animate800.Site, forest_size800)\n",
    "    \n",
    "# Bind the grid to the Site identifier in the animate function's namespace.\n",
    "animate800.Site = forestGrid800\n",
    "\n",
    "# display the forest fire images\n",
    "anim800 = animation.FuncAnimation(fig800, animate800, interval=frame_Interval, frames=50)\n",
    "anim800.save('forest_fire_moore_neighborhood_{0}.gif'.format(forest_size800))\n",
    "\n",
    "plt.show()"
   ]
  },
  {
   "cell_type": "code",
   "execution_count": 15,
   "metadata": {},
   "outputs": [
    {
     "name": "stdout",
     "output_type": "stream",
     "text": [
      "Initializing the forest...\n",
      "Initialization completed. \n",
      "\n",
      "Forest Initialization (Sequential) completed in 0.7890270999996574 seconds\n",
      "Forest Fire Spread (Sequential) completed in 5.45051699999749 seconds\n"
     ]
    },
    {
     "data": {
      "image/png": "[encoded data removed]",
      "text/plain": [
       "<Figure size 1080x1080 with 1 Axes>"
      ]
     },
     "metadata": {
      "needs_background": "light"
     },
     "output_type": "display_data"
    }
   ],
   "source": [
    "# time at start of visualization\n",
    "initTime1000 = time.perf_counter()\n",
    "\n",
    "# generate the forest grid\n",
    "forest_size1000 = 1000\n",
    "forestGrid1000 = forest_initializer(forest_size1000)\n",
    "\n",
    "print('Forest Initialization (Sequential) completed in {0} seconds'.format(time.perf_counter() - initTime1000))\n",
    "\n",
    "forestGrid1000_eval = wrapAndExtendBoundaries(forestGrid1000, forest_size1000)\n",
    "\n",
    "print('Forest Fire Spread (Sequential) completed in {0} seconds'.format(time.perf_counter() - initTime1000))\n",
    "\n",
    "# initialize the plot for the forest\n",
    "fig1000 = plt.figure(figsize=(15, 15))\n",
    "ax = fig1000.add_subplot(111)\n",
    "ax.set_axis_off()\n",
    "forestSite1000 = ax.imshow(forestGrid1000, cmap=cmap, norm=norm)\n",
    "ax.set_title('Simulation of Fire Spread for Forest Grid Size {0}'.format(forest_size1000))\n",
    "\n",
    "# The animation function: called to produce a frame for each fire spread.\n",
    "def animate1000(i):\n",
    "    forestSite1000.set_data(animate1000.Site)\n",
    "    \n",
    "    # we will use the moore neighborhood algorithm for spreading the fire\n",
    "    animate1000.Site = wrapAndExtendBoundaries(animate1000.Site, forest_size1000)\n",
    "    \n",
    "# Bind the grid to the Site identifier in the animate function's namespace.\n",
    "animate1000.Site = forestGrid1000\n",
    "\n",
    "# display the forest fire images\n",
    "anim1000 = animation.FuncAnimation(fig1000, animate1000, interval=frame_Interval, frames=50)\n",
    "anim1000.save('forest_fire_moore_neighborhood_{0}.gif'.format(forest_size1000))\n",
    "\n",
    "plt.show()"
   ]
  },
  {
   "cell_type": "code",
   "execution_count": 16,
   "metadata": {},
   "outputs": [
    {
     "name": "stdout",
     "output_type": "stream",
     "text": [
      "Initializing the forest...\n",
      "Initialization completed. \n",
      "\n",
      "Forest Initialization (Sequential) completed in 1.015461899998627 seconds\n",
      "Forest Fire Spread (Sequential) completed in 6.53292109999893 seconds\n"
     ]
    },
    {
     "data": {
      "image/png": "[encoded data removed]",
      "text/plain": [
       "<Figure size 1080x1080 with 1 Axes>"
      ]
     },
     "metadata": {
      "needs_background": "light"
     },
     "output_type": "display_data"
    }
   ],
   "source": [
    "# time at start of visualization\n",
    "initTime1200 = time.perf_counter()\n",
    "\n",
    "# generate the forest grid\n",
    "forest_size1200 = 1200\n",
    "forestGrid1200 = forest_initializer(forest_size1200)\n",
    "\n",
    "print('Forest Initialization (Sequential) completed in {0} seconds'.format(time.perf_counter() - initTime1200))\n",
    "\n",
    "forestGrid1200_eval = wrapAndExtendBoundaries(forestGrid1200, forest_size1200)\n",
    "\n",
    "print('Forest Fire Spread (Sequential) completed in {0} seconds'.format(time.perf_counter() - initTime1200))\n",
    "\n",
    "# initialize the plot for the forest\n",
    "fig1200 = plt.figure(figsize=(15, 15))\n",
    "ax = fig1200.add_subplot(111)\n",
    "ax.set_axis_off()\n",
    "forestSite1200 = ax.imshow(forestGrid1200, cmap=cmap, norm=norm)\n",
    "ax.set_title('Simulation of Fire Spread for Forest Grid Size {0}'.format(forest_size1200))\n",
    "\n",
    "# The animation function: called to produce a frame for each fire spread.\n",
    "def animate1200(i):\n",
    "    forestSite1200.set_data(animate1200.Site)\n",
    "    \n",
    "    # we will use the moore neighborhood algorithm for spreading the fire\n",
    "    animate1200.Site = wrapAndExtendBoundaries(animate1200.Site, forest_size1200)\n",
    "    \n",
    "# Bind the grid to the Site identifier in the animate function's namespace.\n",
    "animate1200.Site = forestGrid1200\n",
    "\n",
    "# display the forest fire images\n",
    "anim1200 = animation.FuncAnimation(fig1200, animate1200, interval=frame_Interval, frames=50)\n",
    "anim1200.save('forest_fire_moore_neighborhood_{0}.gif'.format(forest_size1200))\n",
    "\n",
    "plt.show()"
   ]
  },
  {
   "cell_type": "code",
   "execution_count": 17,
   "metadata": {},
   "outputs": [
    {
     "name": "stdout",
     "output_type": "stream",
     "text": [
      "Initializing the forest...\n",
      "Initialization completed. \n",
      "\n",
      "Forest Initialization (Sequential) completed in 3.06078129999878 seconds\n",
      "Forest Fire Spread (Sequential) completed in 18.08281999999963 seconds\n"
     ]
    },
    {
     "data": {
      "image/png": "[encoded data removed]",
      "text/plain": [
       "<Figure size 1080x1080 with 1 Axes>"
      ]
     },
     "metadata": {
      "needs_background": "light"
     },
     "output_type": "display_data"
    }
   ],
   "source": [
    "# time at start of visualization\n",
    "initTime2000 = time.perf_counter()\n",
    "\n",
    "# generate the forest grid\n",
    "forest_size2000 = 2000\n",
    "forestGrid2000 = forest_initializer(forest_size2000)\n",
    "\n",
    "print('Forest Initialization (Sequential) completed in {0} seconds'.format(time.perf_counter() - initTime2000))\n",
    "\n",
    "forestGrid2000_eval = wrapAndExtendBoundaries(forestGrid2000, forest_size2000)\n",
    "\n",
    "print('Forest Fire Spread (Sequential) completed in {0} seconds'.format(time.perf_counter() - initTime2000))\n",
    "\n",
    "# initialize the plot for the forest\n",
    "fig2000 = plt.figure(figsize=(15, 15))\n",
    "ax = fig2000.add_subplot(111)\n",
    "ax.set_axis_off()\n",
    "forestSite2000 = ax.imshow(forestGrid2000, cmap=cmap, norm=norm)\n",
    "ax.set_title('Simulation of Fire Spread for Forest Grid Size {0}'.format(forest_size2000))\n",
    "\n",
    "# The animation function: called to produce a frame for each fire spread.\n",
    "def animate2000(i):\n",
    "    forestSite2000.set_data(animate2000.Site)\n",
    "    \n",
    "    # we will use the moore neighborhood algorithm for spreading the fire\n",
    "    animate2000.Site = wrapAndExtendBoundaries(animate2000.Site, forest_size2000)\n",
    "    \n",
    "# Bind the grid to the Site identifier in the animate function's namespace.\n",
    "animate2000.Site = forestGrid2000\n",
    "\n",
    "# display the forest fire images\n",
    "anim2000 = animation.FuncAnimation(fig2000, animate2000, interval=frame_Interval, frames=50)\n",
    "anim2000.save('forest_fire_moore_neighborhood_{0}.gif'.format(forest_size2000))\n",
    "\n",
    "plt.show()"
   ]
  },
  {
   "cell_type": "markdown",
   "metadata": {},
   "source": [
    "Parallel Visualizations"
   ]
  },
  {
   "cell_type": "code",
   "execution_count": 18,
   "metadata": {},
   "outputs": [
    {
     "name": "stdout",
     "output_type": "stream",
     "text": [
      "Initializing the forest...\n",
      "Initialization completed. \n",
      "\n",
      "Initializing the forest...\n",
      "Initialization completed. \n",
      "\n",
      "Forest Initialization (Parallel) completed in 0.0015120000025490299 seconds\n",
      "Forest Fire Spread (Parallel) completed in 0.00249930000063614 seconds\n"
     ]
    },
    {
     "data": {
      "image/png": "[encoded data removed]",
      "text/plain": [
       "<Figure size 720x720 with 1 Axes>"
      ]
     },
     "metadata": {
      "needs_background": "light"
     },
     "output_type": "display_data"
    }
   ],
   "source": [
    "# useful for compiling the functions before measuring time for different forest sizes\n",
    "forest_size100 = 100\n",
    "forestGrid100 = parallel_forest_initializer(forest_size100)\n",
    "forestGrid100 = parallel_wrapAndExtendBoundaries(forestGrid100, forest_size100)\n",
    "\n",
    "# time at start of visualization\n",
    "initTime100 = time.perf_counter()\n",
    "\n",
    "# generate the forest grid\n",
    "forestGrid100 = parallel_forest_initializer(forest_size100)\n",
    "\n",
    "print('Forest Initialization (Parallel) completed in {0} seconds'.format(time.perf_counter() - initTime100))\n",
    "\n",
    "forestGrid100_eval = parallel_wrapAndExtendBoundaries(forestGrid100, forest_size100)\n",
    "\n",
    "print('Forest Fire Spread (Parallel) completed in {0} seconds'.format(time.perf_counter() - initTime100))\n",
    "\n",
    "# initialize the plot for the forest\n",
    "fig100 = plt.figure(figsize=(10, 10))\n",
    "ax = fig100.add_subplot(111)\n",
    "ax.set_axis_off()\n",
    "forestSite100 = ax.imshow(forestGrid100, cmap=cmap, norm=norm)\n",
    "ax.set_title('(Parallel) Simulation of Fire Spread for Forest Grid Size {0}'.format(forest_size100))\n",
    "\n",
    "# The animation function: called to produce a frame for each fire spread.\n",
    "def animate100(i):\n",
    "    forestSite100.set_data(animate100.Site)\n",
    "    \n",
    "    # we will use the moore neighborhood algorithm for spreading the fire\n",
    "    animate100.Site = parallel_wrapAndExtendBoundaries(animate100.Site, forest_size100)\n",
    "    \n",
    "# # Bind the grid to the Site identifier in the animate function's namespace.\n",
    "animate100.Site = forestGrid100\n",
    "\n",
    "# display the forest fire images\n",
    "anim100 = animation.FuncAnimation(fig100, animate100, interval=frame_Interval, frames=50)\n",
    "anim100.save('forest_fire_moore_neighborhood_{0}_parallel.gif'.format(forest_size100))\n",
    "\n",
    "plt.show()"
   ]
  },
  {
   "cell_type": "code",
   "execution_count": 19,
   "metadata": {},
   "outputs": [
    {
     "name": "stdout",
     "output_type": "stream",
     "text": [
      "Initializing the forest...\n",
      "Initialization completed. \n",
      "\n",
      "Forest Initialization (Parallel) completed in 0.004760600000736304 seconds\n",
      "Forest Fire Spread (Parallel) completed in 0.010486200000741519 seconds\n"
     ]
    },
    {
     "data": {
      "image/png": "[encoded data removed]",
      "text/plain": [
       "<Figure size 720x720 with 1 Axes>"
      ]
     },
     "metadata": {
      "needs_background": "light"
     },
     "output_type": "display_data"
    }
   ],
   "source": [
    "# time at start of visualization\n",
    "initTime400 = time.perf_counter()\n",
    "\n",
    "# generate the forest grid\n",
    "forest_size400 = 400\n",
    "forestGrid400 = parallel_forest_initializer(forest_size400)\n",
    "\n",
    "print('Forest Initialization (Parallel) completed in {0} seconds'.format(time.perf_counter() - initTime400))\n",
    "\n",
    "forestGrid400_eval = parallel_wrapAndExtendBoundaries(forestGrid400, forest_size400)\n",
    "\n",
    "print('Forest Fire Spread (Parallel) completed in {0} seconds'.format(time.perf_counter() - initTime400))\n",
    "\n",
    "# initialize the plot for the forest\n",
    "fig400 = plt.figure(figsize=(10, 10))\n",
    "ax = fig400.add_subplot(111)\n",
    "ax.set_axis_off()\n",
    "forestSite400 = ax.imshow(forestGrid400, cmap=cmap, norm=norm)\n",
    "ax.set_title('(Parallel) Simulation of Fire Spread for Forest Grid Size {0}'.format(forest_size400))\n",
    "\n",
    "# The animation function: called to produce a frame for each fire spread.\n",
    "def animate400(i):\n",
    "    forestSite400.set_data(animate400.Site)\n",
    "    \n",
    "    # we will use the moore neighborhood algorithm for spreading the fire\n",
    "    animate400.Site = parallel_wrapAndExtendBoundaries(animate400.Site, forest_size400)\n",
    "    \n",
    "# Bind the grid to the Site identifier in the animate function's namespace.\n",
    "animate400.Site = forestGrid400\n",
    "\n",
    "# display the forest fire images\n",
    "anim400 = animation.FuncAnimation(fig400, animate400, interval=frame_Interval, frames=50)\n",
    "anim400.save('forest_fire_moore_neighborhood_{0}_parallel.gif'.format(forest_size400))\n",
    "\n",
    "plt.show()"
   ]
  },
  {
   "cell_type": "code",
   "execution_count": 20,
   "metadata": {},
   "outputs": [
    {
     "name": "stdout",
     "output_type": "stream",
     "text": [
      "Initializing the forest...\n",
      "Initialization completed. \n",
      "\n",
      "Forest Initialization (Parallel) completed in 0.02261240000007092 seconds\n",
      "Forest Fire Spread (Parallel) completed in 0.04665980000208947 seconds\n"
     ]
    },
    {
     "data": {
      "image/png": "[encoded data removed]",
      "text/plain": [
       "<Figure size 720x720 with 1 Axes>"
      ]
     },
     "metadata": {
      "needs_background": "light"
     },
     "output_type": "display_data"
    }
   ],
   "source": [
    "# time at start of visualization\n",
    "initTime800 = time.perf_counter()\n",
    "\n",
    "# generate the forest grid\n",
    "forest_size800 = 800\n",
    "forestGrid800 = parallel_forest_initializer(forest_size800)\n",
    "\n",
    "print('Forest Initialization (Parallel) completed in {0} seconds'.format(time.perf_counter() - initTime800))\n",
    "\n",
    "forestGrid800_eval = parallel_wrapAndExtendBoundaries(forestGrid800, forest_size800)\n",
    "\n",
    "print('Forest Fire Spread (Parallel) completed in {0} seconds'.format(time.perf_counter() - initTime800))\n",
    "\n",
    "# initialize the plot for the forest\n",
    "fig800 = plt.figure(figsize=(10, 10))\n",
    "ax = fig800.add_subplot(111)\n",
    "ax.set_axis_off()\n",
    "forestSite800 = ax.imshow(forestGrid800, cmap=cmap, norm=norm)\n",
    "ax.set_title('(Parallel) Simulation of Fire Spread for Forest Grid Size {0}'.format(forest_size800))\n",
    "\n",
    "# The animation function: called to produce a frame for each fire spread.\n",
    "def animate800(i):\n",
    "    forestSite800.set_data(animate800.Site)\n",
    "    \n",
    "    # we will use the moore neighborhood algorithm for spreading the fire\n",
    "    animate800.Site = parallel_wrapAndExtendBoundaries(animate800.Site, forest_size800)\n",
    "    \n",
    "# Bind the grid to the Site identifier in the animate function's namespace.\n",
    "animate800.Site = forestGrid800\n",
    "\n",
    "# display the forest fire images\n",
    "anim800 = animation.FuncAnimation(fig800, animate800, interval=frame_Interval, frames=50)\n",
    "anim800.save('forest_fire_moore_neighborhood_{0}_parallel.gif'.format(forest_size800))\n",
    "\n",
    "plt.show()"
   ]
  },
  {
   "cell_type": "code",
   "execution_count": 21,
   "metadata": {},
   "outputs": [
    {
     "name": "stdout",
     "output_type": "stream",
     "text": [
      "Initializing the forest...\n",
      "Initialization completed. \n",
      "\n",
      "Forest Initialization (Parallel) completed in 0.02323930000056862 seconds\n",
      "Forest Fire Spread (Parallel) completed in 0.052055800002563046 seconds\n"
     ]
    },
    {
     "data": {
      "image/png": "[encoded data removed]",
      "text/plain": [
       "<Figure size 1080x1080 with 1 Axes>"
      ]
     },
     "metadata": {
      "needs_background": "light"
     },
     "output_type": "display_data"
    }
   ],
   "source": [
    "# time at start of visualization\n",
    "initTime1000 = time.perf_counter()\n",
    "\n",
    "# generate the forest grid\n",
    "forest_size1000 = 1000\n",
    "forestGrid1000 = parallel_forest_initializer(forest_size1000)\n",
    "\n",
    "print('Forest Initialization (Parallel) completed in {0} seconds'.format(time.perf_counter() - initTime1000))\n",
    "\n",
    "forestGrid1000_eval = parallel_wrapAndExtendBoundaries(forestGrid1000, forest_size1000)\n",
    "\n",
    "print('Forest Fire Spread (Parallel) completed in {0} seconds'.format(time.perf_counter() - initTime1000))\n",
    "\n",
    "# initialize the plot for the forest\n",
    "fig1000 = plt.figure(figsize=(15, 15))\n",
    "ax = fig1000.add_subplot(111)\n",
    "ax.set_axis_off()\n",
    "forestSite1000 = ax.imshow(forestGrid1000, cmap=cmap, norm=norm)\n",
    "ax.set_title('(Parallel) Simulation of Fire Spread for Forest Grid Size {0}'.format(forest_size1000))\n",
    "\n",
    "# The animation function: called to produce a frame for each fire spread.\n",
    "def animate1000(i):\n",
    "    forestSite1000.set_data(animate1000.Site)\n",
    "    \n",
    "    # we will use the moore neighborhood algorithm for spreading the fire\n",
    "    animate1000.Site = parallel_wrapAndExtendBoundaries(animate1000.Site, forest_size1000)\n",
    "    \n",
    "# Bind the grid to the Site identifier in the animate function's namespace.\n",
    "animate1000.Site = forestGrid1000\n",
    "\n",
    "# display the forest fire images\n",
    "anim1000 = animation.FuncAnimation(fig1000, animate1000, interval=frame_Interval, frames=50)\n",
    "anim1000.save('forest_fire_moore_neighborhood_{0}_parallel.gif'.format(forest_size1000))\n",
    "\n",
    "plt.show()"
   ]
  },
  {
   "cell_type": "code",
   "execution_count": 22,
   "metadata": {},
   "outputs": [
    {
     "name": "stdout",
     "output_type": "stream",
     "text": [
      "Initializing the forest...\n",
      "Initialization completed. \n",
      "\n",
      "Forest Initialization (Parallel) completed in 0.03126770000017132 seconds\n",
      "Forest Fire Spread (Parallel) completed in 0.07287020000148914 seconds\n"
     ]
    },
    {
     "data": {
      "image/png": "[encoded data removed]",
      "text/plain": [
       "<Figure size 1080x1080 with 1 Axes>"
      ]
     },
     "metadata": {
      "needs_background": "light"
     },
     "output_type": "display_data"
    }
   ],
   "source": [
    "# time at start of visualization\n",
    "initTime1200 = time.perf_counter()\n",
    "\n",
    "# generate the forest grid\n",
    "forest_size1200 = 1200\n",
    "forestGrid1200 = parallel_forest_initializer(forest_size1200)\n",
    "\n",
    "print('Forest Initialization (Parallel) completed in {0} seconds'.format(time.perf_counter() - initTime1200))\n",
    "\n",
    "forestGrid1200_eval = parallel_wrapAndExtendBoundaries(forestGrid1200, forest_size1200)\n",
    "\n",
    "print('Forest Fire Spread (Parallel) completed in {0} seconds'.format(time.perf_counter() - initTime1200))\n",
    "\n",
    "# initialize the plot for the forest\n",
    "fig1200 = plt.figure(figsize=(15, 15))\n",
    "ax = fig1200.add_subplot(111)\n",
    "ax.set_axis_off()\n",
    "forestSite1200 = ax.imshow(forestGrid1200, cmap=cmap, norm=norm)\n",
    "ax.set_title('(Parallel) Simulation of Fire Spread for Forest Grid Size {0}'.format(forest_size1200))\n",
    "\n",
    "# The animation function: called to produce a frame for each fire spread.\n",
    "def animate1200(i):\n",
    "    forestSite1200.set_data(animate1200.Site)\n",
    "    \n",
    "    # we will use the moore neighborhood algorithm for spreading the fire\n",
    "    animate1200.Site = parallel_wrapAndExtendBoundaries(animate1200.Site, forest_size1200)\n",
    "    \n",
    "# Bind the grid to the Site identifier in the animate function's namespace.\n",
    "animate1200.Site = forestGrid1200\n",
    "\n",
    "# display the forest fire images\n",
    "anim1200 = animation.FuncAnimation(fig1200, animate1200, interval=frame_Interval, frames=50)\n",
    "anim1200.save('forest_fire_moore_neighborhood_{0}_parallel.gif'.format(forest_size1200))\n",
    "\n",
    "plt.show()"
   ]
  },
  {
   "cell_type": "code",
   "execution_count": 23,
   "metadata": {},
   "outputs": [
    {
     "name": "stdout",
     "output_type": "stream",
     "text": [
      "Initializing the forest...\n",
      "Initialization completed. \n",
      "\n",
      "Forest Initialization (Parallel) completed in 0.09323550000044634 seconds\n",
      "Forest Fire Spread (Parallel) completed in 0.2172342000012577 seconds\n"
     ]
    },
    {
     "data": {
      "image/png": "[encoded data removed]",
      "text/plain": [
       "<Figure size 1080x1080 with 1 Axes>"
      ]
     },
     "metadata": {
      "needs_background": "light"
     },
     "output_type": "display_data"
    }
   ],
   "source": [
    "# time at start of visualization\n",
    "initTime2000 = time.perf_counter()\n",
    "\n",
    "# generate the forest grid\n",
    "forest_size2000 = 2000\n",
    "forestGrid2000 = parallel_forest_initializer(forest_size2000)\n",
    "\n",
    "print('Forest Initialization (Parallel) completed in {0} seconds'.format(time.perf_counter() - initTime2000))\n",
    "\n",
    "forestGrid2000_eval = parallel_wrapAndExtendBoundaries(forestGrid2000, forest_size2000)\n",
    "\n",
    "print('Forest Fire Spread (Parallel) completed in {0} seconds'.format(time.perf_counter() - initTime2000))\n",
    "\n",
    "# initialize the plot for the forest\n",
    "fig2000 = plt.figure(figsize=(15, 15))\n",
    "ax = fig2000.add_subplot(111)\n",
    "ax.set_axis_off()\n",
    "forestSite2000 = ax.imshow(forestGrid2000, cmap=cmap, norm=norm)\n",
    "ax.set_title('(Parallel) Simulation of Fire Spread for Forest Grid Size {0}'.format(forest_size2000))\n",
    "\n",
    "# The animation function: called to produce a frame for each fire spread.\n",
    "def animate2000(i):\n",
    "    forestSite2000.set_data(animate2000.Site)\n",
    "    \n",
    "    # we will use the moore neighborhood algorithm for spreading the fire\n",
    "    animate2000.Site = parallel_wrapAndExtendBoundaries(animate2000.Site, forest_size2000)\n",
    "    \n",
    "# Bind the grid to the Site identifier in the animate function's namespace.\n",
    "animate2000.Site = forestGrid2000\n",
    "\n",
    "# display the forest fire images\n",
    "anim2000 = animation.FuncAnimation(fig2000, animate2000, interval=frame_Interval, frames=50)\n",
    "anim2000.save('forest_fire_moore_neighborhood_{0}_parallel.gif'.format(forest_size2000))\n",
    "\n",
    "plt.show()"
   ]
  },
  {
   "cell_type": "code",
   "execution_count": null,
   "metadata": {},
   "outputs": [],
   "source": []
  }
 ],
 "metadata": {
  "interpreter": {
   "hash": "5704274cb951f572e1e3c019390b17c6991ef2f9c8f28d85e40db3c5715540b3"
  },
  "kernelspec": {
   "display_name": "venv",
   "language": "python",
   "name": "python3"
  },
  "language_info": {
   "codemirror_mode": {
    "name": "ipython",
    "version": 3
   },
   "file_extension": ".py",
   "mimetype": "text/x-python",
   "name": "python",
   "nbconvert_exporter": "python",
   "pygments_lexer": "ipython3",
   "version": "3.10.0"
  }
 },
 "nbformat": 4,
 "nbformat_minor": 2
}
